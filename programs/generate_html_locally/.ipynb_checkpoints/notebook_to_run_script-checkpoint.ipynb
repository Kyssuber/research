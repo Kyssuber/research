{
 "cells": [
  {
   "cell_type": "code",
   "execution_count": 277,
   "id": "2de3e5a0-861d-45dc-96ee-5acf0e2777d4",
   "metadata": {
    "tags": []
   },
   "outputs": [
    {
     "name": "stdout",
     "output_type": "stream",
     "text": [
      "USAGE:\n",
      "    ---Running this program automatically initiates the HomePage class (hp)\n",
      "    ---if the -test arg is False, then replace single_galpage with hp in order to generate all images and such:\n",
      "            --hp.html_setup() --> create .html homepages for all galaxies in the VF subsample; also initiates GalPage \n",
      "            class(single_galpage) for every galaxy in a loop, creating all relevant folders and files.\n",
      "            --hp.create_LS_figures()\n",
      "            --hp.create_galfit_mosaics(psf_index) --> (w3, nopsf), 1 (w3, psf), 2 (w1, nopsf), 3 (w1, psf)\n",
      "    ---If the -test arg is True, then the user is wanting to test the GalPage class (this is a stategic idea, \n",
      "            since this class contains the bulk of the functions required for the script to run successfully). \n",
      "            In this case, the script automatically defines a single galpage class (single_galpage; \n",
      "            uses index 0 for a random test galaxy), with which the user can test the following methods:\n",
      "            --single_galpage.compile_LS_cutouts()\n",
      "            --single_galpage.create_LS_mosaics()\n",
      "            --single_galpage.create_model_mosaics_names()\n",
      "            --single_galpage.create_model_mosaics(psf_index) --> 0 (w3, nopsf), 1 (w3, psf), 2 (w1, nopsf), 3 (w1, psf)\n",
      "            --single_galpage.tabulate_parameters()\n",
      "            --single_galpage.WRITETHEGALPAGE()\n",
      "            \n",
      "            **NOTE** Surprise, surprise, the Macbook does not enjoy generating four .PNG images for 600+ galaxy mosaics. \n",
      "            I 'decomposed' create_model_mosaics() and added a psf_index variable to help avoid memory fragmentation...\n",
      "            \n",
      "            \n",
      "    \n",
      "-----------------------------------------------------\n",
      "\n",
      "Single galaxy class single_galpage all set for testing. See printed instructions above.\n"
     ]
    }
   ],
   "source": [
    "%run build_html_website.py -param_file params_build_html_website.txt -test True"
   ]
  },
  {
   "cell_type": "code",
   "execution_count": null,
   "id": "aec93f3a-e1a0-46e0-bf20-1e1563f52f3b",
   "metadata": {
    "scrolled": true,
    "tags": []
   },
   "outputs": [],
   "source": [
    "hp.html_setup()"
   ]
  },
  {
   "cell_type": "code",
   "execution_count": null,
   "id": "6111fae2-f356-4d9f-8744-cf72e2631913",
   "metadata": {
    "tags": []
   },
   "outputs": [],
   "source": [
    "#ONLY CONCERN THYSELF WITH INDICES 1 AND 3 FOR NOW --> THE PSF CASES.\n",
    "#hp.create_galfit_mosaics(1)\n",
    "#hp.create_galfit_mosaics(3)\n",
    "#hp.create_LS_figures()"
   ]
  },
  {
   "cell_type": "markdown",
   "id": "c5ca1e46-874f-4a5c-9fd3-e7c7ccd52bad",
   "metadata": {},
   "source": [
    "---"
   ]
  },
  {
   "cell_type": "markdown",
   "id": "cf27039d-e25c-4dce-8bb9-dd9d142f4165",
   "metadata": {},
   "source": [
    "### Testing Area"
   ]
  },
  {
   "cell_type": "code",
   "execution_count": 278,
   "id": "dc24abc8-615b-4202-8bfc-3c2ed57d0786",
   "metadata": {
    "tags": []
   },
   "outputs": [
    {
     "name": "stdout",
     "output_type": "stream",
     "text": [
      "groupname: NGC2820_GROUP\n",
      "  VFID      XC    XC_ERR    YC    ... CCHI2NU Numerical_Error CNumerical_Error\n",
      "-------- -------- ------ -------- ... ------- --------------- ----------------\n",
      "VFID0283 216.2339 0.0127 153.9174 ...     0.0            True             True\n",
      "  VFID      XC    XC_ERR    YC    ... CCHI2NU Numerical_Error CNumerical_Error\n",
      "-------- -------- ------ -------- ... ------- --------------- ----------------\n",
      "VFID0283 216.4294 0.0049 152.5951 ...     0.0           False            False\n"
     ]
    }
   ],
   "source": [
    "single_galpage.create_model_mosaics_names()\n",
    "\n",
    "single_galpage.create_model_mosaics(1)\n",
    "single_galpage.tabulate_parameters()\n",
    "single_galpage.compile_LS_cutouts()\n",
    "single_galpage.create_LS_mosaics()"
   ]
  },
  {
   "cell_type": "code",
   "execution_count": 274,
   "id": "4533ff7f-0ce7-4d98-8491-3285575eafb4",
   "metadata": {
    "tags": []
   },
   "outputs": [
    {
     "ename": "UFuncTypeError",
     "evalue": "ufunc 'add' did not contain a loop with signature matching types (dtype('<U8'), dtype('S8')) -> None",
     "output_type": "error",
     "traceback": [
      "\u001b[0;31m---------------------------------------------------------------------------\u001b[0m",
      "\u001b[0;31mUFuncTypeError\u001b[0m                            Traceback (most recent call last)",
      "Cell \u001b[0;32mIn[274], line 1\u001b[0m\n\u001b[0;32m----> 1\u001b[0m single_galpage\u001b[38;5;241m.\u001b[39mWRITETHEGALPAGE()\n",
      "File \u001b[0;32m~/github/research/programs/generate_html_locally/build_html_website.py:638\u001b[0m, in \u001b[0;36mWRITETHEGALPAGE\u001b[0;34m(self)\u001b[0m\n\u001b[1;32m    636\u001b[0m \u001b[38;5;28;01mfor\u001b[39;00m p \u001b[38;5;129;01min\u001b[39;00m \u001b[38;5;28mrange\u001b[39m(\u001b[38;5;241m1\u001b[39m,\u001b[38;5;241m15\u001b[39m):\n\u001b[1;32m    637\u001b[0m     item \u001b[38;5;241m=\u001b[39m params[p]\u001b[38;5;241m.\u001b[39mdata\n\u001b[0;32m--> 638\u001b[0m     item \u001b[38;5;241m=\u001b[39m item[\u001b[38;5;241m0\u001b[39m]             \u001b[38;5;66;03m#silly new index conventions smh\u001b[39;00m\n\u001b[1;32m    639\u001b[0m     html\u001b[38;5;241m.\u001b[39mwrite(\u001b[38;5;124mf\u001b[39m\u001b[38;5;124m'\u001b[39m\u001b[38;5;124m<td>\u001b[39m\u001b[38;5;132;01m{\u001b[39;00mitem\u001b[38;5;132;01m}\u001b[39;00m\u001b[38;5;124m</td> \u001b[39m\u001b[38;5;130;01m\\n\u001b[39;00m\u001b[38;5;124m'\u001b[39m)\n\u001b[1;32m    640\u001b[0m \u001b[38;5;28;01mif\u001b[39;00m num\u001b[38;5;241m==\u001b[39m\u001b[38;5;28mself\u001b[39m\u001b[38;5;241m.\u001b[39mncomp\u001b[38;5;241m-\u001b[39m\u001b[38;5;241m1\u001b[39m:\n\u001b[1;32m    641\u001b[0m     \u001b[38;5;66;03m#still silly new index conventionsssss.\u001b[39;00m\n",
      "\u001b[0;31mUFuncTypeError\u001b[0m: ufunc 'add' did not contain a loop with signature matching types (dtype('<U8'), dtype('S8')) -> None"
     ]
    }
   ],
   "source": [
    "single_galpage.WRITETHEGALPAGE()"
   ]
  },
  {
   "cell_type": "markdown",
   "id": "685ce9d0-1258-41cf-aa78-c9a715e09840",
   "metadata": {},
   "source": [
    "---"
   ]
  },
  {
   "cell_type": "markdown",
   "id": "fd994680-a64e-4432-9a6a-6bd0a194333a",
   "metadata": {},
   "source": [
    "- scramble eggs like the atmosphere scrambles photons\n",
    "- deconvolution --> try to put scatter/smeared light back where it came from; sharpens image. \n",
    "- convolution --> take GALFIT model, which assumes a point source resembles a point source, and *smears it*...morphs model into a version that more correctly resembles the original 'blurry' nature of the galaxy cutout\n",
    "\n",
    "- MS y-intercept evolves with time --> shifts upward for higher redshift, due to there being higher average SFR"
   ]
  }
 ],
 "metadata": {
  "kernelspec": {
   "display_name": "Python 3 (ipykernel)",
   "language": "python",
   "name": "python3"
  },
  "language_info": {
   "codemirror_mode": {
    "name": "ipython",
    "version": 3
   },
   "file_extension": ".py",
   "mimetype": "text/x-python",
   "name": "python",
   "nbconvert_exporter": "python",
   "pygments_lexer": "ipython3",
   "version": "3.11.4"
  }
 },
 "nbformat": 4,
 "nbformat_minor": 5
}
