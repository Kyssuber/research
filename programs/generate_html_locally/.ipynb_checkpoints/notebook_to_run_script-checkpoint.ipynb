{
 "cells": [
  {
   "cell_type": "code",
   "execution_count": 1,
   "id": "2de3e5a0-861d-45dc-96ee-5acf0e2777d4",
   "metadata": {
    "tags": []
   },
   "outputs": [
    {
     "name": "stderr",
     "output_type": "stream",
     "text": [
      "\n",
      "KeyboardInterrupt\n",
      "\n"
     ]
    }
   ],
   "source": [
    "%run build_html_website.py -param_file params_build_html_website_mask.txt -test False"
   ]
  },
  {
   "cell_type": "code",
   "execution_count": 23,
   "id": "6111fae2-f356-4d9f-8744-cf72e2631913",
   "metadata": {
    "tags": []
   },
   "outputs": [
    {
     "name": "stdout",
     "output_type": "stream",
     "text": [
      "Creating mask mosaic for VFID6712\n",
      "Creating mask mosaic for VFID6719\n",
      "NGC4355_GROUP has no mask images.\n",
      "Creating mask mosaic for VFID6742\n",
      "Creating mask mosaic for VFID6745\n",
      "Creating mask mosaic for VFID6756\n",
      "Creating mask mosaic for VFID6759\n"
     ]
    }
   ],
   "source": [
    "#hp.create_galfit_mosaics(3)\n",
    "#hp.create_LS_figures()\n",
    "hp.create_mask_mosaics()"
   ]
  },
  {
   "cell_type": "code",
   "execution_count": null,
   "id": "aec93f3a-e1a0-46e0-bf20-1e1563f52f3b",
   "metadata": {},
   "outputs": [],
   "source": [
    "hp.html_setup()"
   ]
  },
  {
   "cell_type": "markdown",
   "id": "fd994680-a64e-4432-9a6a-6bd0a194333a",
   "metadata": {},
   "source": [
    "- scramble eggs like the atmosphere scrambles photons\n",
    "- deconvolution --> try to put scatter/smeared light back where it came from; sharpens image. \n",
    "- convolution --> take GALFIT model, which assumes a point source resembles a point source, and *smears it*...morphs model into a version that more correctly resembles the original 'blurry' nature of the galaxy cutout\n",
    "\n",
    "- MS y-intercept evolves with time --> shifts upward for higher redshift, due to there being higher average SFR"
   ]
  },
  {
   "cell_type": "code",
   "execution_count": null,
   "id": "5b0fc1cf-72f1-4517-9341-57430d6d542d",
   "metadata": {},
   "outputs": [],
   "source": []
  }
 ],
 "metadata": {
  "kernelspec": {
   "display_name": "Python 3 (ipykernel)",
   "language": "python",
   "name": "python3"
  },
  "language_info": {
   "codemirror_mode": {
    "name": "ipython",
    "version": 3
   },
   "file_extension": ".py",
   "mimetype": "text/x-python",
   "name": "python",
   "nbconvert_exporter": "python",
   "pygments_lexer": "ipython3",
   "version": "3.11.4"
  }
 },
 "nbformat": 4,
 "nbformat_minor": 5
}
