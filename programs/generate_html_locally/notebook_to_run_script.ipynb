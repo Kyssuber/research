{
 "cells": [
  {
   "cell_type": "code",
   "execution_count": 14,
   "id": "2de3e5a0-861d-45dc-96ee-5acf0e2777d4",
   "metadata": {
    "tags": []
   },
   "outputs": [
    {
     "name": "stdout",
     "output_type": "stream",
     "text": [
      "USAGE:\n",
      "    ---Running this program automatically initiates the HomePage class (hp)\n",
      "    ---if the -test arg is False, then replace single_galpage with hp in order to generate all images and such:\n",
      "            --hp.html_setup() --> create .html homepages for all galaxies in the VF subsample; also initiates GalPage \n",
      "            class(single_galpage) for every galaxy in a loop, creating all relevant folders and files.\n",
      "            --hp.create_LS_figures()\n",
      "            --hp.create_galfit_mosaics(psf_index) --> (w3, nopsf), 1 (w3, psf), 2 (w1, nopsf), 3 (w1, psf)\n",
      "    ---If the -test arg is True, then the user is wanting to test the GalPage class (this is a stategic idea, \n",
      "            since this class contains the bulk of the functions required for the script to run successfully). \n",
      "            In this case, the script automatically defines a single galpage class (single_galpage; \n",
      "            uses index 0 for a random test galaxy), with which the user can test the following methods:\n",
      "            --single_galpage.compile_LS_cutouts()\n",
      "            --single_galpage.create_LS_mosaics()\n",
      "            --single_galpage.create_model_mosaics_names()\n",
      "            --single_galpage.create_model_mosaics(psf_index) --> 0 (w3, nopsf), 1 (w3, psf), 2 (w1, nopsf), 3 (w1, psf)\n",
      "            --single_galpage.tabulate_parameters()\n",
      "            --single_galpage.WRITETHEGALPAGE()\n",
      "            \n",
      "            **NOTE** Surprise, surprise, the Macbook does not enjoy generating four .PNG images for 600+ galaxy mosaics. \n",
      "            I 'decomposed' create_model_mosaics() and added a psf_index variable to help avoid memory fragmentation...\n",
      "            \n",
      "            \n",
      "    \n",
      "-----------------------------------------------------\n",
      "\n"
     ]
    }
   ],
   "source": [
    "%run build_html_website.py -param_file params_build_html_website.txt -test False"
   ]
  },
  {
   "cell_type": "code",
   "execution_count": 16,
   "id": "6111fae2-f356-4d9f-8744-cf72e2631913",
   "metadata": {
    "tags": []
   },
   "outputs": [],
   "source": [
    "#ONLY CONCERN THYSELF WITH INDICES 1 AND 3 FOR NOW --> THE PSF CASES.\n",
    "#should run these first.\n",
    "#hp.create_galfit_mosaics(1)\n",
    "#hp.create_galfit_mosaics(3)\n",
    "hp.create_LS_figures()"
   ]
  },
  {
   "cell_type": "code",
   "execution_count": 17,
   "id": "aec93f3a-e1a0-46e0-bf20-1e1563f52f3b",
   "metadata": {
    "scrolled": true,
    "tags": []
   },
   "outputs": [
    {
     "name": "stdout",
     "output_type": "stream",
     "text": [
      "group name: NGC4904\n",
      "Creating htmlpage for VFID6643\n",
      "group name: NGC4632\n",
      "Creating htmlpage for VFID6647\n",
      "group name: UGC10288\n",
      "Creating htmlpage for VFID6666\n",
      "group name: NGC5750\n",
      "Creating htmlpage for VFID6667\n",
      "group name: NGC5713\n",
      "Creating htmlpage for VFID6673\n",
      "group name: NGC5719\n",
      "Creating htmlpage for VFID6677\n",
      "group name: NGC5584\n",
      "Creating htmlpage for VFID6688\n",
      "group name: NGC5691\n",
      "Creating htmlpage for VFID6689\n",
      "group name: NGC4592\n",
      "Creating htmlpage for VFID6708\n",
      "group name: NGC4653\n",
      "Creating htmlpage for VFID6712\n",
      "group name: NGC4642\n",
      "Creating htmlpage for VFID6719\n",
      "group name: NGC4355\n",
      "Creating htmlpage for VFID6742\n",
      "group name: UGC06402\n",
      "Creating htmlpage for VFID6745\n",
      "group name: NGC4030\n",
      "Creating htmlpage for VFID6759\n",
      "group name: NGC5496\n",
      "Creating htmlpage for VFID6763\n",
      "group name: UGC07883\n",
      "Creating htmlpage for VFID6770\n"
     ]
    }
   ],
   "source": [
    "hp.html_setup()"
   ]
  },
  {
   "cell_type": "markdown",
   "id": "c5ca1e46-874f-4a5c-9fd3-e7c7ccd52bad",
   "metadata": {},
   "source": [
    "---"
   ]
  },
  {
   "cell_type": "markdown",
   "id": "cf27039d-e25c-4dce-8bb9-dd9d142f4165",
   "metadata": {},
   "source": [
    "### Testing Area"
   ]
  },
  {
   "cell_type": "code",
   "execution_count": 309,
   "id": "dc24abc8-615b-4202-8bfc-3c2ed57d0786",
   "metadata": {
    "tags": []
   },
   "outputs": [
    {
     "name": "stdout",
     "output_type": "stream",
     "text": [
      "groupname: NGC2820_GROUP\n"
     ]
    }
   ],
   "source": [
    "single_galpage.create_model_mosaics_names()\n",
    "\n",
    "single_galpage.create_model_mosaics(3)\n",
    "single_galpage.tabulate_parameters()\n",
    "single_galpage.compile_LS_cutouts()\n",
    "single_galpage.create_LS_mosaics()"
   ]
  },
  {
   "cell_type": "code",
   "execution_count": 310,
   "id": "4533ff7f-0ce7-4d98-8491-3285575eafb4",
   "metadata": {
    "tags": []
   },
   "outputs": [
    {
     "name": "stdout",
     "output_type": "stream",
     "text": [
      "/Users/k215c316/VFID0281.html\n"
     ]
    }
   ],
   "source": [
    "single_galpage.WRITETHEGALPAGE()"
   ]
  },
  {
   "cell_type": "markdown",
   "id": "685ce9d0-1258-41cf-aa78-c9a715e09840",
   "metadata": {},
   "source": [
    "---"
   ]
  },
  {
   "cell_type": "markdown",
   "id": "fd994680-a64e-4432-9a6a-6bd0a194333a",
   "metadata": {},
   "source": [
    "- scramble eggs like the atmosphere scrambles photons\n",
    "- deconvolution --> try to put scatter/smeared light back where it came from; sharpens image. \n",
    "- convolution --> take GALFIT model, which assumes a point source resembles a point source, and *smears it*...morphs model into a version that more correctly resembles the original 'blurry' nature of the galaxy cutout\n",
    "\n",
    "- MS y-intercept evolves with time --> shifts upward for higher redshift, due to there being higher average SFR"
   ]
  }
 ],
 "metadata": {
  "kernelspec": {
   "display_name": "Python 3 (ipykernel)",
   "language": "python",
   "name": "python3"
  },
  "language_info": {
   "codemirror_mode": {
    "name": "ipython",
    "version": 3
   },
   "file_extension": ".py",
   "mimetype": "text/x-python",
   "name": "python",
   "nbconvert_exporter": "python",
   "pygments_lexer": "ipython3",
   "version": "3.11.4"
  }
 },
 "nbformat": 4,
 "nbformat_minor": 5
}
