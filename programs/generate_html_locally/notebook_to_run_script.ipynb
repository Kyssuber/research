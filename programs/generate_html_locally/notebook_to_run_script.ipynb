{
 "cells": [
  {
   "cell_type": "code",
   "execution_count": 30,
   "id": "2de3e5a0-861d-45dc-96ee-5acf0e2777d4",
   "metadata": {},
   "outputs": [
    {
     "name": "stdout",
     "output_type": "stream",
     "text": [
      "USAGE:\n",
      "    ---Running this program automatically initiates the HomePage class (hp)\n",
      "    ---if the -test arg is False, then replace single_galpage with hp in order to generate all images and such:\n",
      "            --hp.html_setup() --> create .html homepages for all galaxies in the VF subsample; also initiates GalPage \n",
      "            class(single_galpage) for every galaxy in a loop, creating all relevant folders and files.\n",
      "            --hp.create_LS_figures()\n",
      "            --hp.create_galfit_mosaics()\n",
      "            --hp.create_mask_mosaics(psf_index) --> (w3, nopsf), 1 (w3, psf), 2 (r, nopsf), 3 (r, psf)\n",
      "    ---If the -test arg is True, then the user is wanting to test the GalPage class (this is a stategic idea, \n",
      "            since this class contains the bulk of the functions required for the script to run successfully). \n",
      "            In this case, the script automatically defines a single galpage class (single_galpage; \n",
      "            uses index 0 for a random test galaxy), with which the user can test the following methods:\n",
      "            --single_galpage.compile_LS_cutouts()\n",
      "            --single_galpage.create_LS_mosaics()\n",
      "            --single_galpage.create_model_mosaics_names()\n",
      "            --single_galpage.create_model_mosaics(psf_index) --> 0 (w3, nopsf), 1 (w3, psf), 2 (r, nopsf), 3 (r, psf)\n",
      "            --single_galpage.create_mask_mosaics()\n",
      "            --single_galpage.tabulate_parameters()\n",
      "            --single_galpage.WRITETHEGALPAGE()\n",
      "            \n",
      "            **NOTE** Surprise, surprise, the Macbook does not enjoy generating four .PNG images for 600+ galaxy mosaics. \n",
      "            I 'decomposed' create_model_mosaics() and added a psf_index variable to help avoid memory fragmentation...\n",
      "            \n",
      "            \n",
      "    \n",
      "-----------------------------------------------------\n",
      "\n"
     ]
    }
   ],
   "source": [
    "%run build_html_website.py -param_file params_build_html_website_mask.txt -test False"
   ]
  },
  {
   "cell_type": "code",
   "execution_count": 31,
   "id": "f5dee0b2-a0cb-4270-84dd-da0ec87ce6ea",
   "metadata": {},
   "outputs": [
    {
     "name": "stdout",
     "output_type": "stream",
     "text": [
      "Creating htmlpage for VFID6689\n",
      "Unable to create htmlpage for VFID6700\n",
      "Creating htmlpage for VFID6708\n",
      "Creating htmlpage for VFID6712\n",
      "Unable to create htmlpage for VFID6718\n",
      "Creating htmlpage for VFID6719\n",
      "NGC4355_GROUP has no mask images.\n",
      "Creating htmlpage for VFID6742\n",
      "Creating htmlpage for VFID6745\n",
      "Creating htmlpage for VFID6756\n",
      "Creating htmlpage for VFID6759\n",
      "Creating htmlpage for VFID6763\n",
      "UGC07883_GROUP has no mask images.\n",
      "Creating htmlpage for VFID6770\n"
     ]
    }
   ],
   "source": [
    "hp.html_setup()"
   ]
  },
  {
   "cell_type": "code",
   "execution_count": 139,
   "id": "3ccd6470-4073-49a4-88b8-16335c80cb83",
   "metadata": {},
   "outputs": [],
   "source": [
    "#hp.create_LS_figures()"
   ]
  },
  {
   "cell_type": "code",
   "execution_count": null,
   "id": "d612b3ca-5a62-4da9-8887-aa566be6a3ce",
   "metadata": {},
   "outputs": [],
   "source": []
  }
 ],
 "metadata": {
  "kernelspec": {
   "display_name": "Python 3 (ipykernel)",
   "language": "python",
   "name": "python3"
  },
  "language_info": {
   "codemirror_mode": {
    "name": "ipython",
    "version": 3
   },
   "file_extension": ".py",
   "mimetype": "text/x-python",
   "name": "python",
   "nbconvert_exporter": "python",
   "pygments_lexer": "ipython3",
   "version": "3.8.13"
  }
 },
 "nbformat": 4,
 "nbformat_minor": 5
}
