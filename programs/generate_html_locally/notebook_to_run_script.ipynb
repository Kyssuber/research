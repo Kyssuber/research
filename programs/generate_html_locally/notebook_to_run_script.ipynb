{
 "cells": [
  {
   "cell_type": "code",
   "execution_count": 9,
   "id": "2de3e5a0-861d-45dc-96ee-5acf0e2777d4",
   "metadata": {
    "tags": []
   },
   "outputs": [
    {
     "name": "stdout",
     "output_type": "stream",
     "text": [
      "USAGE:\n",
      "    ---Running this program automatically initiates the HomePage class (hp)\n",
      "    ---if the -test arg is False, then replace single_galpage with hp in order to generate all images and such:\n",
      "            --hp.html_setup() --> create .html homepages for all galaxies in the VF subsample; also initiates GalPage \n",
      "            class(single_galpage) for every galaxy in a loop, creating all relevant folders and files.\n",
      "            --hp.create_LS_figures()\n",
      "            --hp.create_galfit_mosaics(psf_index) --> (w3, nopsf), 1 (w3, psf), 2 (w1, nopsf), 3 (w1, psf)\n",
      "            --hp.create_mask_mosaics() \n",
      "    ---If the -test arg is True, then the user is wanting to test the GalPage class (this is a stategic idea, \n",
      "            since this class contains the bulk of the functions required for the script to run successfully). \n",
      "            In this case, the script automatically defines a single galpage class (single_galpage; \n",
      "            uses index 0 for a random test galaxy), with which the user can test the following methods:\n",
      "            --single_galpage.compile_LS_cutouts()\n",
      "            --single_galpage.create_LS_mosaics()\n",
      "            --single_galpage.create_model_mosaics_names()\n",
      "            --single_galpage.create_model_mosaics(psf_index) --> 0 (w3, nopsf), 1 (w3, psf), 2 (r, nopsf), 3 (r, psf)\n",
      "            --single_galpage.create_mask_mosaics()\n",
      "            --single_galpage.tabulate_parameters()\n",
      "            --single_galpage.WRITETHEGALPAGE()\n",
      "            \n",
      "            **NOTE** Surprise, surprise, the Macbook does not enjoy generating four .PNG images for 600+ galaxy mosaics. \n",
      "            I 'decomposed' create_model_mosaics() and added a psf_index variable to help avoid memory fragmentation...\n",
      "            \n",
      "            \n",
      "    \n",
      "-----------------------------------------------------\n",
      "\n"
     ]
    }
   ],
   "source": [
    "%run build_html_website.py -param_file params_build_html_website_mask.txt -test False"
   ]
  },
  {
   "cell_type": "code",
   "execution_count": 11,
   "id": "aec93f3a-e1a0-46e0-bf20-1e1563f52f3b",
   "metadata": {},
   "outputs": [
    {
     "name": "stdout",
     "output_type": "stream",
     "text": [
      "Creating htmlpage for VFID6399\n",
      "Creating htmlpage for VFID6411\n",
      "Creating htmlpage for VFID6550\n",
      "NGC3023_GROUP has no mask images.\n",
      "Creating htmlpage for VFID6564\n",
      "Creating htmlpage for VFID6602\n",
      "Creating htmlpage for VFID6643\n",
      "Creating htmlpage for VFID6647\n",
      "Creating htmlpage for VFID6673\n",
      "Creating htmlpage for VFID6689\n",
      "Creating htmlpage for VFID6708\n",
      "Creating htmlpage for VFID6712\n",
      "Creating htmlpage for VFID6719\n",
      "NGC4355_GROUP has no mask images.\n",
      "Creating htmlpage for VFID6742\n",
      "Creating htmlpage for VFID6745\n",
      "Creating htmlpage for VFID6756\n",
      "Creating htmlpage for VFID6759\n"
     ]
    }
   ],
   "source": [
    "hp.html_setup()"
   ]
  },
  {
   "cell_type": "code",
   "execution_count": 10,
   "id": "6111fae2-f356-4d9f-8744-cf72e2631913",
   "metadata": {
    "tags": []
   },
   "outputs": [],
   "source": [
    "#hp.create_galfit_mosaics(3)\n",
    "#hp.create_LS_figures()\n",
    "#hp.create_mask_mosaics()"
   ]
  },
  {
   "cell_type": "markdown",
   "id": "fd994680-a64e-4432-9a6a-6bd0a194333a",
   "metadata": {},
   "source": [
    "- scramble eggs like the atmosphere scrambles photons\n",
    "- deconvolution --> try to put scatter/smeared light back where it came from. \n",
    "- convolution --> take GALFIT model, which assumes a point source resembles a point source, and *smears it*...morphs model into a version that more correctly resembles the original 'blurry' nature of the galaxy cutout?\n",
    "\n",
    "- MS y-intercept evolves with time --> shifts upward for higher redshift, due to there being higher average SFR"
   ]
  },
  {
   "cell_type": "code",
   "execution_count": 12,
   "id": "af878392-a9cd-46a9-864f-ca1e5f26cb46",
   "metadata": {
    "tags": []
   },
   "outputs": [],
   "source": [
    "f=Table.read(homedir+'/output_params_W1_psf.fits')\n",
    "f2=Table.read(homedir+'/output_params_W3_psf.fits')\n",
    "vf=Table.read(homedir+'/v2_snrcoadd.fits')"
   ]
  },
  {
   "cell_type": "code",
   "execution_count": 5,
   "id": "3fdbdcdb-dc4e-46c7-91e5-ec5679b5ca5e",
   "metadata": {
    "tags": []
   },
   "outputs": [],
   "source": [
    "from astropy.io import fits"
   ]
  },
  {
   "cell_type": "code",
   "execution_count": 20,
   "id": "369542e7-6682-4fda-bb7f-13f27d83c0c3",
   "metadata": {
    "tags": []
   },
   "outputs": [],
   "source": [
    "f=fits.getdata(homedir+'/vf_html_w1/all_input_fits/PGC051309-custom-image-W1.fits')\n",
    "f2=fits.getdata(homedir+'/vf_html_w1/all_input_fits/PGC051309_GROUP-custom-image-W3.fits')"
   ]
  },
  {
   "cell_type": "code",
   "execution_count": 9,
   "id": "3328cf17-7530-477c-b4dd-8ef76b273236",
   "metadata": {
    "tags": []
   },
   "outputs": [
    {
     "data": {
      "text/plain": [
       "(71, 71)"
      ]
     },
     "execution_count": 9,
     "metadata": {},
     "output_type": "execute_result"
    }
   ],
   "source": [
    "f.shape"
   ]
  },
  {
   "cell_type": "code",
   "execution_count": 10,
   "id": "e0a4ab6f-7609-4179-97bf-7c408fd4b2a0",
   "metadata": {
    "tags": []
   },
   "outputs": [
    {
     "data": {
      "text/plain": [
       "(142, 142)"
      ]
     },
     "execution_count": 10,
     "metadata": {},
     "output_type": "execute_result"
    }
   ],
   "source": [
    "f2.shape"
   ]
  },
  {
   "cell_type": "code",
   "execution_count": 26,
   "id": "56cb4921-cf76-4cf4-9720-e4db376bfd0a",
   "metadata": {
    "tags": []
   },
   "outputs": [],
   "source": [
    "f2,header=fits.getdata(homedir+'/vf_html_w1/all_input_fits/PGC051309_GROUP-W1-out1.fits',2,header=True)"
   ]
  },
  {
   "cell_type": "code",
   "execution_count": 27,
   "id": "4d51e5f8-87ca-449c-bfb3-54cf0ce42bfb",
   "metadata": {
    "tags": []
   },
   "outputs": [
    {
     "data": {
      "text/plain": [
       "(142, 142)"
      ]
     },
     "execution_count": 27,
     "metadata": {},
     "output_type": "execute_result"
    }
   ],
   "source": [
    "f2.shape"
   ]
  },
  {
   "cell_type": "code",
   "execution_count": 21,
   "id": "e27ccc94-9878-4ba7-9313-ea97f44d3740",
   "metadata": {
    "tags": []
   },
   "outputs": [
    {
     "data": {
      "text/plain": [
       "<matplotlib.image.AxesImage at 0x1b2429950>"
      ]
     },
     "execution_count": 21,
     "metadata": {},
     "output_type": "execute_result"
    },
    {
     "data": {
      "image/png": "[encoded data removed]",
      "text/plain": [
       "<Figure size 640x480 with 1 Axes>"
      ]
     },
     "metadata": {},
     "output_type": "display_data"
    }
   ],
   "source": [
    "plt.imshow(f)"
   ]
  },
  {
   "cell_type": "code",
   "execution_count": 28,
   "id": "b76cddaf-e31a-470b-9fe7-ccfcca155bfd",
   "metadata": {
    "tags": []
   },
   "outputs": [
    {
     "data": {
      "text/plain": [
       "XTENSION= 'IMAGE   '           / IMAGE extension                                \n",
       "BITPIX  =                  -32 / Bits per pixel                                 \n",
       "NAXIS   =                    2 / Number of axes                                 \n",
       "NAXIS1  =                  142 / Length of data axis 1                          \n",
       "NAXIS2  =                  142 / Length of data axis 2                          \n",
       "OBJECT  = 'model   '           / Component type                                 \n",
       "COMMENT ========== GALFIT Input Parameters ==========                           \n",
       "INITFILE= 'galfit.input1'      / GALFIT input file                              \n",
       "DATAIN  = 'PGC051309_GROUP-custom-image-W1.fits' / Input data image             \n",
       "SIGMA   = 'PGC051309_GROUP-custom-std-W1.fits' / Input sigma image              \n",
       "PSF     = '        '           / Convolution PSF and kernel                     \n",
       "CONSTRNT= 'none    '           / Parameter constraint file                      \n",
       "MASK    = 'PGC051309_GROUP-custom-image-wise-mask.fits' / Input mask image      \n",
       "FITSECT = '[1:142,1:142]'      / Image section fitted                           \n",
       "CONVBOX = '0, 0    '           / Convolution box size                           \n",
       "MAGZPT  =                 22.5 / Magnitude zeropoint                            \n",
       "COMMENT ========== GALFIT Final Parameters ==========                           \n",
       "COMP_1  = 'sersic  '           / Component type                                 \n",
       "1_XC    = '82.9979 +/- 0.0137' / X center [pixel]                               \n",
       "1_YC    = '72.1881 +/- 0.0134' / Y center [pixel]                               \n",
       "1_MAG   = '11.2663 +/- 0.0066' / Integrated magnitude [mag]                     \n",
       "1_RE    = '3.3263 +/- 0.0237'  / Effective radius Re [pixels]                   \n",
       "1_N     = '0.8145 +/- 0.0137'  / Sersic index                                   \n",
       "1_AR    = '0.5239 +/- 0.0035'  / Axis ratio (b/a)                               \n",
       "1_PA    = '-45.2240 +/- 0.3716' / Position Angle (PA) [degrees: Up=0, Left=90]  \n",
       "COMMENT ------------------------------------------------------------------------\n",
       "COMP_2  = 'sersic  '           / Component type                                 \n",
       "2_XC    = '37.2838 +/- 0.0767' / X center [pixel]                               \n",
       "2_YC    = '69.4383 +/- 0.0788' / Y center [pixel]                               \n",
       "2_MAG   = '14.6098 +/- 0.0608' / Integrated magnitude [mag]                     \n",
       "2_RE    = '2.4470 +/- 0.2087'  / Effective radius Re [pixels]                   \n",
       "2_N     = '0.8591 +/- 0.1012'  / Sersic index                                   \n",
       "2_AR    = '0.9120 +/- 0.0536'  / Axis ratio (b/a)                               \n",
       "2_PA    = '-39.5122 +/- 29.6930' / Position Angle (PA) [degrees: Up=0, Left=90] \n",
       "COMMENT ------------------------------------------------------------------------\n",
       "COMP_3  = 'sky     '           / Component type                                 \n",
       "3_XC    = '[71.5000]'          / X center [pixel]                               \n",
       "3_YC    = '[71.5000]'          / Y center [pixel]                               \n",
       "3_SKY   = '2.4660 +/- 0.0507'  / Sky background [ADUs]                          \n",
       "3_DSDX  = '[0.000e+00]'        / x sky gradient [ADUs]                          \n",
       "3_DSDY  = '[0.000e+00]'        / y sky gradient [ADUs]                          \n",
       "COMMENT ------------------------------------------------------------------------\n",
       "FLAGS   = 'A-6 H-3 H-4 H-1 A-2 A-4 ' / See `galfit -help' for details.          \n",
       "COMMENT ------------------------------------------------------------------------\n",
       "CHISQ   =     920299.641908808 / Chi^2 of fit                                   \n",
       "NDOF    =                20149 / Degrees of freedom                             \n",
       "NFREE   =                   15 / Number of free parameters                      \n",
       "NFIX    =                    2 / Number of fixed parameters                     \n",
       "CHI2NU  =             45.67471 / Reduced Chi^2                                  \n",
       "LOGFILE = 'galfit.01'          / Output logfile                                 \n",
       "COMMENT =============================================                           \n",
       "COMMENT                                                                         "
      ]
     },
     "execution_count": 28,
     "metadata": {},
     "output_type": "execute_result"
    }
   ],
   "source": [
    "header"
   ]
  },
  {
   "cell_type": "code",
   "execution_count": null,
   "id": "e49ad63e-c45d-47dc-827b-1617babb4195",
   "metadata": {},
   "outputs": [],
   "source": []
  }
 ],
 "metadata": {
  "kernelspec": {
   "display_name": "Python 3 (ipykernel)",
   "language": "python",
   "name": "python3"
  },
  "language_info": {
   "codemirror_mode": {
    "name": "ipython",
    "version": 3
   },
   "file_extension": ".py",
   "mimetype": "text/x-python",
   "name": "python",
   "nbconvert_exporter": "python",
   "pygments_lexer": "ipython3",
   "version": "3.11.4"
  }
 },
 "nbformat": 4,
 "nbformat_minor": 5
}
