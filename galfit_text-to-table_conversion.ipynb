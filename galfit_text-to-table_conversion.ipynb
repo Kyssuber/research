{
 "cells": [
  {
   "cell_type": "code",
   "execution_count": 25,
   "id": "c798a9e0",
   "metadata": {},
   "outputs": [],
   "source": [
    "import numpy as np\n",
    "from matplotlib import pyplot as plt\n",
    "from astropy.io import ascii\n",
    "from astropy.io import fits\n",
    "import os"
   ]
  },
  {
   "cell_type": "code",
   "execution_count": 62,
   "id": "eab9a390",
   "metadata": {},
   "outputs": [],
   "source": [
    "def readfile(filename):\n",
    "    fileobj = open(filename,'r')\n",
    "    words = fileobj.read().splitlines()\n",
    "    header = words[0].split()\n",
    "    data = words[1].split()\n",
    "    data2 = words[2].split()\n",
    "    return header,data,data2"
   ]
  },
  {
   "cell_type": "code",
   "execution_count": 79,
   "id": "6d106da8",
   "metadata": {},
   "outputs": [],
   "source": [
    "homedir = os.getenv(\"HOME\")\n",
    "file = homedir+'/github/WISE_232_psf/VFID0481-NGC6307-unwise-w3-log.txt'\n",
    "\n",
    "header,data,data2=readfile(file)"
   ]
  },
  {
   "cell_type": "code",
   "execution_count": 80,
   "id": "633188fc",
   "metadata": {},
   "outputs": [],
   "source": [
    "header.remove('#')"
   ]
  },
  {
   "cell_type": "code",
   "execution_count": 66,
   "id": "c6412698",
   "metadata": {},
   "outputs": [],
   "source": [
    "#header.append('success_flag')\n",
    "#then data.append(1) if successful, 0 is unsuccessful\n",
    "\n",
    "#note: convert 0,1 list to bool list\n",
    "#t = [0,1,1,0]\n",
    "#t = np.asarray(t)\n",
    "#t = t.astype(bool)"
   ]
  },
  {
   "cell_type": "code",
   "execution_count": 65,
   "id": "ff8e945b",
   "metadata": {},
   "outputs": [],
   "source": [
    "header = np.asarray(header)\n",
    "data = np.asarray(data)\n",
    "data2 = np.asarray(data2)"
   ]
  },
  {
   "cell_type": "code",
   "execution_count": 71,
   "id": "b8dc1645",
   "metadata": {},
   "outputs": [],
   "source": [
    "file = [header,data,data2]"
   ]
  },
  {
   "cell_type": "code",
   "execution_count": 73,
   "id": "ff24b2c2",
   "metadata": {},
   "outputs": [],
   "source": [
    "file = np.asarray(file)"
   ]
  },
  {
   "cell_type": "code",
   "execution_count": 76,
   "id": "df8b61ca",
   "metadata": {},
   "outputs": [],
   "source": [
    "os.chdir(homedir)\n",
    "np.savetxt('test.txt',file,fmt=\"%s\")"
   ]
  },
  {
   "cell_type": "code",
   "execution_count": 77,
   "id": "14b55044",
   "metadata": {},
   "outputs": [],
   "source": [
    "f = ascii.read(homedir+'/test.txt')"
   ]
  },
  {
   "cell_type": "code",
   "execution_count": 78,
   "id": "f2a7ce56",
   "metadata": {},
   "outputs": [
    {
     "data": {
      "text/html": [
       "<i>Table length=2</i>\n",
       "<table id=\"table140584896896160\" class=\"table-striped table-bordered table-condensed\">\n",
       "<thead><tr><th>xc</th><th>xc_err</th><th>yc</th><th>yc_err</th><th>mag</th><th>mag_err</th><th>re</th><th>re_err</th><th>nsersic</th><th>nsrsic_err</th><th>BA</th><th>BA_err</th><th>PA</th><th>PA_err</th><th>sky</th><th>sky_err</th><th>error</th><th>chi2nu</th><th>galname</th></tr></thead>\n",
       "<thead><tr><th>float64</th><th>float64</th><th>float64</th><th>float64</th><th>float64</th><th>float64</th><th>float64</th><th>float64</th><th>float64</th><th>float64</th><th>float64</th><th>float64</th><th>float64</th><th>float64</th><th>float64</th><th>float64</th><th>float64</th><th>float64</th><th>str16</th></tr></thead>\n",
       "<tr><td>59.4989</td><td>0.0312</td><td>59.4014</td><td>0.042</td><td>8.5756</td><td>0.037</td><td>7.7704</td><td>0.3882</td><td>1.6535</td><td>0.0658</td><td>0.7099</td><td>0.0169</td><td>-36.0069</td><td>2.741</td><td>47.9778</td><td>2.5646</td><td>0.0</td><td>2.493</td><td>VFID0481-NGC6307</td></tr>\n",
       "<tr><td>69.2503</td><td>0.0045</td><td>30.6427</td><td>0.005</td><td>6.1845</td><td>0.002</td><td>3.3253</td><td>0.0091</td><td>1.1749</td><td>0.0065</td><td>-15.8774</td><td>0.2864</td><td>0.7497</td><td>0.0016</td><td>47.9778</td><td>2.5646</td><td>0.0</td><td>2.493</td><td>VFID0481-NGC6307</td></tr>\n",
       "</table>"
      ],
      "text/plain": [
       "<Table length=2>\n",
       "   xc    xc_err    yc    yc_err ... sky_err  error   chi2nu     galname     \n",
       "float64 float64 float64 float64 ... float64 float64 float64      str16      \n",
       "------- ------- ------- ------- ... ------- ------- ------- ----------------\n",
       "59.4989  0.0312 59.4014   0.042 ...  2.5646     0.0   2.493 VFID0481-NGC6307\n",
       "69.2503  0.0045 30.6427   0.005 ...  2.5646     0.0   2.493 VFID0481-NGC6307"
      ]
     },
     "execution_count": 78,
     "metadata": {},
     "output_type": "execute_result"
    }
   ],
   "source": [
    "f"
   ]
  },
  {
   "cell_type": "code",
   "execution_count": null,
   "id": "d56111b5",
   "metadata": {},
   "outputs": [],
   "source": []
  }
 ],
 "metadata": {
  "kernelspec": {
   "display_name": "Python 3",
   "language": "python",
   "name": "python3"
  },
  "language_info": {
   "codemirror_mode": {
    "name": "ipython",
    "version": 3
   },
   "file_extension": ".py",
   "mimetype": "text/x-python",
   "name": "python",
   "nbconvert_exporter": "python",
   "pygments_lexer": "ipython3",
   "version": "3.8.3"
  }
 },
 "nbformat": 4,
 "nbformat_minor": 5
}
