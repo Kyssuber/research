{
 "cells": [
  {
   "cell_type": "code",
   "execution_count": 2,
   "id": "7a95ecfe",
   "metadata": {},
   "outputs": [],
   "source": [
    "import numpy as np\n",
    "from matplotlib import pyplot as plt\n",
    "%matplotlib inline\n",
    "from astropy.io import ascii\n",
    "from astropy.table import Table\n",
    "import os"
   ]
  },
  {
   "cell_type": "code",
   "execution_count": 57,
   "id": "c68eec8e",
   "metadata": {},
   "outputs": [],
   "source": [
    "homedir = os.getenv(\"HOME\")\n",
    "#following table matched with v1main catalog using TopCat\n",
    "t = Table.read(homedir+'/sga_vf_matched.fits')\n",
    "#below is cut of main VF catalog according to SNR>10\n",
    "vf = Table.read(homedir+'/vfcut.fits',format='ascii')"
   ]
  },
  {
   "cell_type": "code",
   "execution_count": 15,
   "id": "d01b877e",
   "metadata": {},
   "outputs": [
    {
     "data": {
      "text/html": [
       "<i>Table length=1</i>\n",
       "<table id=\"table140446192169216\" class=\"table-striped table-bordered table-condensed\">\n",
       "<thead><tr><th>SGA_ID</th><th>GALAXY</th><th>PGC</th><th>RA_1</th><th>DEC_1</th><th>D25_LEDA</th><th>SB_D25_LEDA</th><th>MAG_LEDA</th><th>DIAM</th><th>PA</th><th>BA</th><th>VFID</th><th>RA_2</th><th>DEC_2</th><th>vr</th><th>radius</th><th>radius_flag</th><th>objname</th><th>NSAID</th><th>NSAIDV0</th><th>AGC</th><th>NEDname</th><th>HLflag</th><th>NSAflag</th><th>NSAV0flag</th><th>A100flag</th><th>COflag</th><th>HAflag</th><th>HAobsflag</th><th>Z0MGSflag</th><th>Steerflag</th><th>unwiseflag</th><th>prefix</th><th>name</th><th>Separation</th></tr></thead>\n",
       "<thead><tr><th></th><th></th><th></th><th></th><th></th><th></th><th></th><th></th><th></th><th></th><th></th><th></th><th></th><th></th><th></th><th>arcsec</th><th></th><th></th><th></th><th></th><th></th><th></th><th></th><th></th><th></th><th></th><th></th><th></th><th></th><th></th><th></th><th></th><th></th><th></th><th>arcsec</th></tr></thead>\n",
       "<thead><tr><th>int64</th><th>bytes29</th><th>int64</th><th>float64</th><th>float64</th><th>float32</th><th>float32</th><th>float32</th><th>float32</th><th>float32</th><th>float32</th><th>bytes8</th><th>float64</th><th>float64</th><th>float64</th><th>float32</th><th>bool</th><th>bytes28</th><th>int32</th><th>int32</th><th>int64</th><th>bytes30</th><th>bool</th><th>bool</th><th>bool</th><th>bool</th><th>bool</th><th>bool</th><th>bool</th><th>bool</th><th>bool</th><th>bool</th><th>bytes36</th><th>bytes8</th><th>float64</th></tr></thead>\n",
       "<tr><td>338248</td><td>PGC091229</td><td>91229</td><td>191.82910153155672</td><td>72.21421144161503</td><td>0.92044955</td><td>25.00848</td><td>16.56</td><td>0.92044955</td><td>144.0</td><td>0.2118361</td><td>VFID0083</td><td>191.83798199999998</td><td>72.2138577</td><td>1629.5</td><td>27.613487</td><td>True</td><td>PGC091229</td><td>0</td><td>0</td><td>0</td><td>FGC 1501</td><td>True</td><td>False</td><td>False</td><td>False</td><td>False</td><td>False</td><td>False</td><td>False</td><td>False</td><td>False</td><td>VFID0083-FGC1501</td><td>VFID0083</td><td>9.848209787504663</td></tr>\n",
       "</table>"
      ],
      "text/plain": [
       "<Table length=1>\n",
       "SGA_ID             GALAXY             PGC  ...   name       Separation   \n",
       "                                           ...                arcsec     \n",
       "int64             bytes29            int64 ...  bytes8       float64     \n",
       "------ ----------------------------- ----- ... -------- -----------------\n",
       "338248 PGC091229                     91229 ... VFID0083 9.848209787504663"
      ]
     },
     "execution_count": 15,
     "metadata": {},
     "output_type": "execute_result"
    }
   ],
   "source": [
    "#separation is greatest at this row --> PGC names are identical, so I assume all is well here.\n",
    "t[np.where(t['Separation'] == np.max(t['Separation']))[0]]"
   ]
  },
  {
   "cell_type": "code",
   "execution_count": 64,
   "id": "05e489ae",
   "metadata": {},
   "outputs": [
    {
     "name": "stdout",
     "output_type": "stream",
     "text": [
      "1020\n"
     ]
    }
   ],
   "source": [
    "#now compare with vfcut, since Topcat is not too crafty with ascii tables\n",
    "\n",
    "#find number of entries with same RA from GALFIT cut and from main catalog (that were included in SGA tab)\n",
    "ra_vf = vf['RA']\n",
    "sga_ra = t['RA_2']\n",
    "\n",
    "match_index = []\n",
    "for i in range(0,len(sga_ra)):\n",
    "    ind = np.where(sga_ra[i] == ra_vf)\n",
    "    ind = ind[0]\n",
    "    try:\n",
    "        match_index.append(ind[0])\n",
    "    except:\n",
    "        pass\n",
    "\n",
    "match_index = np.asarray(match_index)\n",
    "match_index = np.sort(match_index)\n",
    "\n",
    "print(len(match_index))"
   ]
  },
  {
   "cell_type": "code",
   "execution_count": 65,
   "id": "de5c3290",
   "metadata": {},
   "outputs": [],
   "source": [
    "flag = []\n",
    "\n",
    "for i in range(0,len(vf)):\n",
    "    if i in match_index:\n",
    "        flag.append(True)\n",
    "    else:\n",
    "        flag.append(False)\n",
    "        \n",
    "flag = np.asarray(flag)"
   ]
  },
  {
   "cell_type": "code",
   "execution_count": 66,
   "id": "d044eb55",
   "metadata": {},
   "outputs": [],
   "source": [
    "os.chdir(homedir)\n",
    "ascii.write(vf[flag],'sga_cut.fits',overwrite=True)"
   ]
  },
  {
   "cell_type": "code",
   "execution_count": 68,
   "id": "7f5b3fe3",
   "metadata": {},
   "outputs": [],
   "source": [
    "sgacut = Table.read('sga_cut.fits',format='ascii')"
   ]
  },
  {
   "cell_type": "code",
   "execution_count": 69,
   "id": "2c372660",
   "metadata": {},
   "outputs": [
    {
     "data": {
      "text/html": [
       "<i>Table length=1020</i>\n",
       "<table id=\"table140446148312560\" class=\"table-striped table-bordered table-condensed\">\n",
       "<thead><tr><th>VFID</th><th>RA</th><th>DEC</th><th>vr</th><th>radius</th><th>radius_flag</th><th>objname</th><th>NSAID</th><th>NSAIDV0</th><th>AGC</th><th>NEDname</th><th>HLflag</th><th>NSAflag</th><th>NSAV0flag</th><th>A100flag</th><th>COflag</th><th>HAflag</th><th>HAobsflag</th><th>Z0MGSflag</th><th>Steerflag</th><th>unwiseflag</th><th>prefix</th><th>name</th></tr></thead>\n",
       "<thead><tr><th>str8</th><th>float64</th><th>float64</th><th>float64</th><th>float64</th><th>str5</th><th>str25</th><th>int64</th><th>int64</th><th>int64</th><th>str25</th><th>str5</th><th>str5</th><th>str5</th><th>str5</th><th>str5</th><th>str5</th><th>str5</th><th>str5</th><th>str5</th><th>str5</th><th>str33</th><th>str8</th></tr></thead>\n",
       "<tr><td>VFID0001</td><td>182.208</td><td>74.9042778</td><td>1331.5</td><td>49.673099517822266</td><td>True</td><td>NGC4133</td><td>0</td><td>0</td><td>0</td><td>NGC 4133</td><td>True</td><td>False</td><td>False</td><td>False</td><td>False</td><td>False</td><td>False</td><td>True</td><td>True</td><td>False</td><td>VFID0001-NGC4133</td><td>VFID0001</td></tr>\n",
       "<tr><td>VFID0002</td><td>145.944663</td><td>74.8595778</td><td>3049.4</td><td>62.390899658203125</td><td>True</td><td>NGC2977</td><td>0</td><td>0</td><td>0</td><td>NGC 2977</td><td>True</td><td>False</td><td>False</td><td>False</td><td>False</td><td>False</td><td>False</td><td>True</td><td>True</td><td>False</td><td>VFID0002-NGC2977</td><td>VFID0002</td></tr>\n",
       "<tr><td>VFID0005</td><td>173.1341835</td><td>74.6275401</td><td>1920.1</td><td>48.65430450439453</td><td>True</td><td>NGC3752</td><td>0</td><td>0</td><td>0</td><td>NGC 3752</td><td>True</td><td>False</td><td>False</td><td>False</td><td>False</td><td>False</td><td>False</td><td>True</td><td>True</td><td>True</td><td>VFID0005-NGC3752</td><td>VFID0005</td></tr>\n",
       "<tr><td>VFID0008</td><td>274.943166</td><td>74.5683889</td><td>1484.5</td><td>99.5683364868164</td><td>True</td><td>NGC6643</td><td>0</td><td>0</td><td>0</td><td>NGC 6643</td><td>True</td><td>False</td><td>False</td><td>False</td><td>False</td><td>False</td><td>False</td><td>True</td><td>True</td><td>False</td><td>VFID0008-NGC6643</td><td>VFID0008</td></tr>\n",
       "<tr><td>VFID0010</td><td>190.435041</td><td>74.4208611</td><td>1453.3</td><td>42.181427001953125</td><td>True</td><td>NGC4648</td><td>0</td><td>0</td><td>0</td><td>NGC 4648</td><td>True</td><td>False</td><td>False</td><td>False</td><td>False</td><td>False</td><td>False</td><td>True</td><td>True</td><td>False</td><td>VFID0010-NGC4648</td><td>VFID0010</td></tr>\n",
       "<tr><td>VFID0011</td><td>154.4161905</td><td>74.3473859</td><td>2944.0</td><td>36.234413146972656</td><td>True</td><td>NGC3155</td><td>0</td><td>0</td><td>0</td><td>NGC 3155</td><td>True</td><td>False</td><td>False</td><td>False</td><td>False</td><td>False</td><td>False</td><td>True</td><td>True</td><td>False</td><td>VFID0011-NGC3155</td><td>VFID0011</td></tr>\n",
       "<tr><td>VFID0013</td><td>139.6340505</td><td>74.3191954</td><td>2966.0</td><td>34.050323486328125</td><td>True</td><td>UGC04883</td><td>0</td><td>0</td><td>0</td><td>UGC 04883</td><td>True</td><td>False</td><td>False</td><td>False</td><td>False</td><td>False</td><td>False</td><td>True</td><td>False</td><td>False</td><td>VFID0013-UGC04883</td><td>VFID0013</td></tr>\n",
       "<tr><td>VFID0015</td><td>188.9393595</td><td>74.242585</td><td>2188.3</td><td>44.067787170410156</td><td>True</td><td>NGC4572</td><td>0</td><td>0</td><td>0</td><td>NGC 4572</td><td>True</td><td>False</td><td>False</td><td>False</td><td>False</td><td>False</td><td>False</td><td>True</td><td>False</td><td>False</td><td>VFID0015-NGC4572</td><td>VFID0015</td></tr>\n",
       "<tr><td>VFID0018</td><td>189.35429100000002</td><td>74.1918611</td><td>2001.9</td><td>87.92679595947266</td><td>True</td><td>NGC4589</td><td>0</td><td>0</td><td>0</td><td>NGC 4589</td><td>True</td><td>False</td><td>False</td><td>False</td><td>False</td><td>False</td><td>False</td><td>True</td><td>True</td><td>False</td><td>VFID0018-NGC4589</td><td>VFID0018</td></tr>\n",
       "<tr><td>VFID0019</td><td>155.4540195</td><td>74.1769917</td><td>3092.5</td><td>66.69929504394531</td><td>True</td><td>NGC3183</td><td>0</td><td>0</td><td>0</td><td>NGC 3183</td><td>True</td><td>False</td><td>False</td><td>False</td><td>False</td><td>False</td><td>False</td><td>True</td><td>True</td><td>False</td><td>VFID0019-NGC3183</td><td>VFID0019</td></tr>\n",
       "<tr><td>...</td><td>...</td><td>...</td><td>...</td><td>...</td><td>...</td><td>...</td><td>...</td><td>...</td><td>...</td><td>...</td><td>...</td><td>...</td><td>...</td><td>...</td><td>...</td><td>...</td><td>...</td><td>...</td><td>...</td><td>...</td><td>...</td><td>...</td></tr>\n",
       "<tr><td>VFID6729</td><td>190.96221450000002</td><td>-0.5612163</td><td>2622.6</td><td>69.84273529052734</td><td>True</td><td>NGC4653</td><td>8960</td><td>1578</td><td>0</td><td>NGC 4653</td><td>True</td><td>True</td><td>True</td><td>False</td><td>False</td><td>False</td><td>False</td><td>True</td><td>True</td><td>True</td><td>VFID6729-NGC4653</td><td>VFID6729</td></tr>\n",
       "<tr><td>VFID6735</td><td>146.00789400000002</td><td>-0.6422649</td><td>1449.0</td><td>11.752256393432617</td><td>True</td><td>PGC027864</td><td>50</td><td>7</td><td>0</td><td>CGCG 007-025</td><td>True</td><td>True</td><td>True</td><td>False</td><td>False</td><td>False</td><td>False</td><td>False</td><td>False</td><td>True</td><td>VFID6735-CGCG007-025</td><td>VFID6735</td></tr>\n",
       "<tr><td>VFID6736</td><td>190.8239955</td><td>-0.644312</td><td>2645.8</td><td>46.35763168334961</td><td>True</td><td>NGC4642</td><td>628945</td><td>142045</td><td>0</td><td>NGC 4642</td><td>True</td><td>True</td><td>True</td><td>False</td><td>False</td><td>False</td><td>False</td><td>True</td><td>True</td><td>True</td><td>VFID6736-NGC4642</td><td>VFID6736</td></tr>\n",
       "<tr><td>VFID6759</td><td>186.727611</td><td>-0.877567</td><td>2128.0</td><td>42.37612533569336</td><td>True</td><td>NGC4355</td><td>8343</td><td>1465</td><td>0</td><td>NGC 4355</td><td>True</td><td>True</td><td>True</td><td>False</td><td>False</td><td>False</td><td>False</td><td>True</td><td>True</td><td>True</td><td>VFID6759-NGC4355</td><td>VFID6759</td></tr>\n",
       "<tr><td>VFID6762</td><td>170.82965099999998</td><td>-0.9225091</td><td>2616.2</td><td>24.272876739501953</td><td>True</td><td>UGC06402</td><td>626453</td><td>139316</td><td>0</td><td>UGC 06402</td><td>True</td><td>True</td><td>True</td><td>False</td><td>False</td><td>False</td><td>False</td><td>True</td><td>True</td><td>True</td><td>VFID6762-UGC06402</td><td>VFID6762</td></tr>\n",
       "<tr><td>VFID6773</td><td>224.5944975</td><td>-1.0910342</td><td>1924.0</td><td>106.44401550292969</td><td>True</td><td>NGC5792</td><td>632316</td><td>145729</td><td>0</td><td>NGC 5792</td><td>True</td><td>True</td><td>True</td><td>False</td><td>False</td><td>False</td><td>False</td><td>True</td><td>True</td><td>True</td><td>VFID6773-NGC5792</td><td>VFID6773</td></tr>\n",
       "<tr><td>VFID6776</td><td>180.0983565</td><td>-1.100072</td><td>1461.8</td><td>114.31974792480469</td><td>True</td><td>NGC4030</td><td>627617</td><td>140594</td><td>0</td><td>NGC 4030</td><td>True</td><td>True</td><td>True</td><td>False</td><td>False</td><td>False</td><td>False</td><td>True</td><td>True</td><td>True</td><td>VFID6776-NGC4030</td><td>VFID6776</td></tr>\n",
       "<tr><td>VFID6780</td><td>212.90767350000002</td><td>-1.1578822</td><td>1533.5</td><td>80.74604034423828</td><td>True</td><td>NGC5496</td><td>631360</td><td>144661</td><td>0</td><td>NGC 5496</td><td>True</td><td>True</td><td>True</td><td>False</td><td>False</td><td>False</td><td>False</td><td>True</td><td>True</td><td>False</td><td>VFID6780-NGC5496</td><td>VFID6780</td></tr>\n",
       "<tr><td>VFID6785</td><td>193.091586</td><td>-1.1995791</td><td>1242.8</td><td>194.59033203125</td><td>True</td><td>NGC4753</td><td>0</td><td>142457</td><td>0</td><td>NGC 4753</td><td>True</td><td>False</td><td>True</td><td>False</td><td>False</td><td>False</td><td>False</td><td>True</td><td>True</td><td>False</td><td>VFID6785-NGC4753</td><td>VFID6785</td></tr>\n",
       "<tr><td>VFID6787</td><td>190.73862749999998</td><td>-1.2293804</td><td>3213.8</td><td>76.22917938232422</td><td>True</td><td>UGC07883</td><td>8920</td><td>1568</td><td>0</td><td>UGC 07883</td><td>True</td><td>True</td><td>True</td><td>False</td><td>False</td><td>False</td><td>False</td><td>True</td><td>True</td><td>True</td><td>VFID6787-UGC07883</td><td>VFID6787</td></tr>\n",
       "</table>"
      ],
      "text/plain": [
       "<Table length=1020>\n",
       "  VFID           RA            DEC     ...        prefix          name  \n",
       "  str8        float64        float64   ...        str33           str8  \n",
       "-------- ------------------ ---------- ... -------------------- --------\n",
       "VFID0001            182.208 74.9042778 ...     VFID0001-NGC4133 VFID0001\n",
       "VFID0002         145.944663 74.8595778 ...     VFID0002-NGC2977 VFID0002\n",
       "VFID0005        173.1341835 74.6275401 ...     VFID0005-NGC3752 VFID0005\n",
       "VFID0008         274.943166 74.5683889 ...     VFID0008-NGC6643 VFID0008\n",
       "VFID0010         190.435041 74.4208611 ...     VFID0010-NGC4648 VFID0010\n",
       "VFID0011        154.4161905 74.3473859 ...     VFID0011-NGC3155 VFID0011\n",
       "VFID0013        139.6340505 74.3191954 ...    VFID0013-UGC04883 VFID0013\n",
       "VFID0015        188.9393595  74.242585 ...     VFID0015-NGC4572 VFID0015\n",
       "VFID0018 189.35429100000002 74.1918611 ...     VFID0018-NGC4589 VFID0018\n",
       "VFID0019        155.4540195 74.1769917 ...     VFID0019-NGC3183 VFID0019\n",
       "     ...                ...        ... ...                  ...      ...\n",
       "VFID6729 190.96221450000002 -0.5612163 ...     VFID6729-NGC4653 VFID6729\n",
       "VFID6735 146.00789400000002 -0.6422649 ... VFID6735-CGCG007-025 VFID6735\n",
       "VFID6736        190.8239955  -0.644312 ...     VFID6736-NGC4642 VFID6736\n",
       "VFID6759         186.727611  -0.877567 ...     VFID6759-NGC4355 VFID6759\n",
       "VFID6762 170.82965099999998 -0.9225091 ...    VFID6762-UGC06402 VFID6762\n",
       "VFID6773        224.5944975 -1.0910342 ...     VFID6773-NGC5792 VFID6773\n",
       "VFID6776        180.0983565  -1.100072 ...     VFID6776-NGC4030 VFID6776\n",
       "VFID6780 212.90767350000002 -1.1578822 ...     VFID6780-NGC5496 VFID6780\n",
       "VFID6785         193.091586 -1.1995791 ...     VFID6785-NGC4753 VFID6785\n",
       "VFID6787 190.73862749999998 -1.2293804 ...    VFID6787-UGC07883 VFID6787"
      ]
     },
     "execution_count": 69,
     "metadata": {},
     "output_type": "execute_result"
    }
   ],
   "source": [
    "#I must now keep PA, BA fixed"
   ]
  },
  {
   "cell_type": "code",
   "execution_count": null,
   "id": "59e9de14",
   "metadata": {},
   "outputs": [],
   "source": []
  }
 ],
 "metadata": {
  "kernelspec": {
   "display_name": "Python 3",
   "language": "python",
   "name": "python3"
  },
  "language_info": {
   "codemirror_mode": {
    "name": "ipython",
    "version": 3
   },
   "file_extension": ".py",
   "mimetype": "text/x-python",
   "name": "python",
   "nbconvert_exporter": "python",
   "pygments_lexer": "ipython3",
   "version": "3.8.3"
  }
 },
 "nbformat": 4,
 "nbformat_minor": 5
}
