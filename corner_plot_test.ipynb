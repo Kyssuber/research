{
 "cells": [
  {
   "cell_type": "markdown",
   "metadata": {},
   "source": [
    "From Google Doc:\n",
    "\n",
    "1. Plot a sersic profile with n = 1,2,3,4 normalized to have the same intensity at the effective radius and the same effective radius.\n",
    "\n",
    "2. Plot a sersic profile with n=1, but with a different Re, and all normalized to have the same intensity at the effective radius.\n",
    "\n",
    "3. For both of the above examples, integrate the total luminosity out a finalradius extending from R/Re=0.1 to R/Re=10. When doing the integral, remember that you are NOT integrating the 1D profile, but integrating a 2D disk, whose 1D radial profile is thesersic profile. For each of the cases above, make a plot of L(<R/Re)/Ltot vs. R/Re."
   ]
  },
  {
   "cell_type": "code",
   "execution_count": 1,
   "metadata": {},
   "outputs": [],
   "source": [
    "import numpy as np\n",
    "from matplotlib import pyplot as plt\n",
    "import os\n",
    "from astropy.table import Table\n",
    "from astropy.wcs import WCS\n",
    "\n",
    "from astropy.io import fits\n",
    "from astropy.table import Table\n",
    "from astropy.io import ascii"
   ]
  },
  {
   "cell_type": "code",
   "execution_count": 118,
   "metadata": {
    "scrolled": true
   },
   "outputs": [
    {
     "data": {
      "text/html": [
       "<i>Table length=57</i>\n",
       "<table id=\"table140692696208048\" class=\"table-striped table-bordered table-condensed\">\n",
       "<thead><tr><th>xc</th><th>xc_err</th><th>yc</th><th>yc_err</th><th>mag</th><th>mag_err</th><th>re</th><th>re_err</th><th>nsersic</th><th>nsrsic_err</th><th>BA</th><th>BA_err</th><th>PA</th><th>PA_err</th><th>sky</th><th>sky_err</th><th>error</th><th>chi2nu</th><th>prefix</th><th>success_flag</th></tr></thead>\n",
       "<thead><tr><th>float64</th><th>float64</th><th>float64</th><th>float64</th><th>float64</th><th>float64</th><th>float64</th><th>float64</th><th>float64</th><th>float64</th><th>float64</th><th>float64</th><th>float64</th><th>float64</th><th>float64</th><th>float64</th><th>float64</th><th>float64</th><th>str19</th><th>int64</th></tr></thead>\n",
       "<tr><td>175.3109</td><td>0.0111</td><td>174.8707</td><td>0.0189</td><td>4.8494</td><td>0.0011</td><td>17.237</td><td>0.0234</td><td>0.3845</td><td>0.0013</td><td>0.4705</td><td>0.0006</td><td>30.7007</td><td>0.0672</td><td>-5.0654</td><td>0.9446</td><td>0.0</td><td>3.4527</td><td>VFID0388-NGC6015</td><td>1</td></tr>\n",
       "<tr><td>180.2237</td><td>0.0114</td><td>179.2617</td><td>0.0093</td><td>6.4258</td><td>0.0152</td><td>11.0092</td><td>0.2344</td><td>2.458</td><td>0.0328</td><td>0.9349</td><td>0.0071</td><td>-13.1859</td><td>4.4584</td><td>-62.2269</td><td>1.141</td><td>0.0</td><td>1.0938</td><td>VFID0484-NGC3945</td><td>1</td></tr>\n",
       "<tr><td>168.6167</td><td>0.0087</td><td>169.1971</td><td>0.0075</td><td>6.6111</td><td>0.0087</td><td>7.4944</td><td>0.0924</td><td>1.9954</td><td>0.0186</td><td>0.8314</td><td>0.0047</td><td>87.1794</td><td>1.112</td><td>-11.8236</td><td>0.9699</td><td>0.0</td><td>1.2262</td><td>VFID0525-NGC5322</td><td>1</td></tr>\n",
       "<tr><td>170.5771</td><td>0.0154</td><td>170.4544</td><td>0.012</td><td>6.5457</td><td>0.0134</td><td>9.9726</td><td>0.1871</td><td>2.016</td><td>0.0268</td><td>0.7574</td><td>0.0062</td><td>-87.4048</td><td>1.0849</td><td>-17.2861</td><td>1.2849</td><td>0.0</td><td>1.4051</td><td>VFID0547-NGC2768</td><td>1</td></tr>\n",
       "<tr><td>338.7939</td><td>0.0066</td><td>337.7264</td><td>0.0143</td><td>3.394</td><td>0.0004</td><td>38.0683</td><td>0.0214</td><td>0.6033</td><td>0.0007</td><td>0.0965</td><td>0.0</td><td>-24.7751</td><td>0.004</td><td>11.9695</td><td>0.5393</td><td>1.0</td><td>2.0628</td><td>VFID0934-NGC5907</td><td>1</td></tr>\n",
       "<tr><td>189.5989</td><td>0.0079</td><td>190.6553</td><td>0.0055</td><td>5.4851</td><td>0.0013</td><td>8.4349</td><td>0.0154</td><td>0.777</td><td>0.0028</td><td>0.3261</td><td>0.0005</td><td>-54.4628</td><td>0.0439</td><td>3.7732</td><td>0.918</td><td>0.0</td><td>1.7804</td><td>VFID0974-NGC5866</td><td>1</td></tr>\n",
       "<tr><td>263.8745</td><td>0.0028</td><td>262.3273</td><td>0.0116</td><td>3.3039</td><td>0.0009</td><td>17.7386</td><td>0.0227</td><td>0.9567</td><td>0.003</td><td>0.2024</td><td>0.0002</td><td>-11.9891</td><td>0.0154</td><td>12.082</td><td>1.6175</td><td>0.0</td><td>4.9164</td><td>VFID0983-NGC3079</td><td>1</td></tr>\n",
       "<tr><td>213.6396</td><td>0.1069</td><td>213.3482</td><td>0.059</td><td>4.943</td><td>0.0045</td><td>38.0128</td><td>0.1017</td><td>0.0915</td><td>0.002</td><td>0.5439</td><td>0.0018</td><td>68.6517</td><td>0.1861</td><td>21.7311</td><td>1.2065</td><td>0.0</td><td>1.8424</td><td>VFID1169-MESSIER109</td><td>1</td></tr>\n",
       "<tr><td>197.6238</td><td>0.0193</td><td>193.3163</td><td>0.0457</td><td>4.0849</td><td>0.0016</td><td>31.1593</td><td>0.0444</td><td>0.2512</td><td>0.0011</td><td>0.4238</td><td>0.0007</td><td>12.7613</td><td>0.0632</td><td>25.1176</td><td>1.3942</td><td>0.0</td><td>2.0217</td><td>VFID1215-NGC3953</td><td>1</td></tr>\n",
       "<tr><td>208.4896</td><td>0.0405</td><td>208.7499</td><td>0.0706</td><td>4.1295</td><td>0.0023</td><td>36.7371</td><td>0.0796</td><td>0.2976</td><td>0.0018</td><td>0.3329</td><td>0.0008</td><td>-29.869</td><td>0.0702</td><td>-35.7639</td><td>1.5876</td><td>0.0</td><td>2.5652</td><td>VFID1278-NGC2841</td><td>1</td></tr>\n",
       "<tr><td>...</td><td>...</td><td>...</td><td>...</td><td>...</td><td>...</td><td>...</td><td>...</td><td>...</td><td>...</td><td>...</td><td>...</td><td>...</td><td>...</td><td>...</td><td>...</td><td>...</td><td>...</td><td>...</td><td>...</td></tr>\n",
       "<tr><td>152.6431</td><td>0.0148</td><td>155.6052</td><td>0.0135</td><td>6.5125</td><td>0.0116</td><td>8.5183</td><td>0.1355</td><td>1.538</td><td>0.0178</td><td>0.8005</td><td>0.0055</td><td>42.5886</td><td>1.4886</td><td>-20.2423</td><td>1.7193</td><td>0.0</td><td>1.3168</td><td>VFID5565-NGC4365</td><td>1</td></tr>\n",
       "<tr><td>203.9591</td><td>0.0204</td><td>208.354</td><td>0.0275</td><td>3.0065</td><td>0.0017</td><td>20.5746</td><td>0.0271</td><td>0.204</td><td>0.0011</td><td>0.747</td><td>0.0012</td><td>26.0443</td><td>0.1981</td><td>1.1516</td><td>3.8441</td><td>0.0</td><td>10.3306</td><td>VFID6014-MESSIER061</td><td>1</td></tr>\n",
       "<tr><td>168.8438</td><td>0.0207</td><td>170.3902</td><td>0.0254</td><td>5.5072</td><td>0.0093</td><td>11.9532</td><td>0.1513</td><td>1.5223</td><td>0.0149</td><td>0.773</td><td>0.0049</td><td>9.6492</td><td>1.0278</td><td>-4.1128</td><td>2.5301</td><td>0.0</td><td>6.3902</td><td>VFID6088-NGC5566</td><td>1</td></tr>\n",
       "<tr><td>189.3449</td><td>0.0267</td><td>188.9452</td><td>0.0101</td><td>3.2177</td><td>0.0016</td><td>24.9456</td><td>0.0615</td><td>0.923</td><td>0.0047</td><td>0.2544</td><td>0.0004</td><td>69.8172</td><td>0.0392</td><td>-56.3527</td><td>3.5897</td><td>0.0</td><td>8.3965</td><td>VFID6276-NGC4527</td><td>1</td></tr>\n",
       "<tr><td>223.6934</td><td>0.0033</td><td>225.1446</td><td>0.0038</td><td>3.8083</td><td>0.0012</td><td>4.2023</td><td>0.0095</td><td>2.4861</td><td>0.0081</td><td>0.8742</td><td>0.0011</td><td>-63.9414</td><td>0.383</td><td>-22.7315</td><td>1.5027</td><td>0.0</td><td>1.9456</td><td>VFID6346-NGC4536</td><td>1</td></tr>\n",
       "<tr><td>217.5454</td><td>0.0125</td><td>219.4071</td><td>0.0696</td><td>4.795</td><td>0.0016</td><td>34.2961</td><td>0.0766</td><td>0.4025</td><td>0.0023</td><td>0.1124</td><td>0.0002</td><td>-10.1859</td><td>0.0205</td><td>9.463</td><td>1.303</td><td>0.0</td><td>2.9955</td><td>VFID6403-NGC5746</td><td>1</td></tr>\n",
       "<tr><td>173.514</td><td>0.0036</td><td>173.4016</td><td>0.0029</td><td>5.1605</td><td>0.0015</td><td>3.5215</td><td>0.0074</td><td>1.2186</td><td>0.0041</td><td>0.7355</td><td>0.0013</td><td>76.6141</td><td>0.2129</td><td>33.8942</td><td>1.5474</td><td>0.0</td><td>1.2064</td><td>VFID6497-NGC4845</td><td>1</td></tr>\n",
       "<tr><td>281.7037</td><td>0.0592</td><td>287.0419</td><td>0.0073</td><td>4.16</td><td>0.0012</td><td>43.3106</td><td>0.0678</td><td>0.4427</td><td>0.0016</td><td>0.1035</td><td>0.0002</td><td>83.0236</td><td>0.0132</td><td>-24.3574</td><td>1.0473</td><td>0.0</td><td>1.4788</td><td>VFID6692-NGC4517</td><td>1</td></tr>\n",
       "<tr><td>251.1052</td><td>0.0055</td><td>248.7454</td><td>0.0129</td><td>2.2684</td><td>0.0005</td><td>25.6316</td><td>0.0159</td><td>0.4766</td><td>0.0007</td><td>0.4036</td><td>0.0002</td><td>-17.7391</td><td>0.0238</td><td>37.9014</td><td>1.8374</td><td>0.0</td><td>4.1706</td><td>VFID6719-NGC3521</td><td>1</td></tr>\n",
       "<tr><td>194.0944</td><td>0.0096</td><td>194.7365</td><td>0.0049</td><td>5.2983</td><td>0.0027</td><td>6.9646</td><td>0.0267</td><td>1.2348</td><td>0.0057</td><td>0.5562</td><td>0.0011</td><td>-87.4328</td><td>0.1568</td><td>31.2488</td><td>1.4713</td><td>0.0</td><td>1.5851</td><td>VFID6848-NGC4753</td><td>1</td></tr>\n",
       "</table>"
      ],
      "text/plain": [
       "<Table length=57>\n",
       "   xc     xc_err    yc     yc_err ...  chi2nu        prefix       success_flag\n",
       "float64  float64 float64  float64 ... float64        str19           int64    \n",
       "-------- ------- -------- ------- ... ------- ------------------- ------------\n",
       "175.3109  0.0111 174.8707  0.0189 ...  3.4527    VFID0388-NGC6015            1\n",
       "180.2237  0.0114 179.2617  0.0093 ...  1.0938    VFID0484-NGC3945            1\n",
       "168.6167  0.0087 169.1971  0.0075 ...  1.2262    VFID0525-NGC5322            1\n",
       "170.5771  0.0154 170.4544   0.012 ...  1.4051    VFID0547-NGC2768            1\n",
       "338.7939  0.0066 337.7264  0.0143 ...  2.0628    VFID0934-NGC5907            1\n",
       "189.5989  0.0079 190.6553  0.0055 ...  1.7804    VFID0974-NGC5866            1\n",
       "263.8745  0.0028 262.3273  0.0116 ...  4.9164    VFID0983-NGC3079            1\n",
       "213.6396  0.1069 213.3482   0.059 ...  1.8424 VFID1169-MESSIER109            1\n",
       "197.6238  0.0193 193.3163  0.0457 ...  2.0217    VFID1215-NGC3953            1\n",
       "208.4896  0.0405 208.7499  0.0706 ...  2.5652    VFID1278-NGC2841            1\n",
       "     ...     ...      ...     ... ...     ...                 ...          ...\n",
       "152.6431  0.0148 155.6052  0.0135 ...  1.3168    VFID5565-NGC4365            1\n",
       "203.9591  0.0204  208.354  0.0275 ... 10.3306 VFID6014-MESSIER061            1\n",
       "168.8438  0.0207 170.3902  0.0254 ...  6.3902    VFID6088-NGC5566            1\n",
       "189.3449  0.0267 188.9452  0.0101 ...  8.3965    VFID6276-NGC4527            1\n",
       "223.6934  0.0033 225.1446  0.0038 ...  1.9456    VFID6346-NGC4536            1\n",
       "217.5454  0.0125 219.4071  0.0696 ...  2.9955    VFID6403-NGC5746            1\n",
       " 173.514  0.0036 173.4016  0.0029 ...  1.2064    VFID6497-NGC4845            1\n",
       "281.7037  0.0592 287.0419  0.0073 ...  1.4788    VFID6692-NGC4517            1\n",
       "251.1052  0.0055 248.7454  0.0129 ...  4.1706    VFID6719-NGC3521            1\n",
       "194.0944  0.0096 194.7365  0.0049 ...  1.5851    VFID6848-NGC4753            1"
      ]
     },
     "execution_count": 118,
     "metadata": {},
     "output_type": "execute_result"
    }
   ],
   "source": [
    "homedir = os.getenv(\"HOME\")\n",
    "tab = ascii.read(homedir+\"/github/WISE_test/testest2_plots.txt\")\n",
    "tab"
   ]
  },
  {
   "cell_type": "markdown",
   "metadata": {},
   "source": [
    "## An attempt to generate a corner plot featuring sersic_n, $R_e$, and magnitude:"
   ]
  },
  {
   "cell_type": "code",
   "execution_count": 119,
   "metadata": {},
   "outputs": [],
   "source": [
    "import corner"
   ]
  },
  {
   "cell_type": "code",
   "execution_count": 120,
   "metadata": {},
   "outputs": [],
   "source": [
    "dawtaw = np.array([tab['nsersic'],tab['re'],tab['mag']])"
   ]
  },
  {
   "cell_type": "code",
   "execution_count": 129,
   "metadata": {},
   "outputs": [
    {
     "name": "stderr",
     "output_type": "stream",
     "text": [
      "WARNING:root:Too few points to create valid contours\n",
      "WARNING:root:Too few points to create valid contours\n"
     ]
    },
    {
     "data": {
      "image/png": "[encoded data removed]",
      "text/plain": [
       "<Figure size 547.2x547.2 with 9 Axes>"
      ]
     },
     "metadata": {
      "needs_background": "light"
     },
     "output_type": "display_data"
    }
   ],
   "source": [
    "figure = corner.corner(dawtaw.T,labels=[r'$n_{sersic}$', r'$R_e$', r'$mag$'],show_titles=True,\n",
    "                      title_kwargs={\"fontsize\":15})"
   ]
  },
  {
   "cell_type": "code",
   "execution_count": 122,
   "metadata": {},
   "outputs": [
    {
     "name": "stdout",
     "output_type": "stream",
     "text": [
      "(59, 3)\n"
     ]
    }
   ],
   "source": [
    "print(xs.T.shape)"
   ]
  },
  {
   "cell_type": "code",
   "execution_count": 125,
   "metadata": {
    "scrolled": true
   },
   "outputs": [
    {
     "data": {
      "text/plain": [
       "array([[ 3.845000e-01,  1.723700e+01,  4.849400e+00],\n",
       "       [ 2.458000e+00,  1.100920e+01,  6.425800e+00],\n",
       "       [ 1.995400e+00,  7.494400e+00,  6.611100e+00],\n",
       "       [ 2.016000e+00,  9.972600e+00,  6.545700e+00],\n",
       "       [ 6.033000e-01,  3.806830e+01,  3.394000e+00],\n",
       "       [ 7.770000e-01,  8.434900e+00,  5.485100e+00],\n",
       "       [ 9.567000e-01,  1.773860e+01,  3.303900e+00],\n",
       "       [ 9.150000e-02,  3.801280e+01,  4.943000e+00],\n",
       "       [ 2.512000e-01,  3.115930e+01,  4.084900e+00],\n",
       "       [ 2.976000e-01,  3.673710e+01,  4.129500e+00],\n",
       "       [ 3.865000e-01,  1.950090e+01,  3.315200e+00],\n",
       "       [ 5.432000e-01,  2.237030e+01,  3.487700e+00],\n",
       "       [ 3.117000e-01,  2.248200e+01,  4.325300e+00],\n",
       "       [ 1.176000e+00,  2.399090e+01,  4.132600e+00],\n",
       "       [ 6.279000e-01,  2.151980e+01,  3.856200e+00],\n",
       "       [ 2.689000e-01,  2.723670e+01,  4.628200e+00],\n",
       "       [ 3.879600e+00,  4.847550e+01,  3.987800e+00],\n",
       "       [ 1.605260e+01,  6.202860e+02,  2.094500e+00],\n",
       "       [ 4.710000e-01,  1.707840e+01,  4.232100e+00],\n",
       "       [ 1.066900e+00,  1.940130e+01,  3.683000e+00],\n",
       "       [ 1.235800e+00,  3.368550e+01,  2.355800e+00],\n",
       "       [ 6.812000e-01,  2.501710e+01,  3.385400e+00],\n",
       "       [ 8.570000e-01,  1.241130e+01,  3.685700e+00],\n",
       "       [ 4.822000e-01,  2.270700e+01,  5.579000e+00],\n",
       "       [-9.990000e+02, -9.990000e+02, -9.990000e+02],\n",
       "       [ 5.943000e-01,  5.221000e+00,  7.051200e+00],\n",
       "       [ 4.681000e-01,  1.368460e+01,  4.970600e+00],\n",
       "       [ 7.900000e-01,  2.441330e+01,  4.356400e+00],\n",
       "       [ 4.736000e-01,  5.870820e+01,  3.416000e+00],\n",
       "       [ 7.448900e+00,  4.981177e+02,  3.257800e+00],\n",
       "       [-9.990000e+02, -9.990000e+02, -9.990000e+02],\n",
       "       [ 3.463000e-01,  2.933740e+01,  2.569800e+00],\n",
       "       [ 1.932700e+00,  3.999000e+00,  5.623000e+00],\n",
       "       [ 2.030100e+00,  1.184060e+01,  5.863300e+00],\n",
       "       [ 3.427800e+00,  3.795990e+01,  2.878100e+00],\n",
       "       [ 6.574000e-01,  2.536730e+01,  4.791300e+00],\n",
       "       [ 3.806000e-01,  2.458520e+01,  3.236800e+00],\n",
       "       [ 9.426000e-01,  1.995540e+01,  2.604400e+00],\n",
       "       [ 1.101000e+00,  3.731120e+01,  2.777900e+00],\n",
       "       [ 8.180000e-02,  3.319810e+01,  4.568000e+00],\n",
       "       [ 2.808000e-01,  2.490650e+01,  2.467900e+00],\n",
       "       [ 1.095000e+00,  9.537800e+00,  4.407000e+00],\n",
       "       [ 1.292700e+00,  8.995100e+00,  5.437800e+00],\n",
       "       [ 2.719900e+00,  1.808360e+01,  4.162500e+00],\n",
       "       [ 5.591400e+00,  8.157380e+01,  3.503600e+00],\n",
       "       [ 7.441000e-01,  3.609800e+00,  4.657400e+00],\n",
       "       [ 9.898000e-01,  2.565800e+01,  4.229500e+00],\n",
       "       [ 5.341000e-01,  2.640920e+01,  4.290000e+00],\n",
       "       [ 1.541700e+00,  1.070210e+01,  5.422700e+00],\n",
       "       [ 1.538000e+00,  8.518300e+00,  6.512500e+00],\n",
       "       [ 2.040000e-01,  2.057460e+01,  3.006500e+00],\n",
       "       [ 1.522300e+00,  1.195320e+01,  5.507200e+00],\n",
       "       [ 9.230000e-01,  2.494560e+01,  3.217700e+00],\n",
       "       [ 2.486100e+00,  4.202300e+00,  3.808300e+00],\n",
       "       [ 4.025000e-01,  3.429610e+01,  4.795000e+00],\n",
       "       [ 1.218600e+00,  3.521500e+00,  5.160500e+00],\n",
       "       [ 4.427000e-01,  4.331060e+01,  4.160000e+00],\n",
       "       [ 4.766000e-01,  2.563160e+01,  2.268400e+00],\n",
       "       [ 1.234800e+00,  6.964600e+00,  5.298300e+00]])"
      ]
     },
     "execution_count": 125,
     "metadata": {},
     "output_type": "execute_result"
    }
   ],
   "source": [
    "xs.T"
   ]
  },
  {
   "cell_type": "code",
   "execution_count": null,
   "metadata": {},
   "outputs": [],
   "source": []
  }
 ],
 "metadata": {
  "kernelspec": {
   "display_name": "Python 3",
   "language": "python",
   "name": "python3"
  },
  "language_info": {
   "codemirror_mode": {
    "name": "ipython",
    "version": 3
   },
   "file_extension": ".py",
   "mimetype": "text/x-python",
   "name": "python",
   "nbconvert_exporter": "python",
   "pygments_lexer": "ipython3",
   "version": "3.8.3"
  }
 },
 "nbformat": 4,
 "nbformat_minor": 4
}
