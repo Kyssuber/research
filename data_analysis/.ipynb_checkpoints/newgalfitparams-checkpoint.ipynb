{
 "cells": [
  {
   "cell_type": "markdown",
   "id": "5168d924-d35d-4b34-8007-82f0d58c003a",
   "metadata": {},
   "source": [
    "#### March 7, 2024 --> New GALFIT output parameters! \n",
    "\n",
    "Both masking and the treatment of group galaxies differ from the previous routine. This notebook will evaluate to what degree the model parameters differ as well."
   ]
  },
  {
   "cell_type": "code",
   "execution_count": 19,
   "id": "104c6b23-f331-4e10-af14-86a48b2e852d",
   "metadata": {
    "tags": []
   },
   "outputs": [],
   "source": [
    "#no more error text.\n",
    "import warnings\n",
    "warnings.filterwarnings('ignore')"
   ]
  },
  {
   "cell_type": "code",
   "execution_count": 26,
   "id": "e07008ae-cc12-4d33-a666-a9381067dd83",
   "metadata": {
    "tags": []
   },
   "outputs": [
    {
     "ename": "SyntaxError",
     "evalue": "invalid syntax. Perhaps you forgot a comma? (newgalfitparams.py, line 56)",
     "output_type": "error",
     "traceback": [
      "\u001b[0;36m  File \u001b[0;32m~/github/research/data_analysis/newgalfitparams.py:56\u001b[0;36m\u001b[0m\n\u001b[0;31m    print('magflag+SNR+t-type only:'len(self.vf[snr_flag&t_flag&mag_flag]))\u001b[0m\n\u001b[0m          ^\u001b[0m\n\u001b[0;31mSyntaxError\u001b[0m\u001b[0;31m:\u001b[0m invalid syntax. Perhaps you forgot a comma?\n"
     ]
    }
   ],
   "source": [
    "%run newgalfitparams.py"
   ]
  },
  {
   "cell_type": "code",
   "execution_count": 27,
   "id": "96fe1b22-dbe1-4465-9292-e74436b11979",
   "metadata": {},
   "outputs": [
    {
     "ename": "NameError",
     "evalue": "name 'Table' is not defined",
     "output_type": "error",
     "traceback": [
      "\u001b[0;31m---------------------------------------------------------------------------\u001b[0m",
      "\u001b[0;31mNameError\u001b[0m                                 Traceback (most recent call last)",
      "Cell \u001b[0;32mIn[27], line 1\u001b[0m\n\u001b[0;32m----> 1\u001b[0m cat \u001b[38;5;241m=\u001b[39m catalogs()\n",
      "File \u001b[0;32m~/github/research/data_analysis/newgalfitparams.py:19\u001b[0m, in \u001b[0;36m__init__\u001b[0;34m(self)\u001b[0m\n\u001b[1;32m     17\u001b[0m \n\u001b[1;32m     18\u001b[0m #magphys table\n\u001b[0;32m---> 19\u001b[0m self.magphys = Table.read(homedir+'/Desktop/v2-20220820/vf_v2_magphys_legacyExt_final.fits')\n\u001b[1;32m     20\u001b[0m \n\u001b[1;32m     21\u001b[0m #catalog with WISESize flags\n",
      "\u001b[0;31mNameError\u001b[0m: name 'Table' is not defined"
     ]
    }
   ],
   "source": [
    "cat = catalogs()"
   ]
  },
  {
   "cell_type": "markdown",
   "id": "1786969b-7a6f-4348-bcf6-5436f0226e36",
   "metadata": {
    "tags": []
   },
   "source": [
    "### cat.comp_oldnew()"
   ]
  },
  {
   "cell_type": "code",
   "execution_count": null,
   "id": "3964b93f-75fc-4df3-a64a-d90655ed7903",
   "metadata": {},
   "outputs": [],
   "source": [
    "#after galfit cuts, 314 galaxies"
   ]
  }
 ],
 "metadata": {
  "kernelspec": {
   "display_name": "Python 3 (ipykernel)",
   "language": "python",
   "name": "python3"
  },
  "language_info": {
   "codemirror_mode": {
    "name": "ipython",
    "version": 3
   },
   "file_extension": ".py",
   "mimetype": "text/x-python",
   "name": "python",
   "nbconvert_exporter": "python",
   "pygments_lexer": "ipython3",
   "version": "3.11.4"
  }
 },
 "nbformat": 4,
 "nbformat_minor": 5
}
