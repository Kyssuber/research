{
 "cells": [
  {
   "cell_type": "markdown",
   "id": "94008277-65ea-4459-bb43-e3910dd213e6",
   "metadata": {},
   "source": [
    "## This notebook provides a few cells needed for me to quickly update VF_WISESIZE_v#.fits, where # is some integer value representing the table version, using the most recent MAGPHYS and PHOT catalogs. "
   ]
  },
  {
   "cell_type": "code",
   "execution_count": 9,
   "id": "2d2835f9-b7a4-401a-8501-7f5a1030cc29",
   "metadata": {
    "tags": []
   },
   "outputs": [],
   "source": [
    "import numpy as np\n",
    "from astropy.table import Table\n",
    "import os\n",
    "homedir = os.getenv(\"HOME\")"
   ]
  },
  {
   "cell_type": "code",
   "execution_count": 17,
   "id": "8617b720-7e1c-4f79-ac91-f4bcfc314900",
   "metadata": {
    "tags": []
   },
   "outputs": [],
   "source": [
    "magphys=Table.read(homedir+'/Desktop/v2-20220820/vf_v2_magphys_legacyExt_final.fits')\n",
    "phot = Table.read(homedir+'/Desktop/galfit_files/vf_v2_legacy_ephot.fits')\n",
    "alt_magphys=Table.read(homedir+'/Desktop/galfit_files/vf-altphot.fits')"
   ]
  },
  {
   "cell_type": "code",
   "execution_count": 18,
   "id": "22b5c12d-83a0-42fa-bb44-58e9a7efedea",
   "metadata": {
    "tags": []
   },
   "outputs": [],
   "source": [
    "vfw = Table.read(homedir+'/Desktop/galfit_files/VF_WISESIZE_v2.fits')"
   ]
  },
  {
   "cell_type": "markdown",
   "id": "3b981b16-4567-4e5e-998e-4c8fcd7a92dc",
   "metadata": {
    "tags": []
   },
   "source": [
    "### updating SFR, Mstar, sSFR, and subsample flags"
   ]
  },
  {
   "cell_type": "code",
   "execution_count": 41,
   "id": "f257af5a-45a0-4948-860e-081500d4e48c",
   "metadata": {
    "tags": []
   },
   "outputs": [],
   "source": [
    "sfr_flag = np.zeros(len(vfw),dtype=bool)\n",
    "mstar_flag = np.zeros(len(vfw),dtype=bool)\n",
    "ssfr_flag = np.zeros(len(vfw),dtype=bool)\n",
    "'''\n",
    "for i in range(len(vfw)):\n",
    "    if (maskbit_flag[i]):\n",
    "        sfr_flag[i] = True if ((magphys['logSFR_med'][i]>-1.32) & (magphys['magphysFlag'][i])) else False\n",
    "        mstar_flag[i] = True if ((magphys['logMstar_med'][i]>8.26) & (magphys['magphysFlag'][i])) else False\n",
    "        ssfr_flag[i] = True if ((ssfr[i]>-11.5) & (magphys['magphysFlag'][i])) else False\n",
    "    elif (~maskbit_flag[i]) & (good_flag[i]):\n",
    "        sfr_flag[i] = True if ((alt_sfr[i]>-1.32) & (magphys['magphysFlag'][i])) else False\n",
    "        mstar_flag[i] = True if ((alt_mstar[i]>8.26) & (magphys['magphysFlag'][i])) else False\n",
    "        ssfr_flag[i] = True if ((alt_ssfr[i]>-11.5) & (magphys['magphysFlag'][i])) else False\n",
    "    else:\n",
    "        sfr_flag[i] = False\n",
    "        mstar_flag[i] = False\n",
    "        ssfr_flag[i] = False\n",
    "'''\n",
    "for i in range(len(vfw)):\n",
    "    sfr_flag[i] = True if (alt_magphys['combined_logSFR_med'][i]>-1.014) else False\n",
    "    mstar_flag[i] = True if (alt_magphys['combined_logMstar_med'][i]>9.3) else False\n",
    "    ssfr_flag[i] = True if ((alt_magphys['combined_logSFR_med'][i] - alt_magphys['combined_logMstar_med'][i])>-11.5) else False"
   ]
  },
  {
   "cell_type": "code",
   "execution_count": 42,
   "id": "8dc66c06-6780-437d-ae9d-f0ca6af271df",
   "metadata": {},
   "outputs": [],
   "source": [
    "vfw['SFRflag'] = sfr_flag\n",
    "vfw['massflag'] = mstar_flag\n",
    "vfw['sSFR_flag'] = ssfr_flag"
   ]
  },
  {
   "cell_type": "code",
   "execution_count": 43,
   "id": "d4d7a23c-87a8-4ffc-942a-0ff17936a04c",
   "metadata": {},
   "outputs": [],
   "source": [
    "subsampleflag = (vfw['massflag']) & (vfw['SNRflag']) & (vfw['t_flag']) & (vfw['SFRflag']) & (vfw['sSFR_flag'])"
   ]
  },
  {
   "cell_type": "code",
   "execution_count": 44,
   "id": "384b616a-5a82-4e2e-ad9e-118eedd17e84",
   "metadata": {},
   "outputs": [],
   "source": [
    "vfw['subsample_flag'] = subsampleflag"
   ]
  },
  {
   "cell_type": "code",
   "execution_count": 45,
   "id": "a540c69d-24f7-433e-9ef8-99b6792e3ad3",
   "metadata": {},
   "outputs": [],
   "source": [
    "vfw.write(homedir+'/Desktop/galfit_files/VF_WISESIZE_v2.fits',overwrite=True)"
   ]
  },
  {
   "cell_type": "markdown",
   "id": "fd1fb29a-c716-4a1e-bfcd-be33490ae015",
   "metadata": {},
   "source": [
    "### updating group flags using PHOT catalog from Dr. Moustakas"
   ]
  },
  {
   "cell_type": "code",
   "execution_count": 27,
   "id": "4578dfcc-a578-4511-9d83-8934f3b7a2e6",
   "metadata": {
    "tags": []
   },
   "outputs": [],
   "source": [
    "groupnames = np.zeros(len(vfw),dtype='|S33')\n",
    "ncomps=np.zeros(len(vfw),dtype=int)\n",
    "primary_flags = np.zeros(len(vfw),dtype=bool)\n",
    "group_flags = np.zeros(len(vfw),dtype=bool)\n",
    "#groupIDs = np.zeros(len(vfw),dtype=int)"
   ]
  },
  {
   "cell_type": "code",
   "execution_count": null,
   "id": "28ca1d01-78a8-433d-82db-a939b515df0a",
   "metadata": {
    "scrolled": true,
    "tags": []
   },
   "outputs": [],
   "source": [
    "for i in range(len(vfw)):\n",
    "    if vfw['VFID'][i] in phot['VFID']:\n",
    "        ncomp = phot[(phot['VFID']==vfw['VFID'][i])]['GROUP_MULT'].data[0]\n",
    "        groupname = phot[(phot['VFID']==vfw['VFID'][i])]['GROUP_NAME'].data[0]\n",
    "        primary_flag = phot[(phot['VFID']==vfw['VFID'][i])]['GROUP_PRIMARY'].data[0]\n",
    "        \n",
    "    else:\n",
    "        groupname = 'N/A'\n",
    "        ncomp=1\n",
    "        group_flag=False\n",
    "        primary_flag=False\n",
    "        \n",
    "    ncomps[i] = ncomp\n",
    "    primary_flags[i] = primary_flag\n",
    "    groupnames[i] = groupname\n",
    "    print(i)\n",
    "\n",
    "group_flag = ncomps>1"
   ]
  },
  {
   "cell_type": "code",
   "execution_count": 31,
   "id": "24f2f6c7-1a79-4d0c-8bdc-1a42ddcc7cd4",
   "metadata": {},
   "outputs": [],
   "source": [
    "vfw['primaryGroup_flag'] = primary_flags\n",
    "vfw['group_name'] = groupnames\n",
    "vfw['ncomp'] = ncomps\n",
    "vfw['group_flag'] = group_flags"
   ]
  },
  {
   "cell_type": "markdown",
   "id": "dac16c71-8be7-4319-81a1-c7b30373b932",
   "metadata": {},
   "source": [
    "### (optional) AGN"
   ]
  },
  {
   "cell_type": "raw",
   "id": "7b4336bd-9dd0-47de-8ccf-9e91b2eda607",
   "metadata": {},
   "source": [
    "#apply optional AGN cut\n",
    "if self.cutAGN:\n",
    "    #WISE color magnitudes\n",
    "    wise_mag_cut=Table.read(homedir+'/Desktop/v2-20220820/vf_v2_unwise.fits')[subsample_flag]\n",
    "    #spectral line strengths\n",
    "    bpt_lines_cut=Table.read(homedir+'/Desktop/v2-20220820/vf_v2_nsa_v0.fits')[subsample_flag]\n",
    "    wise_agn = (wise_mag_cut['w1_mag'] - wise_mag_cut['w2_mag']>0.65) & (wise_mag_cut['w2_mag']-wise_mag_cut['w3_mag']<4.0)\n",
    "    agn_kauffman = (np.log10(bpt_lines_cut['O3FLUX']/bpt_lines_cut['HBFLUX']) > (.61/(np.log10(bpt_lines_cut['N2FLUX']/bpt_lines_cut['HAFLUX']-.05))+1.3)) | (np.log10(bpt_lines_cut['N2FLUX']/bpt_lines_cut['HAFLUX']) > 0.)\n",
    "\n",
    "    self.wise_agn_flag = np.asarray(wise_agn)\n",
    "    self.agn_kauffman_flag = np.asarray(agn_kauffman)\n",
    "    AGN_flags = (self.wise_agn_flag)|(self.agn_kauffman_flag)\n",
    "\n",
    "    print(f'# WISE AGN in VF subsample: {len(self.v2_maincut[self.wise_agn_flag])}')\n",
    "    print(f'# BPT AGN in VF subsample: {len(self.v2_maincut[self.agn_kauffman_flag])}')\n",
    "\n",
    "    self.cut_flags = (~AGN_flags) & (~fail_flag) & (~err_flag) & (~sersic_flag)\n",
    "    print(f'Number of galaxies flagged with AGN and a GALFIT error: {len(self.v2_env[(AGN_flags) & (err_flag)])}')"
   ]
  },
  {
   "cell_type": "code",
   "execution_count": null,
   "id": "bb33eea5-eafd-49aa-9598-8547e55074d9",
   "metadata": {},
   "outputs": [],
   "source": []
  }
 ],
 "metadata": {
  "kernelspec": {
   "display_name": "Python 3 (ipykernel)",
   "language": "python",
   "name": "python3"
  },
  "language_info": {
   "codemirror_mode": {
    "name": "ipython",
    "version": 3
   },
   "file_extension": ".py",
   "mimetype": "text/x-python",
   "name": "python",
   "nbconvert_exporter": "python",
   "pygments_lexer": "ipython3",
   "version": "3.12.3"
  }
 },
 "nbformat": 4,
 "nbformat_minor": 5
}
