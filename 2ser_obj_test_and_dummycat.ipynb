{
 "cells": [
  {
   "cell_type": "code",
   "execution_count": 1,
   "id": "e761134f",
   "metadata": {},
   "outputs": [],
   "source": [
    "#aim: automate 2+sersic obj fitting given input dictionary of \"groups\""
   ]
  },
  {
   "cell_type": "code",
   "execution_count": 2,
   "id": "e81ea1ee",
   "metadata": {},
   "outputs": [],
   "source": [
    "import numpy as np\n",
    "import os\n",
    "from matplotlib import pyplot as plt\n",
    "%matplotlib inline\n",
    "from astropy.table import Table\n",
    "from astropy.wcs import WCS\n",
    "from astropy.io import fits\n",
    "from astropy.io import ascii\n",
    "from scipy.stats import scoreatpercentile\n",
    "from astropy.visualization import simple_norm\n",
    "from astropy.table import QTable"
   ]
  },
  {
   "cell_type": "code",
   "execution_count": 5,
   "id": "8d87338f",
   "metadata": {},
   "outputs": [],
   "source": [
    "homedir = os.getenv(\"HOME\")\n",
    "vfmain = Table.read(homedir+'/github/research/sample_main_two.fits')\n",
    "t_full = Table.read(homedir+'/Desktop/v1-20210308/vf_north_v1_main.fits')\n",
    "os.chdir(homedir+'/github/WISE_232_psf')\n",
    "%run ~/github/research/run_galfit.py"
   ]
  },
  {
   "cell_type": "code",
   "execution_count": 6,
   "id": "23e92b0b",
   "metadata": {},
   "outputs": [],
   "source": [
    "#g1, g2 are sersic objects that appear in one cutout with dimensions 3*D25 x 3*D25\n",
    "\n",
    "obj1 = t_full[481]\n",
    "obj2 = t_full[483]\n",
    "\n",
    "g1 = galaxy(obj1['RA'],obj1['DEC'],obj1['radius'],name=obj1['prefix'],band=3)"
   ]
  },
  {
   "cell_type": "code",
   "execution_count": 7,
   "id": "8ce3d8d8",
   "metadata": {},
   "outputs": [],
   "source": [
    "g1.image = homedir+'/VFID0481/unwise-VFID0481-w3-img-m-trim.fits'\n",
    "g1.mask_image = homedir+'/VFID0481/unwise-VFID0481-w3-img-m-mask-trim.fits'\n",
    "g1.sigma_image = homedir+'/VFID0481/unwise-VFID0481-w3-std-m-trim.fits'\n",
    "g1.invvar_image = homedir+'/VFID0481/unwise-VFID0481-w3-img-m-inv-mask-trim.fits'\n",
    "\n",
    "g1.ximagesize=len(fits.getdata(g1.image))\n",
    "g1.yimagesize=len(fits.getdata(g1.image))"
   ]
  },
  {
   "cell_type": "code",
   "execution_count": 8,
   "id": "f226cd35",
   "metadata": {},
   "outputs": [],
   "source": [
    "g1.set_image_names()"
   ]
  },
  {
   "cell_type": "code",
   "execution_count": 9,
   "id": "b9c0b52b",
   "metadata": {},
   "outputs": [],
   "source": [
    "g1.getpix()"
   ]
  },
  {
   "cell_type": "code",
   "execution_count": 10,
   "id": "2cf03e8f",
   "metadata": {
    "scrolled": true
   },
   "outputs": [
    {
     "name": "stdout",
     "output_type": "stream",
     "text": [
      "self.psfimage =  wise-w3-psf-wpro-09x09-05x05.fits\n"
     ]
    }
   ],
   "source": [
    "g1.initialize_galfit(convflag=False)"
   ]
  },
  {
   "cell_type": "code",
   "execution_count": 11,
   "id": "c0b8d108",
   "metadata": {},
   "outputs": [],
   "source": [
    "g1.set_sersic_manual(n=2,m=10,re=10,BA=1,PA=10)"
   ]
  },
  {
   "cell_type": "code",
   "execution_count": 12,
   "id": "9236be65",
   "metadata": {
    "scrolled": true
   },
   "outputs": [
    {
     "name": "stdout",
     "output_type": "stream",
     "text": [
      "sersic n, fitsersicn =  2 1\n",
      "BA, fitBA =  1 1\n",
      "run the following:  galfit VFID0481-NGC6307-unwise-w3-galfit.input.2Comp\n"
     ]
    }
   ],
   "source": [
    "homedir = os.getenv(\"HOME\")\n",
    "g1.run_galfit_wise(fitBA=1,fitPA=1)"
   ]
  },
  {
   "cell_type": "code",
   "execution_count": 13,
   "id": "d5fb1774",
   "metadata": {},
   "outputs": [
    {
     "name": "stdout",
     "output_type": "stream",
     "text": [
      "1_XC  : 59.4989 +/- 0.0312\n",
      "1_YC  : 59.4014 +/- 0.0420\n",
      "1_MAG : 8.5756 +/- 0.0370\n",
      "1_RE  : 7.7704 +/- 0.3882\n",
      "1_N   : 1.6535 +/- 0.0658\n",
      "1_AR  : 0.7099 +/- 0.0169\n",
      "1_PA  : -36.0069 +/- 2.7410\n",
      "2_XC  : 69.2503 +/- 0.0045\n",
      "2_YC  : 30.6427 +/- 0.0050\n",
      "2_MAG : 6.1845 +/- 0.0020\n",
      "2_RE  : 3.3253 +/- 0.0091\n",
      "2_N   : 1.1749 +/- 0.0065\n",
      "2_AR  : 0.7497 +/- 0.0016\n",
      "2_PA  : -15.8774 +/- 0.2864\n",
      "3_SKY : 47.9778 +/- 2.5646\n"
     ]
    }
   ],
   "source": [
    "g1.write_results(printflag=True)"
   ]
  },
  {
   "cell_type": "code",
   "execution_count": 12,
   "id": "64d9d363",
   "metadata": {},
   "outputs": [
    {
     "data": {
      "text/plain": [
       "<matplotlib.image.AxesImage at 0x7f9a8d81e160>"
      ]
     },
     "execution_count": 12,
     "metadata": {},
     "output_type": "execute_result"
    },
    {
     "data": {
      "image/png": "[encoded data removed]",
      "text/plain": [
       "<Figure size 1008x432 with 1 Axes>"
      ]
     },
     "metadata": {
      "needs_background": "light"
     },
     "output_type": "display_data"
    }
   ],
   "source": [
    "im,h = fits.getdata(homedir+'/github/WISE_232_psf/VFID0481-NGC6307-unwise-w3-1Comp-galfit-out.fits',1,header=True)\n",
    "model = fits.getdata(homedir+'/github/WISE_232_psf/VFID0481-NGC6307-unwise-w3-1Comp-galfit-out.fits',2)\n",
    "\n",
    "\n",
    "norms = [simple_norm(im,'asinh',max_percent=99.5)]\n",
    "\n",
    "plt.figure(figsize=(14,6))\n",
    "plt.imshow(model,origin='lower',norm=norms[0])"
   ]
  },
  {
   "cell_type": "markdown",
   "id": "a98361d4",
   "metadata": {},
   "source": [
    "---"
   ]
  },
  {
   "cell_type": "code",
   "execution_count": 136,
   "id": "351a501f",
   "metadata": {},
   "outputs": [],
   "source": [
    "# below are group dictionaries (group_dict --> known pairs; coord_dict --> postage stamp indices with \n",
    "# 1+ off-centered sersic obj, along with the off-centered group members given in group_dict)\n",
    "\n",
    "group_dict = {'group0': ['VFID0481', 'VFID0483'],\n",
    " 'group1': ['VFID1548', 'VFID1552'],\n",
    " 'group2': ['VFID1791', 'VFID1794'],\n",
    " 'group3': ['VFID1863', 'VFID1864'],\n",
    " 'group4': ['VFID1935', 'VFID1936'],\n",
    " 'group5': ['VFID1961', 'VFID1962'],\n",
    " 'group6': ['VFID2068', 'VFID2075', 'VFID2076'],\n",
    " 'group7': ['VFID2371', 'VFID2372'],\n",
    " 'group8': ['VFID2667', 'VFID2669'],\n",
    " 'group9': ['VFID2672', 'VFID2679'],\n",
    " 'group10': ['VFID2726', 'VFID2729'],\n",
    " 'group11': ['VFID2762', 'VFID2766'],\n",
    " 'group12': ['VFID3554', 'VFID3543', 'VFID3549'],\n",
    " 'group13': ['VFID3708', 'VFID3711'],\n",
    " 'group14': ['VFID3860', 'VFID3854'],\n",
    " 'group15': ['VFID3862', 'VFID3872'],\n",
    " 'group16': ['VFID3953', 'VFID3960'],\n",
    " 'group17': ['VFID4180', 'VFID4182'],\n",
    " 'group18': ['VFID4256', 'VFID4258'],\n",
    " 'group19': ['VFID4302', 'VFID4305'],\n",
    " 'group20': ['VFID4508', 'VFID4468', 'VFID4542'],\n",
    " 'group21': ['VFID4525', 'VFID4547'],\n",
    " 'group22': ['VFID4660', 'VFID4682', 'VFID4696'],\n",
    " 'group23': ['VFID4861', 'VFID4869'],\n",
    " 'group24': ['VFID4923', 'VFID4928'],\n",
    " 'group25': ['VFID4977', 'VFID4978'],\n",
    " 'group26': ['VFID4980', 'VFID4969'],\n",
    " 'group27': ['VFID5432', 'VFID5414', 'VFID5467', 'VFID5492'],\n",
    " 'group28': ['VFID5536', 'VFID5525'],\n",
    " 'group29': ['VFID6035', 'VFID6050'],\n",
    " 'group30': ['VFID6098', 'VFID6094'],\n",
    " 'group31': ['VFID6104', 'VFID6112'],\n",
    " 'group32': ['VFID6438', 'VFID6426']}\n",
    "\n",
    "\n",
    "coord_dict = {'index22': [35,32],\n",
    "             'index188': [46,33],\n",
    "             'index313': [72,80],\n",
    "             'index329': [100,118],\n",
    "             'index390': [249,280],\n",
    "             'index530': [28,50],\n",
    "             'index560': [30,53],\n",
    "             'index582': [26,28],\n",
    "             'index690': [75,34],\n",
    "             'index808': [60,75],\n",
    "             'index955': [135,48],\n",
    "             'VFID0483': [70,30],\n",
    "             'VFID1548': [220,347],\n",
    "             'VFID1794': [143,94],\n",
    "             'VFID1864': [38,29],\n",
    "             'VFID1936': [45,70],\n",
    "             'VFID1962': [70,49],\n",
    "             'VFID2068': [152,213],\n",
    "             'VFID2076': [133,107],\n",
    "             'VFID2371': [34,50],\n",
    "             'VFID2669': [126,87],\n",
    "             'VFID2679': [288,110],\n",
    "             'VFID2729': [93,39],\n",
    "             'VFID2766': [74,36],\n",
    "             'VFID3543': [65,239],\n",
    "             'VFID3549': [252,214],\n",
    "             'VFID3708': [150,174],\n",
    "             'VFID3854': [62,259],\n",
    "             'VFID3862': [178,326],\n",
    "             'VFID3953': [108,176],\n",
    "             'VFID4180': [50,76],\n",
    "             'VFID4256': [243,206],\n",
    "             'VFID4305': [59,77],\n",
    "             'VFID4468': [100,457],\n",
    "             'VFID4525': [278,341],\n",
    "             'VFID4542': [449,87],\n",
    "             'VFID4682': [167,102],\n",
    "             'VFID4696': [375,167],\n",
    "             'VFID4861': [204,158],\n",
    "             'VFID4923': [262,261],\n",
    "             'VFID4977': [150,170],\n",
    "             'VFID4969': [456,359],\n",
    "             'VFID5414': [386,455],\n",
    "             'VFID5467': [298,22],\n",
    "             'VFID5525': [77,390],\n",
    "             'VFID6035': [317,312],\n",
    "             'VFID6094': [244,211],\n",
    "             'VFID6112': [394,181],\n",
    "             'VFID6426': [389,266]}\n",
    "\n",
    "dummy_list = ['index22','index188','index313','index329','index390','index530','index560','index582',\n",
    "              'index690','index808','index955']\n",
    "group_list = ['VFID0483','VFID1548','VFID1794','VFID1864','VFID1936','VFID1962','VFID2068','VFID2076',\n",
    "             'VFID2371','VFID2669','VFID2679','VFID2729','VFID2766','VFID3543','VFID3549','VFID3708',\n",
    "              'VFID3854','VFID3862','VFID3953','VFID4180','VFID4256','VFID4305','VFID4468','VFID4525',\n",
    "             'VFID4542','VFID4682','VFID4696','VFID4861','VFID4923','VFID4977','VFID4969','VFID5414',\n",
    "              'VFID5467','VFID5525','VFID6035','VFID6094','VFID6112','VFID6426']\n",
    "\n",
    "#following galaxies represent central galaxies that host either the dummy or group counterpart\n",
    "#typed group hosts first; append dummy host IDs\n",
    "central_list = ['VFID0047','VFID0816','VFID1500','VFID1578','VFID1963','VFID3023','VFID3244','VFID3414',\n",
    "                'VFID4168','VFID4945','VFID6137','VFID0481','VFID1552','VFID1791','VFID1863','VFID1935','VFID1961','VFID2075','VFID2075',\n",
    "                'VFID2372','VFID2667','VFID2672','VFID2726','VFID2762','VFID3554','VFID3554','VFID3711',\n",
    "                'VFID3860','VFID3872','VFID3960','VFID4182','VFID4258','VFID4302','VFID4508','VFID4547',\n",
    "               'VFID4508','VFID4660','VFID4660','VFID4869','VFID4928','VFID4978','VFID4980','VFID5432',\n",
    "                'VFID5432','VFID5536','VFID6050','VFID6098','VFID6104','VFID6438']"
   ]
  },
  {
   "cell_type": "code",
   "execution_count": 137,
   "id": "adb0e45f",
   "metadata": {},
   "outputs": [],
   "source": [
    "li = dummy_list+group_list\n",
    "x = []\n",
    "y = []\n",
    "for i in li:\n",
    "    xi = coord_dict['{}'.format(i)][0]\n",
    "    yi = coord_dict['{}'.format(i)][1]\n",
    "    x.append(xi)\n",
    "    y.append(yi)"
   ]
  },
  {
   "cell_type": "code",
   "execution_count": 138,
   "id": "b399595f",
   "metadata": {},
   "outputs": [],
   "source": [
    "full = dummy_list+group_list\n",
    "flag = np.zeros(len(full),dtype=int)\n",
    "\n",
    "\n",
    "t = QTable([full,central_list,x,y,flag],names=['ID','central galaxy','x (px)','y (px)','done_flag'])"
   ]
  },
  {
   "cell_type": "code",
   "execution_count": 139,
   "id": "ddc0fcc9",
   "metadata": {
    "scrolled": true
   },
   "outputs": [
    {
     "data": {
      "text/html": [
       "<i>QTable length=49</i>\n",
       "<table id=\"table140313841887024-211279\" class=\"table-striped table-bordered table-condensed\">\n",
       "<thead><tr><th>idx</th><th>ID</th><th>central galaxy</th><th>x (px)</th><th>y (px)</th><th>done_flag</th></tr></thead>\n",
       "<tr><td>0</td><td>index22</td><td>VFID0047</td><td>35</td><td>32</td><td>0</td></tr>\n",
       "<tr><td>1</td><td>index188</td><td>VFID0816</td><td>46</td><td>33</td><td>0</td></tr>\n",
       "<tr><td>2</td><td>index313</td><td>VFID1500</td><td>72</td><td>80</td><td>0</td></tr>\n",
       "<tr><td>3</td><td>index329</td><td>VFID1578</td><td>100</td><td>118</td><td>0</td></tr>\n",
       "<tr><td>4</td><td>index390</td><td>VFID1963</td><td>249</td><td>280</td><td>0</td></tr>\n",
       "<tr><td>5</td><td>index530</td><td>VFID3023</td><td>28</td><td>50</td><td>0</td></tr>\n",
       "<tr><td>6</td><td>index560</td><td>VFID3244</td><td>30</td><td>53</td><td>0</td></tr>\n",
       "<tr><td>7</td><td>index582</td><td>VFID3414</td><td>26</td><td>28</td><td>0</td></tr>\n",
       "<tr><td>8</td><td>index690</td><td>VFID4168</td><td>75</td><td>34</td><td>0</td></tr>\n",
       "<tr><td>9</td><td>index808</td><td>VFID4945</td><td>60</td><td>75</td><td>0</td></tr>\n",
       "<tr><td>10</td><td>index955</td><td>VFID6137</td><td>135</td><td>48</td><td>0</td></tr>\n",
       "<tr><td>11</td><td>VFID0483</td><td>VFID0481</td><td>70</td><td>30</td><td>0</td></tr>\n",
       "<tr><td>12</td><td>VFID1548</td><td>VFID1552</td><td>220</td><td>347</td><td>0</td></tr>\n",
       "<tr><td>13</td><td>VFID1794</td><td>VFID1791</td><td>143</td><td>94</td><td>0</td></tr>\n",
       "<tr><td>14</td><td>VFID1864</td><td>VFID1863</td><td>38</td><td>29</td><td>0</td></tr>\n",
       "<tr><td>15</td><td>VFID1936</td><td>VFID1935</td><td>45</td><td>70</td><td>0</td></tr>\n",
       "<tr><td>16</td><td>VFID1962</td><td>VFID1961</td><td>70</td><td>49</td><td>0</td></tr>\n",
       "<tr><td>17</td><td>VFID2068</td><td>VFID2075</td><td>152</td><td>213</td><td>0</td></tr>\n",
       "<tr><td>18</td><td>VFID2076</td><td>VFID2075</td><td>133</td><td>107</td><td>0</td></tr>\n",
       "<tr><td>19</td><td>VFID2371</td><td>VFID2372</td><td>34</td><td>50</td><td>0</td></tr>\n",
       "<tr><td>20</td><td>VFID2669</td><td>VFID2667</td><td>126</td><td>87</td><td>0</td></tr>\n",
       "<tr><td>21</td><td>VFID2679</td><td>VFID2672</td><td>288</td><td>110</td><td>0</td></tr>\n",
       "<tr><td>22</td><td>VFID2729</td><td>VFID2726</td><td>93</td><td>39</td><td>0</td></tr>\n",
       "<tr><td>23</td><td>VFID2766</td><td>VFID2762</td><td>74</td><td>36</td><td>0</td></tr>\n",
       "<tr><td>24</td><td>VFID3543</td><td>VFID3554</td><td>65</td><td>239</td><td>0</td></tr>\n",
       "<tr><td>25</td><td>VFID3549</td><td>VFID3554</td><td>252</td><td>214</td><td>0</td></tr>\n",
       "<tr><td>26</td><td>VFID3708</td><td>VFID3711</td><td>150</td><td>174</td><td>0</td></tr>\n",
       "<tr><td>27</td><td>VFID3854</td><td>VFID3860</td><td>62</td><td>259</td><td>0</td></tr>\n",
       "<tr><td>28</td><td>VFID3862</td><td>VFID3872</td><td>178</td><td>326</td><td>0</td></tr>\n",
       "<tr><td>29</td><td>VFID3953</td><td>VFID3960</td><td>108</td><td>176</td><td>0</td></tr>\n",
       "<tr><td>30</td><td>VFID4180</td><td>VFID4182</td><td>50</td><td>76</td><td>0</td></tr>\n",
       "<tr><td>31</td><td>VFID4256</td><td>VFID4258</td><td>243</td><td>206</td><td>0</td></tr>\n",
       "<tr><td>32</td><td>VFID4305</td><td>VFID4302</td><td>59</td><td>77</td><td>0</td></tr>\n",
       "<tr><td>33</td><td>VFID4468</td><td>VFID4508</td><td>100</td><td>457</td><td>0</td></tr>\n",
       "<tr><td>34</td><td>VFID4525</td><td>VFID4547</td><td>278</td><td>341</td><td>0</td></tr>\n",
       "<tr><td>35</td><td>VFID4542</td><td>VFID4508</td><td>449</td><td>87</td><td>0</td></tr>\n",
       "<tr><td>36</td><td>VFID4682</td><td>VFID4660</td><td>167</td><td>102</td><td>0</td></tr>\n",
       "<tr><td>37</td><td>VFID4696</td><td>VFID4660</td><td>375</td><td>167</td><td>0</td></tr>\n",
       "<tr><td>38</td><td>VFID4861</td><td>VFID4869</td><td>204</td><td>158</td><td>0</td></tr>\n",
       "<tr><td>39</td><td>VFID4923</td><td>VFID4928</td><td>262</td><td>261</td><td>0</td></tr>\n",
       "<tr><td>40</td><td>VFID4977</td><td>VFID4978</td><td>150</td><td>170</td><td>0</td></tr>\n",
       "<tr><td>41</td><td>VFID4969</td><td>VFID4980</td><td>456</td><td>359</td><td>0</td></tr>\n",
       "<tr><td>42</td><td>VFID5414</td><td>VFID5432</td><td>386</td><td>455</td><td>0</td></tr>\n",
       "<tr><td>43</td><td>VFID5467</td><td>VFID5432</td><td>298</td><td>22</td><td>0</td></tr>\n",
       "<tr><td>44</td><td>VFID5525</td><td>VFID5536</td><td>77</td><td>390</td><td>0</td></tr>\n",
       "<tr><td>45</td><td>VFID6035</td><td>VFID6050</td><td>317</td><td>312</td><td>0</td></tr>\n",
       "<tr><td>46</td><td>VFID6094</td><td>VFID6098</td><td>244</td><td>211</td><td>0</td></tr>\n",
       "<tr><td>47</td><td>VFID6112</td><td>VFID6104</td><td>394</td><td>181</td><td>0</td></tr>\n",
       "<tr><td>48</td><td>VFID6426</td><td>VFID6438</td><td>389</td><td>266</td><td>0</td></tr>\n",
       "</table><style>table.dataTable {clear: both; width: auto !important; margin: 0 !important;}\n",
       ".dataTables_info, .dataTables_length, .dataTables_filter, .dataTables_paginate{\n",
       "display: inline-block; margin-right: 1em; }\n",
       ".paginate_button { margin-right: 5px; }\n",
       "</style>\n",
       "<script>\n",
       "\n",
       "var astropy_sort_num = function(a, b) {\n",
       "    var a_num = parseFloat(a);\n",
       "    var b_num = parseFloat(b);\n",
       "\n",
       "    if (isNaN(a_num) && isNaN(b_num))\n",
       "        return ((a < b) ? -1 : ((a > b) ? 1 : 0));\n",
       "    else if (!isNaN(a_num) && !isNaN(b_num))\n",
       "        return ((a_num < b_num) ? -1 : ((a_num > b_num) ? 1 : 0));\n",
       "    else\n",
       "        return isNaN(a_num) ? -1 : 1;\n",
       "}\n",
       "\n",
       "require.config({paths: {\n",
       "    datatables: 'https://cdn.datatables.net/1.10.12/js/jquery.dataTables.min'\n",
       "}});\n",
       "require([\"datatables\"], function(){\n",
       "    console.log(\"$('#table140313841887024-211279').dataTable()\");\n",
       "    \n",
       "jQuery.extend( jQuery.fn.dataTableExt.oSort, {\n",
       "    \"optionalnum-asc\": astropy_sort_num,\n",
       "    \"optionalnum-desc\": function (a,b) { return -astropy_sort_num(a, b); }\n",
       "});\n",
       "\n",
       "    $('#table140313841887024-211279').dataTable({\n",
       "        order: [],\n",
       "        pageLength: 50,\n",
       "        lengthMenu: [[10, 25, 50, 100, 500, 1000, -1], [10, 25, 50, 100, 500, 1000, 'All']],\n",
       "        pagingType: \"full_numbers\",\n",
       "        columnDefs: [{targets: [0, 3, 4, 5], type: \"optionalnum\"}]\n",
       "    });\n",
       "});\n",
       "</script>\n"
      ],
      "text/plain": [
       "<IPython.core.display.HTML object>"
      ]
     },
     "execution_count": 139,
     "metadata": {},
     "output_type": "execute_result"
    }
   ],
   "source": [
    "t.show_in_notebook()"
   ]
  },
  {
   "cell_type": "code",
   "execution_count": 140,
   "id": "85adb67f",
   "metadata": {},
   "outputs": [],
   "source": [
    "os.chdir(homedir)\n",
    "ascii.write(t,'dummycat.fits',overwrite=True)"
   ]
  },
  {
   "cell_type": "code",
   "execution_count": null,
   "id": "fd4b42db",
   "metadata": {},
   "outputs": [],
   "source": []
  }
 ],
 "metadata": {
  "kernelspec": {
   "display_name": "Python 3",
   "language": "python",
   "name": "python3"
  },
  "language_info": {
   "codemirror_mode": {
    "name": "ipython",
    "version": 3
   },
   "file_extension": ".py",
   "mimetype": "text/x-python",
   "name": "python",
   "nbconvert_exporter": "python",
   "pygments_lexer": "ipython3",
   "version": "3.8.3"
  }
 },
 "nbformat": 4,
 "nbformat_minor": 5
}
