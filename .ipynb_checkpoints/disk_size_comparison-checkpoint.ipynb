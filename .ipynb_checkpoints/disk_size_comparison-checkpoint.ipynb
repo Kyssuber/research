{
 "cells": [
  {
   "cell_type": "code",
   "execution_count": 55,
   "id": "f8db3c0d",
   "metadata": {},
   "outputs": [],
   "source": [
    "import numpy as np\n",
    "from matplotlib import pyplot as plt\n",
    "%matplotlib inline\n",
    "from astropy.table import Table\n",
    "from astropy.io import ascii\n",
    "import os\n",
    "from astropy.table import QTable"
   ]
  },
  {
   "cell_type": "code",
   "execution_count": 2,
   "id": "962827c9",
   "metadata": {},
   "outputs": [],
   "source": [
    "homedir = os.getenv(\"HOME\")\n",
    "\n",
    "#sga matched to VF catalog\n",
    "sgacut = Table.read(homedir+'/sga_cut.fits',format='ascii')\n",
    "\n",
    "#sga r50 parameters\n",
    "sga_params = Table.read(homedir+'/sga_params')"
   ]
  },
  {
   "cell_type": "code",
   "execution_count": 6,
   "id": "160d482b",
   "metadata": {},
   "outputs": [],
   "source": [
    "#resizing sga_params table to only contain sgacut entries,\n",
    "flag_p = []\n",
    "\n",
    "for i in sga_params['name']:\n",
    "    if i not in sgacut['VFID']:\n",
    "        flag_p.append(False)\n",
    "    else:\n",
    "        flag_p.append(True)\n",
    "\n",
    "sga_params = sga_params[flag_p]\n",
    "\n",
    "#output is only 933, as compared with 1020 found previously with SGA-parent-v3.0.fits"
   ]
  },
  {
   "cell_type": "code",
   "execution_count": 13,
   "id": "94f2f0e2",
   "metadata": {},
   "outputs": [],
   "source": [
    "#resizing sgacut to be compatible with sga_params...that is, both will have size 933\n",
    "\n",
    "flag_p = []\n",
    "\n",
    "for i in sgacut['VFID']:\n",
    "    if i not in sga_params['name']:\n",
    "        flag_p.append(False)\n",
    "    else:\n",
    "        flag_p.append(True)\n",
    "\n",
    "sgacut = sgacut[flag_p]"
   ]
  },
  {
   "cell_type": "code",
   "execution_count": 7,
   "id": "003a723e",
   "metadata": {},
   "outputs": [],
   "source": [
    "#Note: VFIDs are not in order for sga_params, so we will use np.where to determine correct indices\n",
    "#Moreover, remember to convert Re units if applicable here!"
   ]
  },
  {
   "cell_type": "markdown",
   "id": "4a452007",
   "metadata": {},
   "source": [
    "# -------------------------------------------------------------------------------------------"
   ]
  },
  {
   "cell_type": "code",
   "execution_count": 17,
   "id": "f56af9c7",
   "metadata": {},
   "outputs": [],
   "source": [
    "#now obsolete!\n",
    "\n",
    "#generate table below with pertinent galfit output information (have to scp the .txt files, which\n",
    "#contain the error columns)\n",
    "#USE TABLE INSTRUCTIONS FROM YELLOW NOTEBOOK\n",
    "#then save as .csv, import into Google Spreadsheet\n",
    "#THEN, BEGIN TO USE THE FLOWCHART TO SCRUTINIZE GALAXIES ***BE SURE VFID INDICES ARE CONSISTENT***\n",
    "#TTTHHHEEENNN, read into this python notebook, use bool columns to trim sgacut and sga_params\n",
    "#load fixed and free output params; when bool is 0 in some column, use free param for R_e; if 1, fixed. Etc.\n",
    "#plot!"
   ]
  },
  {
   "cell_type": "code",
   "execution_count": 33,
   "id": "6c68f378",
   "metadata": {},
   "outputs": [],
   "source": [
    "#creating table\n",
    "\n",
    "#read in tables (which contain the needed error columns)\n",
    "t1 = Table.read(homedir+'/set_one_free_nopsf.txt',format='ascii')\n",
    "t2 = Table.read(homedir+'/set_one_free_psf.txt',format='ascii')\n",
    "t3 = Table.read(homedir+'/set_one_fixed_nopsf.txt',format='ascii')\n",
    "t4 = Table.read(homedir+'/set_one_fixed_psf.txt',format='ascii')"
   ]
  },
  {
   "cell_type": "code",
   "execution_count": 42,
   "id": "da561aa9",
   "metadata": {},
   "outputs": [],
   "source": [
    "#generate flags that only permit galaxies appearing in SGA to be filtered through\n",
    "\n",
    "flag_t1 = []\n",
    "flag_t2 = []\n",
    "flag_t3 = []\n",
    "flag_t4 = []\n",
    "\n",
    "for i in t1['galname']:\n",
    "    if str(i) not in sgacut['prefix']:\n",
    "        flag_t1.append(False)\n",
    "    else:\n",
    "        flag_t1.append(True)\n",
    "        \n",
    "for i in t2['galname']:\n",
    "    if str(i) not in sgacut['prefix']:\n",
    "        flag_t2.append(False)\n",
    "    else:\n",
    "        flag_t2.append(True)\n",
    "        \n",
    "for i in t3['galname']:\n",
    "    if str(i) not in sgacut['prefix']:\n",
    "        flag_t3.append(False)\n",
    "    else:\n",
    "        flag_t3.append(True)\n",
    "        \n",
    "for i in t4['galname']:\n",
    "    if str(i) not in sgacut['prefix']:\n",
    "        flag_t4.append(False)\n",
    "    else:\n",
    "        flag_t4.append(True)"
   ]
  },
  {
   "cell_type": "code",
   "execution_count": 44,
   "id": "83f834f7",
   "metadata": {},
   "outputs": [],
   "source": [
    "t1 = t1[flag_t1]\n",
    "t2 = t2[flag_t2]\n",
    "t3 = t3[flag_t3]\n",
    "t4 = t4[flag_t4]"
   ]
  },
  {
   "cell_type": "code",
   "execution_count": 49,
   "id": "40d706c0",
   "metadata": {},
   "outputs": [],
   "source": [
    "#isolating error columns\n",
    "t1_error = t1['error']\n",
    "t2_error = t2['error']\n",
    "t3_error = t3['error']\n",
    "t4_error = t4['error']"
   ]
  },
  {
   "cell_type": "code",
   "execution_count": 65,
   "id": "c1d54883",
   "metadata": {},
   "outputs": [],
   "source": [
    "#we want galnames and Re ratios between free and fixed, the latter of which signalling either that\n",
    "#the models are interchangable or there is one preferable to the other.\n",
    "galnames = sgacut['prefix']\n",
    "\n",
    "#free/fixed, nopsf\n",
    "re_ratio_nopsf = t1['re']/t3['re']\n",
    "re_ratio_psf = t2['re']/t4['re']\n",
    "\n",
    "#let the minimum ratio a \"robust agreement\" be 0.85<ratio<1.15\n",
    "good_fit_nopsf = []\n",
    "for i in re_ratio_nopsf:\n",
    "    if (0.85<i) & (i<1.15):\n",
    "        good_fit_nopsf.append(\"True\")\n",
    "    else:\n",
    "        good_fit_nopsf.append(\"False\")\n",
    "        \n",
    "\n",
    "good_fit_psf = []\n",
    "for i in re_ratio_psf:\n",
    "    if (0.85<i) & (i<1.15):\n",
    "        good_fit_psf.append(\"True\")\n",
    "    else:\n",
    "        good_fit_psf.append(\"False\")"
   ]
  },
  {
   "cell_type": "code",
   "execution_count": 72,
   "id": "b308f47a",
   "metadata": {},
   "outputs": [
    {
     "data": {
      "text/html": [
       "<div><i>QTable length=933</i>\n",
       "<table id=\"table140602063023744\" class=\"table-striped table-bordered table-condensed\">\n",
       "<thead><tr><th>galname</th><th>free_nopsf</th><th>free_psf</th><th>fixed_nopsf</th><th>fixed_psf</th><th>re_ratio_nopsf</th><th>good_fit_nopsf</th><th>re_ratio_psf</th><th>good_fit_psf</th></tr></thead>\n",
       "<thead><tr><th>str33</th><th>float64</th><th>float64</th><th>float64</th><th>float64</th><th>float64</th><th>str5</th><th>float64</th><th>str5</th></tr></thead>\n",
       "<tr><td>VFID0001-NGC4133</td><td>0.0</td><td>0.0</td><td>0.0</td><td>0.0</td><td>0.8387871258037978</td><td>False</td><td>0.8619258558403579</td><td>True</td></tr>\n",
       "<tr><td>VFID0002-NGC2977</td><td>0.0</td><td>0.0</td><td>0.0</td><td>0.0</td><td>0.9534067853922452</td><td>True</td><td>1.0284832421914314</td><td>True</td></tr>\n",
       "<tr><td>VFID0005-NGC3752</td><td>0.0</td><td>0.0</td><td>0.0</td><td>0.0</td><td>0.9086092077216729</td><td>True</td><td>1.0037444314532242</td><td>True</td></tr>\n",
       "<tr><td>VFID0008-NGC6643</td><td>0.0</td><td>0.0</td><td>0.0</td><td>0.0</td><td>0.9008351093000493</td><td>True</td><td>0.9343872357842872</td><td>True</td></tr>\n",
       "<tr><td>VFID0010-NGC4648</td><td>0.0</td><td>0.0</td><td>0.0</td><td>0.0</td><td>1.0073315307820299</td><td>True</td><td>1.1716975638163643</td><td>False</td></tr>\n",
       "<tr><td>VFID0011-NGC3155</td><td>0.0</td><td>0.0</td><td>0.0</td><td>0.0</td><td>0.8691578339511578</td><td>True</td><td>1.0021773187116647</td><td>True</td></tr>\n",
       "<tr><td>VFID0013-UGC04883</td><td>0.0</td><td>0.0</td><td>0.0</td><td>1.0</td><td>0.6441988096158305</td><td>False</td><td>2.5741827326068734</td><td>False</td></tr>\n",
       "<tr><td>VFID0018-NGC4589</td><td>0.0</td><td>0.0</td><td>0.0</td><td>0.0</td><td>0.8753383026655981</td><td>True</td><td>0.8811672460980842</td><td>True</td></tr>\n",
       "<tr><td>VFID0019-NGC3183</td><td>0.0</td><td>0.0</td><td>0.0</td><td>0.0</td><td>0.9851489381918381</td><td>True</td><td>1.0647300172817153</td><td>True</td></tr>\n",
       "<tr><td>VFID0020-NGC2633</td><td>0.0</td><td>0.0</td><td>0.0</td><td>0.0</td><td>0.8924509525163493</td><td>True</td><td>1.0027308949276985</td><td>True</td></tr>\n",
       "<tr><td>...</td><td>...</td><td>...</td><td>...</td><td>...</td><td>...</td><td>...</td><td>...</td><td>...</td></tr>\n",
       "<tr><td>VFID6725-NGC4592</td><td>0.0</td><td>0.0</td><td>0.0</td><td>0.0</td><td>0.8808611029194928</td><td>True</td><td>0.9528801769571618</td><td>True</td></tr>\n",
       "<tr><td>VFID6729-NGC4653</td><td>0.0</td><td>0.0</td><td>0.0</td><td>0.0</td><td>1.0837305787223235</td><td>True</td><td>1.1028754413642854</td><td>True</td></tr>\n",
       "<tr><td>VFID6735-CGCG007-025</td><td>0.0</td><td>1.0</td><td>0.0</td><td>1.0</td><td>0.8919702259403202</td><td>True</td><td>0.04797871125826651</td><td>False</td></tr>\n",
       "<tr><td>VFID6736-NGC4642</td><td>0.0</td><td>0.0</td><td>0.0</td><td>0.0</td><td>0.9340650320704494</td><td>True</td><td>1.0817278412382467</td><td>True</td></tr>\n",
       "<tr><td>VFID6759-NGC4355</td><td>0.0</td><td>0.0</td><td>0.0</td><td>1.0</td><td>0.8771098505810735</td><td>True</td><td>160.0</td><td>False</td></tr>\n",
       "<tr><td>VFID6762-UGC06402</td><td>0.0</td><td>0.0</td><td>0.0</td><td>0.0</td><td>0.8190274483226024</td><td>False</td><td>1.0319022299817475</td><td>True</td></tr>\n",
       "<tr><td>VFID6773-NGC5792</td><td>0.0</td><td>1.0</td><td>0.0</td><td>1.0</td><td>0.09218118717941737</td><td>False</td><td>0.5994912399151612</td><td>False</td></tr>\n",
       "<tr><td>VFID6776-NGC4030</td><td>0.0</td><td>0.0</td><td>0.0</td><td>0.0</td><td>0.9091957074058626</td><td>True</td><td>0.925347489357337</td><td>True</td></tr>\n",
       "<tr><td>VFID6780-NGC5496</td><td>0.0</td><td>0.0</td><td>0.0</td><td>0.0</td><td>0.9310912139715886</td><td>True</td><td>1.1104246494173413</td><td>True</td></tr>\n",
       "<tr><td>VFID6787-UGC07883</td><td>0.0</td><td>0.0</td><td>0.0</td><td>0.0</td><td>0.8117117271080425</td><td>False</td><td>1.0003355216802925</td><td>True</td></tr>\n",
       "</table></div>"
      ],
      "text/plain": [
       "<QTable length=933>\n",
       "      galname        free_nopsf free_psf ...     re_ratio_psf    good_fit_psf\n",
       "       str33          float64   float64  ...       float64           str5    \n",
       "-------------------- ---------- -------- ... ------------------- ------------\n",
       "    VFID0001-NGC4133        0.0      0.0 ...  0.8619258558403579         True\n",
       "    VFID0002-NGC2977        0.0      0.0 ...  1.0284832421914314         True\n",
       "    VFID0005-NGC3752        0.0      0.0 ...  1.0037444314532242         True\n",
       "    VFID0008-NGC6643        0.0      0.0 ...  0.9343872357842872         True\n",
       "    VFID0010-NGC4648        0.0      0.0 ...  1.1716975638163643        False\n",
       "    VFID0011-NGC3155        0.0      0.0 ...  1.0021773187116647         True\n",
       "   VFID0013-UGC04883        0.0      0.0 ...  2.5741827326068734        False\n",
       "    VFID0018-NGC4589        0.0      0.0 ...  0.8811672460980842         True\n",
       "    VFID0019-NGC3183        0.0      0.0 ...  1.0647300172817153         True\n",
       "    VFID0020-NGC2633        0.0      0.0 ...  1.0027308949276985         True\n",
       "                 ...        ...      ... ...                 ...          ...\n",
       "    VFID6725-NGC4592        0.0      0.0 ...  0.9528801769571618         True\n",
       "    VFID6729-NGC4653        0.0      0.0 ...  1.1028754413642854         True\n",
       "VFID6735-CGCG007-025        0.0      1.0 ... 0.04797871125826651        False\n",
       "    VFID6736-NGC4642        0.0      0.0 ...  1.0817278412382467         True\n",
       "    VFID6759-NGC4355        0.0      0.0 ...               160.0        False\n",
       "   VFID6762-UGC06402        0.0      0.0 ...  1.0319022299817475         True\n",
       "    VFID6773-NGC5792        0.0      1.0 ...  0.5994912399151612        False\n",
       "    VFID6776-NGC4030        0.0      0.0 ...   0.925347489357337         True\n",
       "    VFID6780-NGC5496        0.0      0.0 ...  1.1104246494173413         True\n",
       "   VFID6787-UGC07883        0.0      0.0 ...  1.0003355216802925         True"
      ]
     },
     "execution_count": 72,
     "metadata": {},
     "output_type": "execute_result"
    }
   ],
   "source": [
    "#generating table\n",
    "tab = QTable([galnames,t1_error,t2_error,t3_error,t4_error,re_ratio_nopsf,good_fit_nopsf,re_ratio_psf,good_fit_psf],names=['galname','free_nopsf','free_psf','fixed_nopsf','fixed_psf','re_ratio_nopsf','good_fit_nopsf','re_ratio_psf','good_fit_psf'])\n",
    "\n",
    "tab['free_nopsf'].astype('int')\n",
    "tab['free_psf'].astype('int')\n",
    "tab['fixed_nopsf'].astype('int')\n",
    "tab['fixed_psf'].astype('int')\n",
    "\n",
    "tab"
   ]
  },
  {
   "cell_type": "code",
   "execution_count": 68,
   "id": "77646acb",
   "metadata": {},
   "outputs": [],
   "source": [
    "#saving table...\n",
    "os.chdir(homedir)\n",
    "ascii.write(tab,'disk_prep.csv',format='csv',overwrite=True)"
   ]
  },
  {
   "cell_type": "code",
   "execution_count": 70,
   "id": "e42c7430",
   "metadata": {},
   "outputs": [],
   "source": [
    "#now, read in new table (which I have updated in Google Sheets) to begin the process of disk comparisons,\n",
    "#at long last. Or not...(see below)."
   ]
  },
  {
   "cell_type": "markdown",
   "id": "a6fa8f73",
   "metadata": {},
   "source": [
    "# -------------------------------------------------------------------------------------------"
   ]
  },
  {
   "cell_type": "code",
   "execution_count": 73,
   "id": "c888593f",
   "metadata": {},
   "outputs": [],
   "source": [
    "#new objectives:\n",
    "\n",
    "#isolate late-type galaxies from sample using t-test\n",
    "#the t-type is available in Hyperleda catalog, so will pull and cut this first "
   ]
  },
  {
   "cell_type": "code",
   "execution_count": 71,
   "id": "d3416e08",
   "metadata": {},
   "outputs": [],
   "source": [
    "#general conversion from model sga_params to half-light radius, using legacysurvey.org instructions\n",
    "\n",
    "\n"
   ]
  },
  {
   "cell_type": "code",
   "execution_count": null,
   "id": "43f12bc3",
   "metadata": {},
   "outputs": [],
   "source": [
    "#new objective: ISOLATE THE LATE-TYPE GALAXIES!\n",
    "#Hyperleda catalog inclues t-types, \n",
    "\n",
    "\n",
    "\n"
   ]
  }
 ],
 "metadata": {
  "kernelspec": {
   "display_name": "Python 3",
   "language": "python",
   "name": "python3"
  },
  "language_info": {
   "codemirror_mode": {
    "name": "ipython",
    "version": 3
   },
   "file_extension": ".py",
   "mimetype": "text/x-python",
   "name": "python",
   "nbconvert_exporter": "python",
   "pygments_lexer": "ipython3",
   "version": "3.8.3"
  }
 },
 "nbformat": 4,
 "nbformat_minor": 5
}
