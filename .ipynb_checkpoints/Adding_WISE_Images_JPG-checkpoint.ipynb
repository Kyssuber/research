{
 "cells": [
  {
   "cell_type": "markdown",
   "metadata": {},
   "source": [
    "# Brief tutorial to pull and display galaxy cutouts from the Legacy Survey website."
   ]
  },
  {
   "cell_type": "code",
   "execution_count": 1,
   "metadata": {},
   "outputs": [],
   "source": [
    "import numpy as np\n",
    "from matplotlib import pyplot as plt\n",
    "import os\n",
    "from astropy.table import Table\n",
    "from astropy.wcs import WCS\n",
    "\n",
    "from astropy.io import fits\n",
    "from astropy.table import Table\n",
    "from astropy.io import ascii"
   ]
  },
  {
   "cell_type": "code",
   "execution_count": 2,
   "metadata": {},
   "outputs": [],
   "source": [
    "homedir = os.getenv(\"HOME\")\n",
    "\n",
    "vfmain = Table.read(homedir+'/sample_main.fits')\n",
    "vfz0mgs = Table.read(homedir+'/sample_mgs.fits')"
   ]
  },
  {
   "cell_type": "code",
   "execution_count": 3,
   "metadata": {},
   "outputs": [],
   "source": [
    "ra = vfmain['RA'][0]\n",
    "dec = vfmain['DEC'][0]\n",
    "size = vfmain['radius'][0]\n",
    "galname = vfmain['prefix'][0]"
   ]
  },
  {
   "cell_type": "code",
   "execution_count": 5,
   "metadata": {},
   "outputs": [
    {
     "name": "stdout",
     "output_type": "stream",
     "text": [
      "wise image size =  348\n",
      "downloading unwise images\n",
      "http://unwise.me/cutout_fits?version=allwise&ra=237.85522&dec=62.31004&size=348&bands=3\n"
     ]
    },
    {
     "ename": "URLError",
     "evalue": "<urlopen error [Errno 60] Operation timed out>",
     "output_type": "error",
     "traceback": [
      "\u001b[0;31m---------------------------------------------------------------------------\u001b[0m",
      "\u001b[0;31mTimeoutError\u001b[0m                              Traceback (most recent call last)",
      "\u001b[0;32m~/opt/anaconda3/lib/python3.8/urllib/request.py\u001b[0m in \u001b[0;36mdo_open\u001b[0;34m(self, http_class, req, **http_conn_args)\u001b[0m\n\u001b[1;32m   1349\u001b[0m             \u001b[0;32mtry\u001b[0m\u001b[0;34m:\u001b[0m\u001b[0;34m\u001b[0m\u001b[0;34m\u001b[0m\u001b[0m\n\u001b[0;32m-> 1350\u001b[0;31m                 h.request(req.get_method(), req.selector, req.data, headers,\n\u001b[0m\u001b[1;32m   1351\u001b[0m                           encode_chunked=req.has_header('Transfer-encoding'))\n",
      "\u001b[0;32m~/opt/anaconda3/lib/python3.8/http/client.py\u001b[0m in \u001b[0;36mrequest\u001b[0;34m(self, method, url, body, headers, encode_chunked)\u001b[0m\n\u001b[1;32m   1239\u001b[0m         \u001b[0;34m\"\"\"Send a complete request to the server.\"\"\"\u001b[0m\u001b[0;34m\u001b[0m\u001b[0;34m\u001b[0m\u001b[0m\n\u001b[0;32m-> 1240\u001b[0;31m         \u001b[0mself\u001b[0m\u001b[0;34m.\u001b[0m\u001b[0m_send_request\u001b[0m\u001b[0;34m(\u001b[0m\u001b[0mmethod\u001b[0m\u001b[0;34m,\u001b[0m \u001b[0murl\u001b[0m\u001b[0;34m,\u001b[0m \u001b[0mbody\u001b[0m\u001b[0;34m,\u001b[0m \u001b[0mheaders\u001b[0m\u001b[0;34m,\u001b[0m \u001b[0mencode_chunked\u001b[0m\u001b[0;34m)\u001b[0m\u001b[0;34m\u001b[0m\u001b[0;34m\u001b[0m\u001b[0m\n\u001b[0m\u001b[1;32m   1241\u001b[0m \u001b[0;34m\u001b[0m\u001b[0m\n",
      "\u001b[0;32m~/opt/anaconda3/lib/python3.8/http/client.py\u001b[0m in \u001b[0;36m_send_request\u001b[0;34m(self, method, url, body, headers, encode_chunked)\u001b[0m\n\u001b[1;32m   1285\u001b[0m             \u001b[0mbody\u001b[0m \u001b[0;34m=\u001b[0m \u001b[0m_encode\u001b[0m\u001b[0;34m(\u001b[0m\u001b[0mbody\u001b[0m\u001b[0;34m,\u001b[0m \u001b[0;34m'body'\u001b[0m\u001b[0;34m)\u001b[0m\u001b[0;34m\u001b[0m\u001b[0;34m\u001b[0m\u001b[0m\n\u001b[0;32m-> 1286\u001b[0;31m         \u001b[0mself\u001b[0m\u001b[0;34m.\u001b[0m\u001b[0mendheaders\u001b[0m\u001b[0;34m(\u001b[0m\u001b[0mbody\u001b[0m\u001b[0;34m,\u001b[0m \u001b[0mencode_chunked\u001b[0m\u001b[0;34m=\u001b[0m\u001b[0mencode_chunked\u001b[0m\u001b[0;34m)\u001b[0m\u001b[0;34m\u001b[0m\u001b[0;34m\u001b[0m\u001b[0m\n\u001b[0m\u001b[1;32m   1287\u001b[0m \u001b[0;34m\u001b[0m\u001b[0m\n",
      "\u001b[0;32m~/opt/anaconda3/lib/python3.8/http/client.py\u001b[0m in \u001b[0;36mendheaders\u001b[0;34m(self, message_body, encode_chunked)\u001b[0m\n\u001b[1;32m   1234\u001b[0m             \u001b[0;32mraise\u001b[0m \u001b[0mCannotSendHeader\u001b[0m\u001b[0;34m(\u001b[0m\u001b[0;34m)\u001b[0m\u001b[0;34m\u001b[0m\u001b[0;34m\u001b[0m\u001b[0m\n\u001b[0;32m-> 1235\u001b[0;31m         \u001b[0mself\u001b[0m\u001b[0;34m.\u001b[0m\u001b[0m_send_output\u001b[0m\u001b[0;34m(\u001b[0m\u001b[0mmessage_body\u001b[0m\u001b[0;34m,\u001b[0m \u001b[0mencode_chunked\u001b[0m\u001b[0;34m=\u001b[0m\u001b[0mencode_chunked\u001b[0m\u001b[0;34m)\u001b[0m\u001b[0;34m\u001b[0m\u001b[0;34m\u001b[0m\u001b[0m\n\u001b[0m\u001b[1;32m   1236\u001b[0m \u001b[0;34m\u001b[0m\u001b[0m\n",
      "\u001b[0;32m~/opt/anaconda3/lib/python3.8/http/client.py\u001b[0m in \u001b[0;36m_send_output\u001b[0;34m(self, message_body, encode_chunked)\u001b[0m\n\u001b[1;32m   1005\u001b[0m         \u001b[0;32mdel\u001b[0m \u001b[0mself\u001b[0m\u001b[0;34m.\u001b[0m\u001b[0m_buffer\u001b[0m\u001b[0;34m[\u001b[0m\u001b[0;34m:\u001b[0m\u001b[0;34m]\u001b[0m\u001b[0;34m\u001b[0m\u001b[0;34m\u001b[0m\u001b[0m\n\u001b[0;32m-> 1006\u001b[0;31m         \u001b[0mself\u001b[0m\u001b[0;34m.\u001b[0m\u001b[0msend\u001b[0m\u001b[0;34m(\u001b[0m\u001b[0mmsg\u001b[0m\u001b[0;34m)\u001b[0m\u001b[0;34m\u001b[0m\u001b[0;34m\u001b[0m\u001b[0m\n\u001b[0m\u001b[1;32m   1007\u001b[0m \u001b[0;34m\u001b[0m\u001b[0m\n",
      "\u001b[0;32m~/opt/anaconda3/lib/python3.8/http/client.py\u001b[0m in \u001b[0;36msend\u001b[0;34m(self, data)\u001b[0m\n\u001b[1;32m    945\u001b[0m             \u001b[0;32mif\u001b[0m \u001b[0mself\u001b[0m\u001b[0;34m.\u001b[0m\u001b[0mauto_open\u001b[0m\u001b[0;34m:\u001b[0m\u001b[0;34m\u001b[0m\u001b[0;34m\u001b[0m\u001b[0m\n\u001b[0;32m--> 946\u001b[0;31m                 \u001b[0mself\u001b[0m\u001b[0;34m.\u001b[0m\u001b[0mconnect\u001b[0m\u001b[0;34m(\u001b[0m\u001b[0;34m)\u001b[0m\u001b[0;34m\u001b[0m\u001b[0;34m\u001b[0m\u001b[0m\n\u001b[0m\u001b[1;32m    947\u001b[0m             \u001b[0;32melse\u001b[0m\u001b[0;34m:\u001b[0m\u001b[0;34m\u001b[0m\u001b[0;34m\u001b[0m\u001b[0m\n",
      "\u001b[0;32m~/opt/anaconda3/lib/python3.8/http/client.py\u001b[0m in \u001b[0;36mconnect\u001b[0;34m(self)\u001b[0m\n\u001b[1;32m    916\u001b[0m         \u001b[0;34m\"\"\"Connect to the host and port specified in __init__.\"\"\"\u001b[0m\u001b[0;34m\u001b[0m\u001b[0;34m\u001b[0m\u001b[0m\n\u001b[0;32m--> 917\u001b[0;31m         self.sock = self._create_connection(\n\u001b[0m\u001b[1;32m    918\u001b[0m             (self.host,self.port), self.timeout, self.source_address)\n",
      "\u001b[0;32m~/opt/anaconda3/lib/python3.8/socket.py\u001b[0m in \u001b[0;36mcreate_connection\u001b[0;34m(address, timeout, source_address)\u001b[0m\n\u001b[1;32m    807\u001b[0m         \u001b[0;32mtry\u001b[0m\u001b[0;34m:\u001b[0m\u001b[0;34m\u001b[0m\u001b[0;34m\u001b[0m\u001b[0m\n\u001b[0;32m--> 808\u001b[0;31m             \u001b[0;32mraise\u001b[0m \u001b[0merr\u001b[0m\u001b[0;34m\u001b[0m\u001b[0;34m\u001b[0m\u001b[0m\n\u001b[0m\u001b[1;32m    809\u001b[0m         \u001b[0;32mfinally\u001b[0m\u001b[0;34m:\u001b[0m\u001b[0;34m\u001b[0m\u001b[0;34m\u001b[0m\u001b[0m\n",
      "\u001b[0;32m~/opt/anaconda3/lib/python3.8/socket.py\u001b[0m in \u001b[0;36mcreate_connection\u001b[0;34m(address, timeout, source_address)\u001b[0m\n\u001b[1;32m    795\u001b[0m                 \u001b[0msock\u001b[0m\u001b[0;34m.\u001b[0m\u001b[0mbind\u001b[0m\u001b[0;34m(\u001b[0m\u001b[0msource_address\u001b[0m\u001b[0;34m)\u001b[0m\u001b[0;34m\u001b[0m\u001b[0;34m\u001b[0m\u001b[0m\n\u001b[0;32m--> 796\u001b[0;31m             \u001b[0msock\u001b[0m\u001b[0;34m.\u001b[0m\u001b[0mconnect\u001b[0m\u001b[0;34m(\u001b[0m\u001b[0msa\u001b[0m\u001b[0;34m)\u001b[0m\u001b[0;34m\u001b[0m\u001b[0;34m\u001b[0m\u001b[0m\n\u001b[0m\u001b[1;32m    797\u001b[0m             \u001b[0;31m# Break explicitly a reference cycle\u001b[0m\u001b[0;34m\u001b[0m\u001b[0;34m\u001b[0m\u001b[0;34m\u001b[0m\u001b[0m\n",
      "\u001b[0;31mTimeoutError\u001b[0m: [Errno 60] Operation timed out",
      "\nDuring handling of the above exception, another exception occurred:\n",
      "\u001b[0;31mURLError\u001b[0m                                  Traceback (most recent call last)",
      "\u001b[0;32m<ipython-input-5-69b6384e5c08>\u001b[0m in \u001b[0;36m<module>\u001b[0;34m\u001b[0m\n\u001b[1;32m      2\u001b[0m \u001b[0mget_ipython\u001b[0m\u001b[0;34m(\u001b[0m\u001b[0;34m)\u001b[0m\u001b[0;34m.\u001b[0m\u001b[0mrun_line_magic\u001b[0m\u001b[0;34m(\u001b[0m\u001b[0;34m'run'\u001b[0m\u001b[0;34m,\u001b[0m \u001b[0;34m'~/github/virgowise/wisesize.py'\u001b[0m\u001b[0;34m)\u001b[0m\u001b[0;34m\u001b[0m\u001b[0;34m\u001b[0m\u001b[0m\n\u001b[1;32m      3\u001b[0m \u001b[0mg\u001b[0m \u001b[0;34m=\u001b[0m \u001b[0mgalaxy\u001b[0m\u001b[0;34m(\u001b[0m\u001b[0mra\u001b[0m\u001b[0;34m,\u001b[0m \u001b[0mdec\u001b[0m\u001b[0;34m,\u001b[0m \u001b[0msize\u001b[0m\u001b[0;34m,\u001b[0m\u001b[0mname\u001b[0m\u001b[0;34m=\u001b[0m\u001b[0mgalname\u001b[0m\u001b[0;34m,\u001b[0m\u001b[0mband\u001b[0m\u001b[0;34m=\u001b[0m\u001b[0;34m'3'\u001b[0m\u001b[0;34m)\u001b[0m\u001b[0;34m\u001b[0m\u001b[0;34m\u001b[0m\u001b[0m\n\u001b[0;32m----> 4\u001b[0;31m \u001b[0mg\u001b[0m\u001b[0;34m.\u001b[0m\u001b[0mrun_simple\u001b[0m\u001b[0;34m(\u001b[0m\u001b[0mconvflag\u001b[0m\u001b[0;34m=\u001b[0m\u001b[0;32mFalse\u001b[0m\u001b[0;34m)\u001b[0m\u001b[0;34m\u001b[0m\u001b[0;34m\u001b[0m\u001b[0m\n\u001b[0m",
      "\u001b[0;32m~/github/virgowise/wisesize.py\u001b[0m in \u001b[0;36mrun_simple\u001b[0;34m(self, convflag)\u001b[0m\n\u001b[1;32m    513\u001b[0m         '''\n\u001b[1;32m    514\u001b[0m         \u001b[0;31m# download the wise images if the user requests this\u001b[0m\u001b[0;34m\u001b[0m\u001b[0;34m\u001b[0m\u001b[0;34m\u001b[0m\u001b[0m\n\u001b[0;32m--> 515\u001b[0;31m         \u001b[0mself\u001b[0m\u001b[0;34m.\u001b[0m\u001b[0mget_wise_image\u001b[0m\u001b[0;34m(\u001b[0m\u001b[0;34m)\u001b[0m\u001b[0;34m\u001b[0m\u001b[0;34m\u001b[0m\u001b[0m\n\u001b[0m\u001b[1;32m    516\u001b[0m \u001b[0;34m\u001b[0m\u001b[0m\n\u001b[1;32m    517\u001b[0m         \u001b[0;31m# define image names\u001b[0m\u001b[0;34m\u001b[0m\u001b[0;34m\u001b[0m\u001b[0;34m\u001b[0m\u001b[0m\n",
      "\u001b[0;32m~/github/virgowise/wisesize.py\u001b[0m in \u001b[0;36mget_wise_image\u001b[0;34m(self, makeplots)\u001b[0m\n\u001b[1;32m    117\u001b[0m         \u001b[0mimsize\u001b[0m \u001b[0;34m=\u001b[0m \u001b[0mself\u001b[0m\u001b[0;34m.\u001b[0m\u001b[0mradius\u001b[0m\u001b[0;34m*\u001b[0m\u001b[0;36m2\u001b[0m\u001b[0;34m\u001b[0m\u001b[0;34m\u001b[0m\u001b[0m\n\u001b[1;32m    118\u001b[0m \u001b[0;34m\u001b[0m\u001b[0m\n\u001b[0;32m--> 119\u001b[0;31m         \u001b[0mimagenames\u001b[0m\u001b[0;34m,\u001b[0m\u001b[0mweightnames\u001b[0m\u001b[0;34m,\u001b[0m\u001b[0mmultiframe\u001b[0m \u001b[0;34m=\u001b[0m \u001b[0mcutouts\u001b[0m\u001b[0;34m.\u001b[0m\u001b[0mget_unwise_image\u001b[0m\u001b[0;34m(\u001b[0m\u001b[0mself\u001b[0m\u001b[0;34m.\u001b[0m\u001b[0mra\u001b[0m\u001b[0;34m,\u001b[0m\u001b[0mself\u001b[0m\u001b[0;34m.\u001b[0m\u001b[0mdec\u001b[0m\u001b[0;34m,\u001b[0m\u001b[0mgalid\u001b[0m\u001b[0;34m=\u001b[0m\u001b[0mself\u001b[0m\u001b[0;34m.\u001b[0m\u001b[0mgalname\u001b[0m\u001b[0;34m,\u001b[0m\u001b[0mpixscale\u001b[0m\u001b[0;34m=\u001b[0m\u001b[0;36m1\u001b[0m\u001b[0;34m,\u001b[0m\u001b[0mimsize\u001b[0m\u001b[0;34m=\u001b[0m\u001b[0mself\u001b[0m\u001b[0;34m.\u001b[0m\u001b[0mradius\u001b[0m\u001b[0;34m*\u001b[0m\u001b[0;36m2\u001b[0m\u001b[0;34m,\u001b[0m\u001b[0mbands\u001b[0m\u001b[0;34m=\u001b[0m\u001b[0mself\u001b[0m\u001b[0;34m.\u001b[0m\u001b[0mband\u001b[0m\u001b[0;34m,\u001b[0m\u001b[0mmakeplots\u001b[0m\u001b[0;34m=\u001b[0m\u001b[0mmakeplots\u001b[0m\u001b[0;34m,\u001b[0m\u001b[0msubfolder\u001b[0m\u001b[0;34m=\u001b[0m\u001b[0;32mNone\u001b[0m\u001b[0;34m)\u001b[0m\u001b[0;34m\u001b[0m\u001b[0;34m\u001b[0m\u001b[0m\n\u001b[0m\u001b[1;32m    120\u001b[0m \u001b[0;34m\u001b[0m\u001b[0m\n\u001b[1;32m    121\u001b[0m         \u001b[0mself\u001b[0m\u001b[0;34m.\u001b[0m\u001b[0mimage\u001b[0m \u001b[0;34m=\u001b[0m \u001b[0mimagenames\u001b[0m\u001b[0;34m[\u001b[0m\u001b[0;36m0\u001b[0m\u001b[0;34m]\u001b[0m\u001b[0;34m\u001b[0m\u001b[0;34m\u001b[0m\u001b[0m\n",
      "\u001b[0;32m~/github/HalphaImaging/python3/plot_cutouts_ha.py\u001b[0m in \u001b[0;36mget_unwise_image\u001b[0;34m(ra, dec, galid, pixscale, imsize, bands, makeplots, subfolder)\u001b[0m\n\u001b[1;32m    166\u001b[0m     \u001b[0mprint\u001b[0m\u001b[0;34m(\u001b[0m\u001b[0;34m'downloading unwise images'\u001b[0m\u001b[0;34m)\u001b[0m\u001b[0;34m\u001b[0m\u001b[0;34m\u001b[0m\u001b[0m\n\u001b[1;32m    167\u001b[0m     \u001b[0mprint\u001b[0m\u001b[0;34m(\u001b[0m\u001b[0mimurl\u001b[0m\u001b[0;34m)\u001b[0m\u001b[0;34m\u001b[0m\u001b[0;34m\u001b[0m\u001b[0m\n\u001b[0;32m--> 168\u001b[0;31m     \u001b[0mwisetar\u001b[0m \u001b[0;34m=\u001b[0m \u001b[0mwget\u001b[0m\u001b[0;34m.\u001b[0m\u001b[0mdownload\u001b[0m\u001b[0;34m(\u001b[0m\u001b[0mimurl\u001b[0m\u001b[0;34m)\u001b[0m\u001b[0;34m\u001b[0m\u001b[0;34m\u001b[0m\u001b[0m\n\u001b[0m\u001b[1;32m    169\u001b[0m     \u001b[0mtartemp\u001b[0m \u001b[0;34m=\u001b[0m \u001b[0mtarfile\u001b[0m\u001b[0;34m.\u001b[0m\u001b[0mopen\u001b[0m\u001b[0;34m(\u001b[0m\u001b[0mwisetar\u001b[0m\u001b[0;34m,\u001b[0m\u001b[0mmode\u001b[0m\u001b[0;34m=\u001b[0m\u001b[0;34m'r:gz'\u001b[0m\u001b[0;34m)\u001b[0m \u001b[0;31m#mode='r:gz'\u001b[0m\u001b[0;34m\u001b[0m\u001b[0;34m\u001b[0m\u001b[0m\n\u001b[1;32m    170\u001b[0m     \u001b[0mwnames\u001b[0m \u001b[0;34m=\u001b[0m \u001b[0mtartemp\u001b[0m\u001b[0;34m.\u001b[0m\u001b[0mgetnames\u001b[0m\u001b[0;34m(\u001b[0m\u001b[0;34m)\u001b[0m\u001b[0;34m\u001b[0m\u001b[0;34m\u001b[0m\u001b[0m\n",
      "\u001b[0;32m~/opt/anaconda3/lib/python3.8/site-packages/wget.py\u001b[0m in \u001b[0;36mdownload\u001b[0;34m(url, out, bar)\u001b[0m\n\u001b[1;32m    524\u001b[0m     \u001b[0;32melse\u001b[0m\u001b[0;34m:\u001b[0m\u001b[0;34m\u001b[0m\u001b[0;34m\u001b[0m\u001b[0m\n\u001b[1;32m    525\u001b[0m         \u001b[0mbinurl\u001b[0m \u001b[0;34m=\u001b[0m \u001b[0murl\u001b[0m\u001b[0;34m\u001b[0m\u001b[0;34m\u001b[0m\u001b[0m\n\u001b[0;32m--> 526\u001b[0;31m     \u001b[0;34m(\u001b[0m\u001b[0mtmpfile\u001b[0m\u001b[0;34m,\u001b[0m \u001b[0mheaders\u001b[0m\u001b[0;34m)\u001b[0m \u001b[0;34m=\u001b[0m \u001b[0mulib\u001b[0m\u001b[0;34m.\u001b[0m\u001b[0murlretrieve\u001b[0m\u001b[0;34m(\u001b[0m\u001b[0mbinurl\u001b[0m\u001b[0;34m,\u001b[0m \u001b[0mtmpfile\u001b[0m\u001b[0;34m,\u001b[0m \u001b[0mcallback\u001b[0m\u001b[0;34m)\u001b[0m\u001b[0;34m\u001b[0m\u001b[0;34m\u001b[0m\u001b[0m\n\u001b[0m\u001b[1;32m    527\u001b[0m     \u001b[0mfilename\u001b[0m \u001b[0;34m=\u001b[0m \u001b[0mdetect_filename\u001b[0m\u001b[0;34m(\u001b[0m\u001b[0murl\u001b[0m\u001b[0;34m,\u001b[0m \u001b[0mout\u001b[0m\u001b[0;34m,\u001b[0m \u001b[0mheaders\u001b[0m\u001b[0;34m)\u001b[0m\u001b[0;34m\u001b[0m\u001b[0;34m\u001b[0m\u001b[0m\n\u001b[1;32m    528\u001b[0m     \u001b[0;32mif\u001b[0m \u001b[0moutdir\u001b[0m\u001b[0;34m:\u001b[0m\u001b[0;34m\u001b[0m\u001b[0;34m\u001b[0m\u001b[0m\n",
      "\u001b[0;32m~/opt/anaconda3/lib/python3.8/urllib/request.py\u001b[0m in \u001b[0;36murlretrieve\u001b[0;34m(url, filename, reporthook, data)\u001b[0m\n\u001b[1;32m    245\u001b[0m     \u001b[0murl_type\u001b[0m\u001b[0;34m,\u001b[0m \u001b[0mpath\u001b[0m \u001b[0;34m=\u001b[0m \u001b[0m_splittype\u001b[0m\u001b[0;34m(\u001b[0m\u001b[0murl\u001b[0m\u001b[0;34m)\u001b[0m\u001b[0;34m\u001b[0m\u001b[0;34m\u001b[0m\u001b[0m\n\u001b[1;32m    246\u001b[0m \u001b[0;34m\u001b[0m\u001b[0m\n\u001b[0;32m--> 247\u001b[0;31m     \u001b[0;32mwith\u001b[0m \u001b[0mcontextlib\u001b[0m\u001b[0;34m.\u001b[0m\u001b[0mclosing\u001b[0m\u001b[0;34m(\u001b[0m\u001b[0murlopen\u001b[0m\u001b[0;34m(\u001b[0m\u001b[0murl\u001b[0m\u001b[0;34m,\u001b[0m \u001b[0mdata\u001b[0m\u001b[0;34m)\u001b[0m\u001b[0;34m)\u001b[0m \u001b[0;32mas\u001b[0m \u001b[0mfp\u001b[0m\u001b[0;34m:\u001b[0m\u001b[0;34m\u001b[0m\u001b[0;34m\u001b[0m\u001b[0m\n\u001b[0m\u001b[1;32m    248\u001b[0m         \u001b[0mheaders\u001b[0m \u001b[0;34m=\u001b[0m \u001b[0mfp\u001b[0m\u001b[0;34m.\u001b[0m\u001b[0minfo\u001b[0m\u001b[0;34m(\u001b[0m\u001b[0;34m)\u001b[0m\u001b[0;34m\u001b[0m\u001b[0;34m\u001b[0m\u001b[0m\n\u001b[1;32m    249\u001b[0m \u001b[0;34m\u001b[0m\u001b[0m\n",
      "\u001b[0;32m~/opt/anaconda3/lib/python3.8/urllib/request.py\u001b[0m in \u001b[0;36murlopen\u001b[0;34m(url, data, timeout, cafile, capath, cadefault, context)\u001b[0m\n\u001b[1;32m    220\u001b[0m     \u001b[0;32melse\u001b[0m\u001b[0;34m:\u001b[0m\u001b[0;34m\u001b[0m\u001b[0;34m\u001b[0m\u001b[0m\n\u001b[1;32m    221\u001b[0m         \u001b[0mopener\u001b[0m \u001b[0;34m=\u001b[0m \u001b[0m_opener\u001b[0m\u001b[0;34m\u001b[0m\u001b[0;34m\u001b[0m\u001b[0m\n\u001b[0;32m--> 222\u001b[0;31m     \u001b[0;32mreturn\u001b[0m \u001b[0mopener\u001b[0m\u001b[0;34m.\u001b[0m\u001b[0mopen\u001b[0m\u001b[0;34m(\u001b[0m\u001b[0murl\u001b[0m\u001b[0;34m,\u001b[0m \u001b[0mdata\u001b[0m\u001b[0;34m,\u001b[0m \u001b[0mtimeout\u001b[0m\u001b[0;34m)\u001b[0m\u001b[0;34m\u001b[0m\u001b[0;34m\u001b[0m\u001b[0m\n\u001b[0m\u001b[1;32m    223\u001b[0m \u001b[0;34m\u001b[0m\u001b[0m\n\u001b[1;32m    224\u001b[0m \u001b[0;32mdef\u001b[0m \u001b[0minstall_opener\u001b[0m\u001b[0;34m(\u001b[0m\u001b[0mopener\u001b[0m\u001b[0;34m)\u001b[0m\u001b[0;34m:\u001b[0m\u001b[0;34m\u001b[0m\u001b[0;34m\u001b[0m\u001b[0m\n",
      "\u001b[0;32m~/opt/anaconda3/lib/python3.8/urllib/request.py\u001b[0m in \u001b[0;36mopen\u001b[0;34m(self, fullurl, data, timeout)\u001b[0m\n\u001b[1;32m    523\u001b[0m \u001b[0;34m\u001b[0m\u001b[0m\n\u001b[1;32m    524\u001b[0m         \u001b[0msys\u001b[0m\u001b[0;34m.\u001b[0m\u001b[0maudit\u001b[0m\u001b[0;34m(\u001b[0m\u001b[0;34m'urllib.Request'\u001b[0m\u001b[0;34m,\u001b[0m \u001b[0mreq\u001b[0m\u001b[0;34m.\u001b[0m\u001b[0mfull_url\u001b[0m\u001b[0;34m,\u001b[0m \u001b[0mreq\u001b[0m\u001b[0;34m.\u001b[0m\u001b[0mdata\u001b[0m\u001b[0;34m,\u001b[0m \u001b[0mreq\u001b[0m\u001b[0;34m.\u001b[0m\u001b[0mheaders\u001b[0m\u001b[0;34m,\u001b[0m \u001b[0mreq\u001b[0m\u001b[0;34m.\u001b[0m\u001b[0mget_method\u001b[0m\u001b[0;34m(\u001b[0m\u001b[0;34m)\u001b[0m\u001b[0;34m)\u001b[0m\u001b[0;34m\u001b[0m\u001b[0;34m\u001b[0m\u001b[0m\n\u001b[0;32m--> 525\u001b[0;31m         \u001b[0mresponse\u001b[0m \u001b[0;34m=\u001b[0m \u001b[0mself\u001b[0m\u001b[0;34m.\u001b[0m\u001b[0m_open\u001b[0m\u001b[0;34m(\u001b[0m\u001b[0mreq\u001b[0m\u001b[0;34m,\u001b[0m \u001b[0mdata\u001b[0m\u001b[0;34m)\u001b[0m\u001b[0;34m\u001b[0m\u001b[0;34m\u001b[0m\u001b[0m\n\u001b[0m\u001b[1;32m    526\u001b[0m \u001b[0;34m\u001b[0m\u001b[0m\n\u001b[1;32m    527\u001b[0m         \u001b[0;31m# post-process response\u001b[0m\u001b[0;34m\u001b[0m\u001b[0;34m\u001b[0m\u001b[0;34m\u001b[0m\u001b[0m\n",
      "\u001b[0;32m~/opt/anaconda3/lib/python3.8/urllib/request.py\u001b[0m in \u001b[0;36m_open\u001b[0;34m(self, req, data)\u001b[0m\n\u001b[1;32m    540\u001b[0m \u001b[0;34m\u001b[0m\u001b[0m\n\u001b[1;32m    541\u001b[0m         \u001b[0mprotocol\u001b[0m \u001b[0;34m=\u001b[0m \u001b[0mreq\u001b[0m\u001b[0;34m.\u001b[0m\u001b[0mtype\u001b[0m\u001b[0;34m\u001b[0m\u001b[0;34m\u001b[0m\u001b[0m\n\u001b[0;32m--> 542\u001b[0;31m         result = self._call_chain(self.handle_open, protocol, protocol +\n\u001b[0m\u001b[1;32m    543\u001b[0m                                   '_open', req)\n\u001b[1;32m    544\u001b[0m         \u001b[0;32mif\u001b[0m \u001b[0mresult\u001b[0m\u001b[0;34m:\u001b[0m\u001b[0;34m\u001b[0m\u001b[0;34m\u001b[0m\u001b[0m\n",
      "\u001b[0;32m~/opt/anaconda3/lib/python3.8/urllib/request.py\u001b[0m in \u001b[0;36m_call_chain\u001b[0;34m(self, chain, kind, meth_name, *args)\u001b[0m\n\u001b[1;32m    500\u001b[0m         \u001b[0;32mfor\u001b[0m \u001b[0mhandler\u001b[0m \u001b[0;32min\u001b[0m \u001b[0mhandlers\u001b[0m\u001b[0;34m:\u001b[0m\u001b[0;34m\u001b[0m\u001b[0;34m\u001b[0m\u001b[0m\n\u001b[1;32m    501\u001b[0m             \u001b[0mfunc\u001b[0m \u001b[0;34m=\u001b[0m \u001b[0mgetattr\u001b[0m\u001b[0;34m(\u001b[0m\u001b[0mhandler\u001b[0m\u001b[0;34m,\u001b[0m \u001b[0mmeth_name\u001b[0m\u001b[0;34m)\u001b[0m\u001b[0;34m\u001b[0m\u001b[0;34m\u001b[0m\u001b[0m\n\u001b[0;32m--> 502\u001b[0;31m             \u001b[0mresult\u001b[0m \u001b[0;34m=\u001b[0m \u001b[0mfunc\u001b[0m\u001b[0;34m(\u001b[0m\u001b[0;34m*\u001b[0m\u001b[0margs\u001b[0m\u001b[0;34m)\u001b[0m\u001b[0;34m\u001b[0m\u001b[0;34m\u001b[0m\u001b[0m\n\u001b[0m\u001b[1;32m    503\u001b[0m             \u001b[0;32mif\u001b[0m \u001b[0mresult\u001b[0m \u001b[0;32mis\u001b[0m \u001b[0;32mnot\u001b[0m \u001b[0;32mNone\u001b[0m\u001b[0;34m:\u001b[0m\u001b[0;34m\u001b[0m\u001b[0;34m\u001b[0m\u001b[0m\n\u001b[1;32m    504\u001b[0m                 \u001b[0;32mreturn\u001b[0m \u001b[0mresult\u001b[0m\u001b[0;34m\u001b[0m\u001b[0;34m\u001b[0m\u001b[0m\n",
      "\u001b[0;32m~/opt/anaconda3/lib/python3.8/urllib/request.py\u001b[0m in \u001b[0;36mhttp_open\u001b[0;34m(self, req)\u001b[0m\n\u001b[1;32m   1377\u001b[0m \u001b[0;34m\u001b[0m\u001b[0m\n\u001b[1;32m   1378\u001b[0m     \u001b[0;32mdef\u001b[0m \u001b[0mhttp_open\u001b[0m\u001b[0;34m(\u001b[0m\u001b[0mself\u001b[0m\u001b[0;34m,\u001b[0m \u001b[0mreq\u001b[0m\u001b[0;34m)\u001b[0m\u001b[0;34m:\u001b[0m\u001b[0;34m\u001b[0m\u001b[0;34m\u001b[0m\u001b[0m\n\u001b[0;32m-> 1379\u001b[0;31m         \u001b[0;32mreturn\u001b[0m \u001b[0mself\u001b[0m\u001b[0;34m.\u001b[0m\u001b[0mdo_open\u001b[0m\u001b[0;34m(\u001b[0m\u001b[0mhttp\u001b[0m\u001b[0;34m.\u001b[0m\u001b[0mclient\u001b[0m\u001b[0;34m.\u001b[0m\u001b[0mHTTPConnection\u001b[0m\u001b[0;34m,\u001b[0m \u001b[0mreq\u001b[0m\u001b[0;34m)\u001b[0m\u001b[0;34m\u001b[0m\u001b[0;34m\u001b[0m\u001b[0m\n\u001b[0m\u001b[1;32m   1380\u001b[0m \u001b[0;34m\u001b[0m\u001b[0m\n\u001b[1;32m   1381\u001b[0m     \u001b[0mhttp_request\u001b[0m \u001b[0;34m=\u001b[0m \u001b[0mAbstractHTTPHandler\u001b[0m\u001b[0;34m.\u001b[0m\u001b[0mdo_request_\u001b[0m\u001b[0;34m\u001b[0m\u001b[0;34m\u001b[0m\u001b[0m\n",
      "\u001b[0;32m~/opt/anaconda3/lib/python3.8/urllib/request.py\u001b[0m in \u001b[0;36mdo_open\u001b[0;34m(self, http_class, req, **http_conn_args)\u001b[0m\n\u001b[1;32m   1351\u001b[0m                           encode_chunked=req.has_header('Transfer-encoding'))\n\u001b[1;32m   1352\u001b[0m             \u001b[0;32mexcept\u001b[0m \u001b[0mOSError\u001b[0m \u001b[0;32mas\u001b[0m \u001b[0merr\u001b[0m\u001b[0;34m:\u001b[0m \u001b[0;31m# timeout error\u001b[0m\u001b[0;34m\u001b[0m\u001b[0;34m\u001b[0m\u001b[0m\n\u001b[0;32m-> 1353\u001b[0;31m                 \u001b[0;32mraise\u001b[0m \u001b[0mURLError\u001b[0m\u001b[0;34m(\u001b[0m\u001b[0merr\u001b[0m\u001b[0;34m)\u001b[0m\u001b[0;34m\u001b[0m\u001b[0;34m\u001b[0m\u001b[0m\n\u001b[0m\u001b[1;32m   1354\u001b[0m             \u001b[0mr\u001b[0m \u001b[0;34m=\u001b[0m \u001b[0mh\u001b[0m\u001b[0;34m.\u001b[0m\u001b[0mgetresponse\u001b[0m\u001b[0;34m(\u001b[0m\u001b[0;34m)\u001b[0m\u001b[0;34m\u001b[0m\u001b[0;34m\u001b[0m\u001b[0m\n\u001b[1;32m   1355\u001b[0m         \u001b[0;32mexcept\u001b[0m\u001b[0;34m:\u001b[0m\u001b[0;34m\u001b[0m\u001b[0;34m\u001b[0m\u001b[0m\n",
      "\u001b[0;31mURLError\u001b[0m: <urlopen error [Errno 60] Operation timed out>"
     ]
    }
   ],
   "source": [
    "os.chdir(homedir+'/github/WISE_test')\n",
    "%run ~/github/virgowise/wisesize.py\n",
    "g = galaxy(ra, dec, size,name=galname,band='3')\n",
    "g.run_simple(convflag=False)"
   ]
  },
  {
   "cell_type": "markdown",
   "metadata": {},
   "source": [
    "One option utilizes wget and a matplotlib package; only displays image in notebook, which is essentially the aim here.\n",
    "\n",
    "Note: the axes below represent pixel counts."
   ]
  },
  {
   "cell_type": "code",
   "execution_count": null,
   "metadata": {
    "scrolled": true
   },
   "outputs": [],
   "source": [
    "import wget\n",
    "import matplotlib.image as mpimg"
   ]
  },
  {
   "cell_type": "markdown",
   "metadata": {},
   "source": [
    "This galaxy is that featured in the above mosaic. No, the magenta streak is not representative of the actual physical object."
   ]
  },
  {
   "cell_type": "code",
   "execution_count": null,
   "metadata": {},
   "outputs": [],
   "source": [
    "image_url = \"https://www.legacysurvey.org/viewer/cutout.jpg?ra=\"+str(ra)+\"&dec=\"+str(dec)+\"&layer=ls-dr8&pixscale=2.00\"\n",
    "\n",
    "image = wget.download(image_url)\n",
    "\n",
    "plt.figure()\n",
    "plt.imshow(mpimg.imread(image))\n",
    "plt.show()"
   ]
  },
  {
   "cell_type": "code",
   "execution_count": null,
   "metadata": {
    "scrolled": false
   },
   "outputs": [],
   "source": [
    "image_url = \"https://www.legacysurvey.org/viewer/cutout.jpg?ra=\"+str(vfmain['RA'][1])+\"&dec=\"+str(vfmain['DEC'][1])+\"&layer=ls-dr8&pixscale=5.00\"\n",
    "image_url_2 = \"https://www.legacysurvey.org/viewer/cutout.jpg?ra=\"+str(vfmain['RA'][2])+\"&dec=\"+str(vfmain['DEC'][2])+\"&layer=ls-dr8&pixscale=6.00\"\n",
    "\n",
    "image = wget.download(image_url)\n",
    "image2 = wget.download(image_url_2)\n",
    "\n",
    "ra = vfmain['RA'][1]\n",
    "dec = vfmain['DEC'][1]\n",
    "size = vfmain['radius'][1]\n",
    "galname = vfmain['prefix'][1]\n",
    "\n",
    "\n",
    "g = galaxy(ra, dec, size,name=galname,band='3')\n",
    "g.run_simple(convflag=False)\n",
    "\n",
    "print(vfmain['prefix'][1])\n",
    "plt.figure(figsize=(5,5))\n",
    "plt.imshow(mpimg.imread(image))\n",
    "plt.show()\n",
    "\n",
    "ra = vfmain['RA'][2]\n",
    "dec = vfmain['DEC'][2]\n",
    "size = vfmain['radius'][2]\n",
    "galname = vfmain['prefix'][2]\n",
    "\n",
    "\n",
    "g = galaxy(ra, dec, size,name=galname,band='3')\n",
    "g.run_simple(convflag=False)\n",
    "\n",
    "print(vfmain['prefix'][2])\n",
    "plt.figure(figsize=(5,5))\n",
    "plt.imshow(mpimg.imread(image2))\n",
    "plt.show()\n"
   ]
  },
  {
   "cell_type": "markdown",
   "metadata": {},
   "source": [
    "Combining the two,"
   ]
  },
  {
   "cell_type": "code",
   "execution_count": null,
   "metadata": {},
   "outputs": [],
   "source": [
    "ra = vfmain['RA'][3]\n",
    "dec = vfmain['DEC'][3]\n",
    "size = vfmain['radius'][3]\n",
    "galname = vfmain['prefix'][3]\n",
    "\n",
    "\n",
    "g = galaxy(ra, dec, size,name=galname,band='3')\n",
    "g.run_simple(convflag=False)\n",
    "\n",
    "# Note for later reference --> I may like to use run_simple instead of run_all for my GALFIT loop, as doing\n",
    "# so allows me to both print the galaxy prefix and display the SDSS or DR8 cutout immediately underneath\n",
    "# the mosaic.\n",
    "\n",
    "image_url_3 = \"https://www.legacysurvey.org/viewer/cutout.jpg?ra=\"+str(ra)+\"&dec=\"+str(dec)+\"&layer=ls-dr8&pixscale=5.00\"\n",
    "\n",
    "image3 = wget.download(image_url_3)\n",
    "\n",
    "print(vfmain['prefix'][3])\n",
    "plt.figure(figsize=(5,5))\n",
    "plt.imshow(mpimg.imread(image3))\n",
    "plt.show()"
   ]
  },
  {
   "cell_type": "markdown",
   "metadata": {},
   "source": [
    "#### The Legacy Survey cutout is ... a bit streaky. The problem *might* be the link, so I will try SDSS instead of DR8."
   ]
  },
  {
   "cell_type": "code",
   "execution_count": null,
   "metadata": {},
   "outputs": [],
   "source": [
    "image_url = \"https://www.legacysurvey.org/viewer/cutout.jpg?ra=137.9066&dec=60.0367&layer=sdss&pixscale=6.00\"\n",
    "\n",
    "image = wget.download(image_url)\n",
    "\n",
    "print(vfmain['prefix'][3])\n",
    "plt.figure(figsize=(5,5))\n",
    "plt.imshow(mpimg.imread(image))\n",
    "plt.show()"
   ]
  },
  {
   "cell_type": "markdown",
   "metadata": {},
   "source": [
    "One trouble I encountered was the galaxy scale: the final url argument, pixscale, might require a bit of manipulation as I transition to the less massive galaxies (indeed, the first galaxy I displayed used a scale of 1.00, which was fine for that sized galaxy but REALLY magnified these larger behemoths."
   ]
  },
  {
   "cell_type": "markdown",
   "metadata": {},
   "source": [
    "## Automating the pixscale"
   ]
  },
  {
   "cell_type": "code",
   "execution_count": null,
   "metadata": {},
   "outputs": [],
   "source": [
    "# let's automate the scaling a bit...\n",
    "\n",
    "# to do so, I reference the galaxy radius (estimate acquired with D25/2), in arcseconds"
   ]
  },
  {
   "cell_type": "code",
   "execution_count": null,
   "metadata": {},
   "outputs": [],
   "source": [
    "# at least for these larger galaxies, pixscale=7.00 is effective for many. A few remain too enlarged.\n",
    "# Let's try the largest bugger, according to its radius (D25/2):\n",
    "\n",
    "index = np.where((vfmain['radius'] == np.max(vfmain['radius'])))\n",
    "print(index[0])\n",
    "rad = vfmain['radius'][index[0]]\n",
    "print(rad)"
   ]
  },
  {
   "cell_type": "code",
   "execution_count": null,
   "metadata": {},
   "outputs": [],
   "source": [
    "ra = vfmain['RA'][28]\n",
    "dec = vfmain['DEC'][28]\n",
    "size = vfmain['radius'][28]\n",
    "galname = vfmain['prefix'][28]\n",
    "\n",
    "\n",
    "g = galaxy(ra, dec, size,name=galname,band='3')\n",
    "g.run_simple(convflag=False)\n",
    "\n",
    "image_url = \"https://www.legacysurvey.org/viewer/cutout.jpg?ra=\"+str(vfmain['RA'][28])+\"&dec=\"+str(vfmain['DEC'][28])+\"&layer=sdss&pixscale=13.00\"\n",
    "image = wget.download(image_url)\n",
    "\n",
    "plt.figure(figsize=(5,5))\n",
    "plt.imshow(mpimg.imread(image))\n",
    "plt.show()"
   ]
  },
  {
   "cell_type": "code",
   "execution_count": null,
   "metadata": {},
   "outputs": [],
   "source": [
    "vfmain['radius'][20]"
   ]
  },
  {
   "cell_type": "code",
   "execution_count": null,
   "metadata": {},
   "outputs": [],
   "source": [
    "ra = vfmain['RA'][20]\n",
    "dec = vfmain['DEC'][20]\n",
    "size = vfmain['radius'][20]\n",
    "galname = vfmain['prefix'][20]\n",
    "\n",
    "\n",
    "g = galaxy(ra, dec, size,name=galname,band='3')\n",
    "g.run_simple(convflag=False)\n",
    "\n",
    "image_url = \"https://www.legacysurvey.org/viewer/cutout.jpg?ra=\"+str(vfmain['RA'][20])+\"&dec=\"+str(vfmain['DEC'][20])+\"&layer=sdss&pixscale=13.00\"\n",
    "image = wget.download(image_url)\n",
    "\n",
    "plt.figure(figsize=(5,5))\n",
    "plt.imshow(mpimg.imread(image))\n",
    "plt.show()"
   ]
  },
  {
   "cell_type": "code",
   "execution_count": null,
   "metadata": {},
   "outputs": [],
   "source": [
    "flag_large = (vfmain['radius'] > 250)\n",
    "flag_small = (vfmain['radius'] < 250)\n",
    "pixscale_14 = vfmain[flag_large]\n",
    "pixscale_7 = vfmain[flag_small]"
   ]
  },
  {
   "cell_type": "code",
   "execution_count": null,
   "metadata": {},
   "outputs": [],
   "source": [
    "pixscale=[]\n",
    "for i in range(0,len(vfmain)):\n",
    "    if vfmain['radius'][i] > 250:\n",
    "        pixscale.append(14.00)\n",
    "    else:\n",
    "        pixscale.append(7.00)"
   ]
  },
  {
   "cell_type": "markdown",
   "metadata": {},
   "source": [
    "    for i in range(0,len(vfmain)):\n",
    "\n",
    "        image_url = \"https://www.legacysurvey.org/viewer/cutout.jpg?  \n",
    "        ra=\"+str(vfmain['RA'[i]])+\"&dec=\"+str(vfmain['DEC'][i])+\"&layer=sdss&pixscale=\"+str(pixscale[i])\n",
    "        image = wget.download(image_url)\n",
    "\n",
    "        plt.figure(figsize=(5,5))\n",
    "        plt.imshow(mpimg.imread(image))\n",
    "        plt.show()"
   ]
  },
  {
   "cell_type": "code",
   "execution_count": null,
   "metadata": {},
   "outputs": [],
   "source": [
    "# a few now strike me as a bit small, and others a bit large; however, I think the results are satisfactory\n",
    "# for my purposes. Perhaps I can improve the sizes further still."
   ]
  },
  {
   "cell_type": "markdown",
   "metadata": {},
   "source": [
    "----------------"
   ]
  },
  {
   "cell_type": "markdown",
   "metadata": {},
   "source": [
    "# Note: \n",
    "For pulling the mosaic WISE image,\n",
    "\n",
    "----\n",
    "\n",
    "from astropy.io import fits\n",
    "\n",
    "test = fits.open(homedir+'/github/WISE_test/'+'VFID0974-NGC5866-unwise-w3-1Comp-galfit-out.fits') \n",
    "\n",
    "data = test[1].data\n",
    "\n",
    "plt.imshow(data)\n",
    "\n",
    "----\n",
    "\n",
    "data[0] = background (?); data[1] = image; data[2] = model; data[3] = residual\n",
    "\n",
    "(May want to use vfmain['prefix'] for loops.)"
   ]
  },
  {
   "cell_type": "code",
   "execution_count": null,
   "metadata": {},
   "outputs": [],
   "source": [
    "from astropy.io import fits"
   ]
  },
  {
   "cell_type": "code",
   "execution_count": null,
   "metadata": {},
   "outputs": [],
   "source": [
    "gal = homedir+'/github/WISE_test/'+vfmain['prefix'][0]+'-unwise-w3-1Comp-galfit-out.fits'\n",
    "\n",
    "image,h = fits.getdata(gal,1,header=True)"
   ]
  },
  {
   "cell_type": "code",
   "execution_count": null,
   "metadata": {},
   "outputs": [],
   "source": [
    "h"
   ]
  },
  {
   "cell_type": "code",
   "execution_count": null,
   "metadata": {
    "scrolled": true
   },
   "outputs": [],
   "source": [
    "wcs = WCS(h)\n",
    "\n",
    "plt.figure(figsize=(10,10))\n",
    "\n",
    "plt.subplot(1,3,1,projection=wcs)\n",
    "plt.imshow(image,origin='lower')"
   ]
  },
  {
   "cell_type": "markdown",
   "metadata": {},
   "source": [
    "### Not the zoom I desire, which suggests that there is a bit more processing to this cutout in Rose's code than my own. Indeed, her function is below and yields, for the same galaxy,"
   ]
  },
  {
   "cell_type": "code",
   "execution_count": null,
   "metadata": {},
   "outputs": [],
   "source": [
    "def display_galfit_model_mod(self,percentile1=.5,percentile2=99.5,cmap='viridis'):\n",
    "\n",
    "      self.filename = self.galname+'-unwise-'+'w'+str(self.band)+'-1Comp-galfit-out.fits'\n",
    "      image,h = fits.getdata(self.filename,1,header=True)\n",
    "\n",
    "      wcs = WCS(h)\n",
    "      images = [image]\n",
    "      titles = ['image']\n",
    "      v1 = [scoreatpercentile(image,percentile1),\n",
    "            scoreatpercentile(image,percentile1)]\n",
    "      v2 = [scoreatpercentile(image,percentile2),\n",
    "            scoreatpercentile(image,percentile2)]\n",
    "      norms = [simple_norm(image,'asinh',max_percent=percentile2),\n",
    "               simple_norm(image,'asinh',max_percent=percentile2)]\n",
    "               \n",
    "      plt.figure(figsize=(14,6))\n",
    "      plt.subplots_adjust(wspace=.0)\n",
    "      for i,im in enumerate(images): \n",
    "         plt.subplot(1,3,i+1,projection=wcs)\n",
    "         plt.imshow(im,origin='lower',cmap=cmap,vmin=v1[i],vmax=v2[i],norm=norms[i])\n",
    "         plt.xlabel('RA')\n",
    "         if i == 0:\n",
    "            plt.ylabel('DEC')\n",
    "         else:\n",
    "            ax = plt.gca()\n",
    "            ax.set_yticks([])\n",
    "         plt.title(titles[i],fontsize=16)\n",
    "     \n",
    "    \n",
    "      print(np.shape(image))"
   ]
  },
  {
   "cell_type": "code",
   "execution_count": null,
   "metadata": {},
   "outputs": [],
   "source": [
    "def legacy_cutout(self,percentile1=.5,percentile2=99.5):\n",
    "    \n",
    "    \n",
    "      self.filename = self.galname+'-unwise-'+'w'+str(self.band)+'-1Comp-galfit-out.fits'\n",
    "      image,h = fits.getdata(self.filename,1,header=True)\n",
    "      \n",
    "        \n",
    "      #note --> removed &pixscale=5.00 from image2_url\n",
    "      image2_url = \"https://www.legacysurvey.org/viewer/cutout.jpg?ra=\"+str(g.ra)+\"&dec=\"+str(g.dec)+\"&layer=sdss&pixscale=10.00\"\n",
    "      image2 = wget.download(image2_url)\n",
    "    \n",
    "    \n",
    "    \n",
    "      wcs = WCS(h)\n",
    "      images = [image,image2]\n",
    "      titles = ['Legacy image','WISE image']\n",
    "      v1 = [scoreatpercentile(image,percentile1),\n",
    "            scoreatpercentile(image,percentile1)]\n",
    "      v2 = [scoreatpercentile(image,percentile2),\n",
    "            scoreatpercentile(image,percentile2)]\n",
    "      norms = [simple_norm(image,'asinh',max_percent=percentile2),\n",
    "               simple_norm(image,'asinh',max_percent=percentile2)]\n",
    "               \n",
    "      plt.figure(figsize=(14,6))\n",
    "      plt.subplots_adjust(wspace=.0)\n",
    "      for i,im in enumerate(images): \n",
    "         plt.subplot(1,3,i+1,projection=wcs)\n",
    "         if i == 0:\n",
    "             plt.imshow(mpimg.imread(image2),vmin=v1[i],vmax=v2[i],norm=norms[i])\n",
    "             #plt.gca().invert_xaxis()\n",
    "             plt.gca().invert_yaxis()\n",
    "         if i == 1:\n",
    "             plt.imshow(image,origin='lower',vmin=v1[i],vmax=v2[i],norm=norms[i])\n",
    "         plt.xlabel('RA')\n",
    "         if i == 0:\n",
    "            plt.ylabel('DEC')\n",
    "         else:\n",
    "            ax = plt.gca()\n",
    "            ax.set_yticks([])\n",
    "         plt.title(titles[i],fontsize=16)\n",
    "         \n",
    "         \n",
    "    \n",
    "      print(np.shape(image))"
   ]
  },
  {
   "cell_type": "code",
   "execution_count": null,
   "metadata": {},
   "outputs": [],
   "source": [
    "n = 6\n",
    "\n",
    "g = galaxy(vfmain['RA'][n], vfmain['DEC'][n],\n",
    "                      vfmain['radius'][n], name = vfmain['prefix'][n], band='3')\n",
    "\n",
    "#display_galfit_model_mod(g)\n",
    "legacy_cutout(g)"
   ]
  },
  {
   "cell_type": "code",
   "execution_count": null,
   "metadata": {},
   "outputs": [],
   "source": [
    "# Task for tomorrow: begin with learning what scoreatpercentile represents! Evidently, I must apply\n",
    "# this somehow to the jpeg image that is the Legacy Survey cutout. I should not require a &pixscale=5.00 \n",
    "# url argument if the resizing were successful, so I should try and fiddle a bit until the format is identical\n",
    "# to that of the WISE cutout.\n",
    "# I *will* use the pixscale argument, though, to begin with a deliberately large cutout (so there is \"space\"\n",
    "# available to trim).\n",
    "\n",
    "#perhaps I could also try a jpeg to fits routine..? "
   ]
  },
  {
   "cell_type": "code",
   "execution_count": null,
   "metadata": {},
   "outputs": [],
   "source": [
    "# \"M87 is not a classic. M87 is downright evil.\" - Moustakas\n",
    "\n",
    "# \"SExtractor couldn't care less about your spiral and just goes to town.\" - Moustakas (on SExtractor \n",
    "# misinterpreting a discrete galaxy as multiple sources)\n",
    "\n",
    "#"
   ]
  },
  {
   "cell_type": "code",
   "execution_count": null,
   "metadata": {},
   "outputs": [],
   "source": [
    "from PIL import Image"
   ]
  },
  {
   "cell_type": "code",
   "execution_count": null,
   "metadata": {},
   "outputs": [],
   "source": [
    "im = Image.open(image,'r')"
   ]
  },
  {
   "cell_type": "code",
   "execution_count": null,
   "metadata": {},
   "outputs": [],
   "source": [
    "pix_val = list(im.getdata())"
   ]
  },
  {
   "cell_type": "code",
   "execution_count": null,
   "metadata": {},
   "outputs": [],
   "source": [
    "def test(self,percentile1=.5,percentile2=99.5,p1residual=5,p2residual=99,cmap='viridis'):\n",
    "    \n",
    "      \n",
    "      #image,h = fits.getdata(self.filename,1,header=True)\n",
    "      \n",
    "        \n",
    "      image_url = \"https://www.legacysurvey.org/viewer/cutout.jpg?ra=\"+str(vfmain['RA'][6])+\"&dec=\"+str(vfmain['DEC'][6])+\"&layer=sdss&pixscale=13.00\"\n",
    "      image2 = wget.download(image_url)  \n",
    "      im = Image.open(image2,'r')  \n",
    "      pix_val = list(im.getdata())\n",
    "      pix_val_b = []\n",
    "      for i in range(0,len(pix_val)):\n",
    "            pix_val_b.append(pix_val[i][2])\n",
    "        \n",
    "      image3 = pix_val_b  \n",
    "        \n",
    "      wcs = WCS(h)\n",
    "      images = [image2]\n",
    "      titles = ['image2']\n",
    "      v1 = [scoreatpercentile(image3,percentile1),\n",
    "            scoreatpercentile(image3,percentile1)]\n",
    "      v2 = [scoreatpercentile(image3,percentile2),\n",
    "            scoreatpercentile(image3,percentile2)]\n",
    "      norms = [simple_norm(image3,'asinh',max_percent=percentile2),\n",
    "               simple_norm(image3,'asinh',max_percent=percentile2)]\n",
    "               \n",
    "      plt.figure(figsize=(14,6))\n",
    "      plt.subplots_adjust(wspace=.0)\n",
    "      for i,ima in enumerate(images): \n",
    "         plt.subplot(1,3,i+1,projection=wcs)\n",
    "         plt.imshow(mpimg.imread(image2),vmin=v1[i],vmax=v2[i],norm=norms[i])\n",
    "         plt.xlabel('RA')\n",
    "         \n",
    "         if i == 0:\n",
    "            plt.ylabel('DEC')\n",
    "         else:\n",
    "            ax = plt.gca()\n",
    "            ax.set_yticks([])\n",
    "         plt.title(titles[i],fontsize=16)"
   ]
  },
  {
   "cell_type": "code",
   "execution_count": null,
   "metadata": {},
   "outputs": [],
   "source": [
    "n = 6\n",
    "\n",
    "g = galaxy(vfmain['RA'][n], vfmain['DEC'][n],\n",
    "                      vfmain['radius'][n], name = vfmain['prefix'][n], band='3')\n",
    "\n",
    "test(g)"
   ]
  },
  {
   "cell_type": "code",
   "execution_count": null,
   "metadata": {},
   "outputs": [],
   "source": [
    "test2(g)\n",
    "\n",
    "ax.margins(0,50)"
   ]
  },
  {
   "cell_type": "code",
   "execution_count": null,
   "metadata": {},
   "outputs": [],
   "source": [
    "def test2(self,percentile1=.5,percentile2=99.5,p1residual=5,p2residual=99,cmap='viridis'):\n",
    "    \n",
    "      \n",
    "      #image,h = fits.getdata(self.filename,1,header=True)\n",
    "      \n",
    "        \n",
    "      image_url = \"https://www.legacysurvey.org/viewer/cutout.jpg?ra=\"+str(vfmain['RA'][6])+\"&dec=\"+str(vfmain['DEC'][6])+\"&layer=sdss&pixscale=13.00\"\n",
    "      image2 = wget.download(image_url)  \n",
    "      im = Image.open(image2,'r')  \n",
    "      pix_val = list(im.getdata())\n",
    "      pix_val_r = []\n",
    "      for i in range(0,len(pix_val)):\n",
    "            pix_val_r.append(pix_val[i][1])\n",
    "        \n",
    "      image3 = pix_val_r  \n",
    "        \n",
    "      wcs = WCS(h)\n",
    "      images = [image2]\n",
    "      titles = ['image2']\n",
    "      v1 = [scoreatpercentile(image3,percentile1),\n",
    "            scoreatpercentile(image3,percentile1)]\n",
    "      v2 = [scoreatpercentile(image3,percentile2),\n",
    "            scoreatpercentile(image3,percentile2)]\n",
    "      norms = [simple_norm(image3,'asinh',max_percent=percentile2),\n",
    "               simple_norm(image3,'asinh',max_percent=percentile2)]\n",
    "               \n",
    "      plt.figure(figsize=(14,6))\n",
    "      plt.subplots_adjust(wspace=.0)\n",
    "      for i,ima in enumerate(images): \n",
    "         plt.subplot(1,3,i+1,projection=wcs)\n",
    "         plt.imshow(mpimg.imread(image2),vmin=v1[i],vmax=v2[i],norm=norms[i])\n",
    "         plt.xlabel('RA')\n",
    "         if i == 0:\n",
    "            plt.ylabel('DEC')\n",
    "         else:\n",
    "            ax = plt.gca()\n",
    "            ax.set_yticks([])\n",
    "         plt.title(titles[i],fontsize=16)"
   ]
  },
  {
   "cell_type": "code",
   "execution_count": null,
   "metadata": {},
   "outputs": [],
   "source": []
  }
 ],
 "metadata": {
  "kernelspec": {
   "display_name": "Python 3",
   "language": "python",
   "name": "python3"
  },
  "language_info": {
   "codemirror_mode": {
    "name": "ipython",
    "version": 3
   },
   "file_extension": ".py",
   "mimetype": "text/x-python",
   "name": "python",
   "nbconvert_exporter": "python",
   "pygments_lexer": "ipython3",
   "version": "3.8.3"
  }
 },
 "nbformat": 4,
 "nbformat_minor": 4
}
