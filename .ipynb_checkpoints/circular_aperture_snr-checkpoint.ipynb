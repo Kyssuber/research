{
 "cells": [
  {
   "cell_type": "markdown",
   "metadata": {},
   "source": [
    "From Trello: \\\n",
    "Measure flux and noise using photutils.aperture.CircularAperture. Flux from img, noise from std (sum of square of pixel values within aperture, then sqrt result).\n",
    "1. do so for D = 30 arcsec aperture radius\n",
    "2. do so for D = 15 arcsec aperture radius"
   ]
  },
  {
   "cell_type": "code",
   "execution_count": 1,
   "metadata": {},
   "outputs": [],
   "source": [
    "import numpy as np\n",
    "from matplotlib import pyplot as plt\n",
    "%matplotlib inline\n",
    "from astropy.io import fits\n",
    "from astropy.table import Table\n",
    "from photutils.aperture import CircularAperture"
   ]
  }
 ],
 "metadata": {
  "kernelspec": {
   "display_name": "Python 3",
   "language": "python",
   "name": "python3"
  },
  "language_info": {
   "codemirror_mode": {
    "name": "ipython",
    "version": 3
   },
   "file_extension": ".py",
   "mimetype": "text/x-python",
   "name": "python",
   "nbconvert_exporter": "python",
   "pygments_lexer": "ipython3",
   "version": "3.8.3"
  }
 },
 "nbformat": 4,
 "nbformat_minor": 4
}
