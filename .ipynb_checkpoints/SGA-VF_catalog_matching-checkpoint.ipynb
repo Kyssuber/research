{
 "cells": [
  {
   "cell_type": "code",
   "execution_count": 2,
   "id": "8dd8527d",
   "metadata": {},
   "outputs": [],
   "source": [
    "import numpy as np\n",
    "from matplotlib import pyplot as plt\n",
    "%matplotlib inline\n",
    "from astropy.io import ascii\n",
    "from astropy.table import Table\n",
    "import os"
   ]
  },
  {
   "cell_type": "code",
   "execution_count": 57,
   "id": "5b59b408",
   "metadata": {},
   "outputs": [],
   "source": [
    "homedir = os.getenv(\"HOME\")\n",
    "#following table matched with v1main catalog using TopCat\n",
    "t = Table.read(homedir+'/sga_vf_matched.fits')\n",
    "#below is cut of main VF catalog according to SNR>10\n",
    "vf = Table.read(homedir+'/vfcut.fits',format='ascii')"
   ]
  },
  {
   "cell_type": "code",
   "execution_count": 15,
   "id": "e7a3a109",
   "metadata": {},
   "outputs": [
    {
     "data": {
      "text/html": [
       "<i>Table length=1</i>\n",
       "<table id=\"table140446192169216\" class=\"table-striped table-bordered table-condensed\">\n",
       "<thead><tr><th>SGA_ID</th><th>GALAXY</th><th>PGC</th><th>RA_1</th><th>DEC_1</th><th>D25_LEDA</th><th>SB_D25_LEDA</th><th>MAG_LEDA</th><th>DIAM</th><th>PA</th><th>BA</th><th>VFID</th><th>RA_2</th><th>DEC_2</th><th>vr</th><th>radius</th><th>radius_flag</th><th>objname</th><th>NSAID</th><th>NSAIDV0</th><th>AGC</th><th>NEDname</th><th>HLflag</th><th>NSAflag</th><th>NSAV0flag</th><th>A100flag</th><th>COflag</th><th>HAflag</th><th>HAobsflag</th><th>Z0MGSflag</th><th>Steerflag</th><th>unwiseflag</th><th>prefix</th><th>name</th><th>Separation</th></tr></thead>\n",
       "<thead><tr><th></th><th></th><th></th><th></th><th></th><th></th><th></th><th></th><th></th><th></th><th></th><th></th><th></th><th></th><th></th><th>arcsec</th><th></th><th></th><th></th><th></th><th></th><th></th><th></th><th></th><th></th><th></th><th></th><th></th><th></th><th></th><th></th><th></th><th></th><th></th><th>arcsec</th></tr></thead>\n",
       "<thead><tr><th>int64</th><th>bytes29</th><th>int64</th><th>float64</th><th>float64</th><th>float32</th><th>float32</th><th>float32</th><th>float32</th><th>float32</th><th>float32</th><th>bytes8</th><th>float64</th><th>float64</th><th>float64</th><th>float32</th><th>bool</th><th>bytes28</th><th>int32</th><th>int32</th><th>int64</th><th>bytes30</th><th>bool</th><th>bool</th><th>bool</th><th>bool</th><th>bool</th><th>bool</th><th>bool</th><th>bool</th><th>bool</th><th>bool</th><th>bytes36</th><th>bytes8</th><th>float64</th></tr></thead>\n",
       "<tr><td>338248</td><td>PGC091229</td><td>91229</td><td>191.82910153155672</td><td>72.21421144161503</td><td>0.92044955</td><td>25.00848</td><td>16.56</td><td>0.92044955</td><td>144.0</td><td>0.2118361</td><td>VFID0083</td><td>191.83798199999998</td><td>72.2138577</td><td>1629.5</td><td>27.613487</td><td>True</td><td>PGC091229</td><td>0</td><td>0</td><td>0</td><td>FGC 1501</td><td>True</td><td>False</td><td>False</td><td>False</td><td>False</td><td>False</td><td>False</td><td>False</td><td>False</td><td>False</td><td>VFID0083-FGC1501</td><td>VFID0083</td><td>9.848209787504663</td></tr>\n",
       "</table>"
      ],
      "text/plain": [
       "<Table length=1>\n",
       "SGA_ID             GALAXY             PGC  ...   name       Separation   \n",
       "                                           ...                arcsec     \n",
       "int64             bytes29            int64 ...  bytes8       float64     \n",
       "------ ----------------------------- ----- ... -------- -----------------\n",
       "338248 PGC091229                     91229 ... VFID0083 9.848209787504663"
      ]
     },
     "execution_count": 15,
     "metadata": {},
     "output_type": "execute_result"
    }
   ],
   "source": [
    "#separation is greatest at this row --> PGC names are identical, so I assume all is well here.\n",
    "t[np.where(t['Separation'] == np.max(t['Separation']))[0]]"
   ]
  },
  {
   "cell_type": "code",
   "execution_count": 64,
   "id": "fab64f0e",
   "metadata": {},
   "outputs": [
    {
     "name": "stdout",
     "output_type": "stream",
     "text": [
      "1020\n"
     ]
    }
   ],
   "source": [
    "#now compare with vfcut, since Topcat is not too crafty with ascii tables\n",
    "\n",
    "#find number of entries with same RA from GALFIT cut and from main catalog (that were included in SGA tab)\n",
    "ra_vf = vf['RA']\n",
    "sga_ra = t['RA_2']\n",
    "\n",
    "match_index = []\n",
    "for i in range(0,len(sga_ra)):\n",
    "    ind = np.where(sga_ra[i] == ra_vf)\n",
    "    ind = ind[0]\n",
    "    try:\n",
    "        match_index.append(ind[0])\n",
    "    except:\n",
    "        pass\n",
    "\n",
    "match_index = np.asarray(match_index)\n",
    "match_index = np.sort(match_index)\n",
    "\n",
    "print(len(match_index))"
   ]
  },
  {
   "cell_type": "code",
   "execution_count": 65,
   "id": "2a98945f",
   "metadata": {},
   "outputs": [],
   "source": [
    "flag = []\n",
    "\n",
    "for i in range(0,len(vf)):\n",
    "    if i in match_index:\n",
    "        flag.append(True)\n",
    "    else:\n",
    "        flag.append(False)\n",
    "        \n",
    "flag = np.asarray(flag)"
   ]
  },
  {
   "cell_type": "code",
   "execution_count": 66,
   "id": "d29e6553",
   "metadata": {},
   "outputs": [],
   "source": [
    "os.chdir(homedir)\n",
    "ascii.write(vf[flag],'sga_cut.fits',overwrite=True)"
   ]
  }
 ],
 "metadata": {
  "kernelspec": {
   "display_name": "Python 3",
   "language": "python",
   "name": "python3"
  },
  "language_info": {
   "codemirror_mode": {
    "name": "ipython",
    "version": 3
   },
   "file_extension": ".py",
   "mimetype": "text/x-python",
   "name": "python",
   "nbconvert_exporter": "python",
   "pygments_lexer": "ipython3",
   "version": "3.8.3"
  }
 },
 "nbformat": 4,
 "nbformat_minor": 5
}
