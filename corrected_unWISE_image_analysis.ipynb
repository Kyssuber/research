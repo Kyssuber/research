{
 "cells": [
  {
   "cell_type": "code",
   "execution_count": 1,
   "metadata": {},
   "outputs": [],
   "source": [
    "import numpy as np\n",
    "import os\n",
    "from matplotlib import pyplot as plt\n",
    "%matplotlib inline\n",
    "from astropy.table import Table\n",
    "\n",
    "from astropy.wcs import WCS\n",
    "from astropy.io import fits\n",
    "from astropy.io import ascii"
   ]
  },
  {
   "cell_type": "code",
   "execution_count": 2,
   "metadata": {},
   "outputs": [],
   "source": [
    "#all corrected galaxies are from 59 subsample --> the MASSIVE, BRIGHT galaxies\n",
    "\n",
    "homedir = os.getenv('HOME')\n",
    "vfmain = Table.read(homedir+'/github/research/sample_main.fits')"
   ]
  },
  {
   "cell_type": "code",
   "execution_count": 104,
   "metadata": {},
   "outputs": [
    {
     "data": {
      "text/html": [
       "<i>Table length=59</i>\n",
       "<table id=\"table140688747606800\" class=\"table-striped table-bordered table-condensed\">\n",
       "<thead><tr><th>VFID</th><th>RA</th><th>DEC</th><th>vr</th><th>radius</th><th>radius_flag</th><th>objname</th><th>NSAID</th><th>NSAIDV0</th><th>AGC</th><th>NEDname</th><th>HLflag</th><th>NSAflag</th><th>NSAV0flag</th><th>A100flag</th><th>prefix</th><th>COflag</th><th>Z0MGSflag</th><th>Steerflag</th><th>unwiseflag</th></tr></thead>\n",
       "<thead><tr><th></th><th></th><th></th><th></th><th>arcsec</th><th></th><th></th><th></th><th></th><th></th><th></th><th></th><th></th><th></th><th></th><th></th><th></th><th></th><th></th><th></th></tr></thead>\n",
       "<thead><tr><th>bytes8</th><th>float32</th><th>float32</th><th>float32</th><th>float32</th><th>bool</th><th>bytes28</th><th>int32</th><th>int32</th><th>int64</th><th>bytes30</th><th>bool</th><th>bool</th><th>bool</th><th>bool</th><th>bytes38</th><th>bool</th><th>bool</th><th>bool</th><th>bool</th></tr></thead>\n",
       "<tr><td>VFID0388</td><td>237.85522</td><td>62.310036</td><td>831.5</td><td>174.22932</td><td>True</td><td>NGC6015</td><td>632910</td><td>146459</td><td>0</td><td>NGC 6015</td><td>True</td><td>True</td><td>True</td><td>False</td><td>VFID0388-NGC6015</td><td>False</td><td>True</td><td>True</td><td>True</td></tr>\n",
       "<tr><td>VFID0484</td><td>178.30695</td><td>60.675587</td><td>1187.0</td><td>166.38771</td><td>True</td><td>NGC3945</td><td>627431</td><td>140394</td><td>0</td><td>NGC 3945</td><td>True</td><td>True</td><td>True</td><td>False</td><td>VFID0484-NGC3945</td><td>False</td><td>True</td><td>True</td><td>True</td></tr>\n",
       "<tr><td>VFID0525</td><td>207.31345</td><td>60.190475</td><td>1801.1</td><td>168.7024</td><td>True</td><td>NGC5322</td><td>630662</td><td>143906</td><td>0</td><td>NGC 5322</td><td>True</td><td>True</td><td>True</td><td>False</td><td>VFID0525-NGC5322</td><td>False</td><td>True</td><td>True</td><td>True</td></tr>\n",
       "<tr><td>VFID0547</td><td>137.90605</td><td>60.037323</td><td>1397.8</td><td>169.0913</td><td>True</td><td>NGC2768</td><td>0</td><td>135725</td><td>0</td><td>NGC 2768</td><td>True</td><td>False</td><td>True</td><td>False</td><td>VFID0547-NGC2768</td><td>False</td><td>True</td><td>True</td><td>False</td></tr>\n",
       "<tr><td>VFID0934</td><td>228.97314</td><td>56.32915</td><td>667.4</td><td>338.93878</td><td>True</td><td>NGC5907</td><td>0</td><td>145978</td><td>0</td><td>NGC 5907</td><td>True</td><td>False</td><td>True</td><td>False</td><td>VFID0934-NGC5907</td><td>False</td><td>True</td><td>True</td><td>True</td></tr>\n",
       "<tr><td>VFID0974</td><td>226.62299</td><td>55.763218</td><td>674.4</td><td>189.2872</td><td>True</td><td>NGC5866</td><td>683969</td><td>165916</td><td>0</td><td>NGC 5866</td><td>True</td><td>True</td><td>True</td><td>False</td><td>VFID0974-NGC5866</td><td>False</td><td>True</td><td>True</td><td>True</td></tr>\n",
       "<tr><td>VFID0983</td><td>150.49174</td><td>55.679962</td><td>1163.9</td><td>245.53944</td><td>True</td><td>NGC3079</td><td>0</td><td>136420</td><td>0</td><td>NGC 3079</td><td>True</td><td>False</td><td>True</td><td>False</td><td>VFID0983-NGC3079</td><td>False</td><td>True</td><td>True</td><td>True</td></tr>\n",
       "<tr><td>VFID1169</td><td>179.39992</td><td>53.374516</td><td>1047.2</td><td>211.89526</td><td>True</td><td>NGC3992</td><td>0</td><td>140498</td><td>0</td><td>MESSIER 109</td><td>True</td><td>False</td><td>True</td><td>False</td><td>VFID1169-MESSIER109</td><td>False</td><td>True</td><td>True</td><td>False</td></tr>\n",
       "<tr><td>VFID1215</td><td>178.45422</td><td>52.326687</td><td>1051.0</td><td>183.70512</td><td>True</td><td>NGC3953</td><td>627439</td><td>140405</td><td>0</td><td>NGC 3953</td><td>True</td><td>True</td><td>True</td><td>False</td><td>VFID1215-NGC3953</td><td>False</td><td>True</td><td>True</td><td>True</td></tr>\n",
       "<tr><td>...</td><td>...</td><td>...</td><td>...</td><td>...</td><td>...</td><td>...</td><td>...</td><td>...</td><td>...</td><td>...</td><td>...</td><td>...</td><td>...</td><td>...</td><td>...</td><td>...</td><td>...</td><td>...</td><td>...</td></tr>\n",
       "<tr><td>VFID5565</td><td>186.11693</td><td>7.3167467</td><td>1221.0</td><td>153.50455</td><td>True</td><td>NGC4365</td><td>0</td><td>0</td><td>0</td><td>NGC 4365</td><td>True</td><td>False</td><td>False</td><td>False</td><td>VFID5565-NGC4365</td><td>False</td><td>True</td><td>True</td><td>False</td></tr>\n",
       "<tr><td>VFID6014</td><td>185.47841</td><td>4.4737763</td><td>1566.8</td><td>206.59569</td><td>True</td><td>NGC4303</td><td>628187</td><td>141222</td><td>7420</td><td>MESSIER 061</td><td>True</td><td>True</td><td>True</td><td>True</td><td>VFID6014-MESSIER061</td><td>False</td><td>True</td><td>True</td><td>False</td></tr>\n",
       "<tr><td>VFID6088</td><td>215.08269</td><td>3.9335327</td><td>1529.0</td><td>160.739</td><td>True</td><td>NGC5566</td><td>86572</td><td>17878</td><td>9175</td><td>NGC 5566</td><td>True</td><td>True</td><td>True</td><td>True</td><td>VFID6088-NGC5566</td><td>True</td><td>True</td><td>True</td><td>True</td></tr>\n",
       "<tr><td>VFID6276</td><td>188.53525</td><td>2.653794</td><td>1736.1</td><td>188.85185</td><td>True</td><td>NGC4527</td><td>668608</td><td>162032</td><td>7721</td><td>NGC 4527</td><td>True</td><td>True</td><td>True</td><td>True</td><td>VFID6276-NGC4527</td><td>False</td><td>True</td><td>True</td><td>True</td></tr>\n",
       "<tr><td>VFID6346</td><td>188.61284</td><td>2.1879497</td><td>1807.3</td><td>212.38373</td><td>True</td><td>NGC4536</td><td>628581</td><td>141657</td><td>7732</td><td>NGC 4536</td><td>True</td><td>True</td><td>True</td><td>True</td><td>VFID6346-NGC4536</td><td>False</td><td>True</td><td>True</td><td>True</td></tr>\n",
       "<tr><td>VFID6403</td><td>221.23306</td><td>1.9549057</td><td>1711.4</td><td>217.3308</td><td>True</td><td>NGC5746</td><td>683040</td><td>145554</td><td>9499</td><td>NGC 5746</td><td>True</td><td>True</td><td>True</td><td>True</td><td>VFID6403-NGC5746</td><td>True</td><td>True</td><td>True</td><td>True</td></tr>\n",
       "<tr><td>VFID6497</td><td>194.50493</td><td>1.575912</td><td>1098.8</td><td>164.86226</td><td>True</td><td>NGC4845</td><td>70081</td><td>14373</td><td>8078</td><td>NGC 4845</td><td>True</td><td>True</td><td>True</td><td>True</td><td>VFID6497-NGC4845</td><td>False</td><td>True</td><td>True</td><td>True</td></tr>\n",
       "<tr><td>VFID6692</td><td>188.18948</td><td>0.1145302</td><td>1127.4</td><td>270.47134</td><td>True</td><td>NGC4437</td><td>0</td><td>0</td><td>7694</td><td>NGC 4517</td><td>True</td><td>False</td><td>False</td><td>True</td><td>VFID6692-NGC4517</td><td>False</td><td>True</td><td>True</td><td>True</td></tr>\n",
       "<tr><td>VFID6719</td><td>166.45312</td><td>-0.0347594</td><td>801.6</td><td>249.52913</td><td>True</td><td>NGC3521</td><td>0</td><td>138723</td><td>6150</td><td>NGC 3521</td><td>True</td><td>False</td><td>True</td><td>True</td><td>VFID6719-NGC3521</td><td>False</td><td>True</td><td>True</td><td>False</td></tr>\n",
       "<tr><td>VFID6848</td><td>193.09158</td><td>-1.1995791</td><td>1242.8</td><td>194.59033</td><td>True</td><td>NGC4753</td><td>0</td><td>142457</td><td>0</td><td>NGC 4753</td><td>True</td><td>False</td><td>True</td><td>False</td><td>VFID6848-NGC4753</td><td>False</td><td>True</td><td>True</td><td>False</td></tr>\n",
       "</table>"
      ],
      "text/plain": [
       "<Table length=59>\n",
       "  VFID       RA       DEC        vr   ... COflag Z0MGSflag Steerflag unwiseflag\n",
       "                                      ...                                      \n",
       " bytes8   float32   float32   float32 ...  bool     bool      bool      bool   \n",
       "-------- --------- ---------- ------- ... ------ --------- --------- ----------\n",
       "VFID0388 237.85522  62.310036   831.5 ...  False      True      True       True\n",
       "VFID0484 178.30695  60.675587  1187.0 ...  False      True      True       True\n",
       "VFID0525 207.31345  60.190475  1801.1 ...  False      True      True       True\n",
       "VFID0547 137.90605  60.037323  1397.8 ...  False      True      True      False\n",
       "VFID0934 228.97314   56.32915   667.4 ...  False      True      True       True\n",
       "VFID0974 226.62299  55.763218   674.4 ...  False      True      True       True\n",
       "VFID0983 150.49174  55.679962  1163.9 ...  False      True      True       True\n",
       "VFID1169 179.39992  53.374516  1047.2 ...  False      True      True      False\n",
       "VFID1215 178.45422  52.326687  1051.0 ...  False      True      True       True\n",
       "     ...       ...        ...     ... ...    ...       ...       ...        ...\n",
       "VFID5565 186.11693  7.3167467  1221.0 ...  False      True      True      False\n",
       "VFID6014 185.47841  4.4737763  1566.8 ...  False      True      True      False\n",
       "VFID6088 215.08269  3.9335327  1529.0 ...   True      True      True       True\n",
       "VFID6276 188.53525   2.653794  1736.1 ...  False      True      True       True\n",
       "VFID6346 188.61284  2.1879497  1807.3 ...  False      True      True       True\n",
       "VFID6403 221.23306  1.9549057  1711.4 ...   True      True      True       True\n",
       "VFID6497 194.50493   1.575912  1098.8 ...  False      True      True       True\n",
       "VFID6692 188.18948  0.1145302  1127.4 ...  False      True      True       True\n",
       "VFID6719 166.45312 -0.0347594   801.6 ...  False      True      True      False\n",
       "VFID6848 193.09158 -1.1995791  1242.8 ...  False      True      True      False"
      ]
     },
     "execution_count": 104,
     "metadata": {},
     "output_type": "execute_result"
    }
   ],
   "source": [
    "vfmain"
   ]
  },
  {
   "cell_type": "code",
   "execution_count": null,
   "metadata": {},
   "outputs": [],
   "source": [
    "#500px\n",
    "\n",
    "os.chdir(homedir+'/github/unwise_59_fixed')\n",
    "%run ~/github/research/run_galfit.py\n",
    "\n",
    "vf = vfmain\n",
    "\n",
    "run_galfit_no_psf(vf,'unwise_59_fixed','test_no_psf')"
   ]
  },
  {
   "cell_type": "code",
   "execution_count": 10,
   "metadata": {
    "collapsed": true
   },
   "outputs": [
    {
     "name": "stdout",
     "output_type": "stream",
     "text": [
      "VFID0388-NGC6015\n",
      "(500, 500)\n",
      "self.psfimage =  wise-w3-psf-wpro-09x09-05x05.fits\n",
      "sersic n, fitsersicn =  2 1\n",
      "BA, fitBA =  1 1\n",
      "run the following:  galfit VFID0388-NGC6015-unwise-w3-galfit.input.1Comp\n",
      "1_XC  : 250.7765 +/- 0.0128\n",
      "1_YC  : 249.9603 +/- 0.0211\n",
      "1_MAG : 4.7583 +/- 0.0011\n",
      "1_RE  : 17.8874 +/- 0.0277\n",
      "1_N   : 0.4253 +/- 0.0016\n",
      "1_AR  : 0.4726 +/- 0.0007\n",
      "1_PA  : 31.3741 +/- 0.0751\n",
      "2_SKY : 22.1227 +/- 0.7392\n",
      "who's zoomin' who?\n",
      "VFID0484-NGC3945\n",
      "(500, 500)\n",
      "self.psfimage =  wise-w3-psf-wpro-09x09-05x05.fits\n",
      "sersic n, fitsersicn =  2 1\n",
      "BA, fitBA =  1 1\n",
      "run the following:  galfit VFID0484-NGC3945-unwise-w3-galfit.input.1Comp\n",
      "1_XC  : 250.5087 +/- 0.0100\n",
      "1_YC  : 250.6636 +/- 0.0131\n",
      "1_MAG : 6.1235 +/- 0.0185\n",
      "1_RE  : 15.9638 +/- 0.4387\n",
      "1_N   : 2.9627 +/- 0.0445\n",
      "1_AR  : 0.9310 +/- 0.0091\n",
      "1_PA  : -14.8599 +/- 4.5530\n",
      "2_SKY : 6.5707 +/- 0.8250\n",
      "who's zoomin' who?\n",
      "VFID0525-NGC5322\n",
      "(500, 500)\n",
      "self.psfimage =  wise-w3-psf-wpro-09x09-05x05.fits\n",
      "sersic n, fitsersicn =  2 1\n",
      "BA, fitBA =  1 1\n",
      "run the following:  galfit VFID0525-NGC5322-unwise-w3-galfit.input.1Comp\n",
      "1_XC  : 250.3943 +/- 0.0086\n",
      "1_YC  : 250.6505 +/- 0.0078\n",
      "1_MAG : 6.4651 +/- 0.0095\n",
      "1_RE  : 8.9607 +/- 0.1242\n",
      "1_N   : 2.2494 +/- 0.0217\n",
      "1_AR  : 0.8217 +/- 0.0047\n",
      "1_PA  : 86.6170 +/- 1.0478\n",
      "2_SKY : 0.5035 +/- 0.6397\n",
      "who's zoomin' who?\n",
      "VFID0547-NGC2768\n",
      "(500, 500)\n",
      "self.psfimage =  wise-w3-psf-wpro-09x09-05x05.fits\n",
      "sersic n, fitsersicn =  2 1\n",
      "BA, fitBA =  1 1\n",
      "run the following:  galfit VFID0547-NGC2768-unwise-w3-galfit.input.1Comp\n",
      "1_XC  : 250.6163 +/- 0.0142\n",
      "1_YC  : 250.8670 +/- 0.0151\n",
      "1_MAG : 6.3381 +/- 0.0147\n",
      "1_RE  : 12.4987 +/- 0.2576\n",
      "1_N   : 2.2364 +/- 0.0291\n",
      "1_AR  : 0.7528 +/- 0.0062\n",
      "1_PA  : -87.0770 +/- 1.1074\n",
      "2_SKY : 6.8910 +/- 0.8913\n",
      "who's zoomin' who?\n",
      "VFID0934-NGC5907\n",
      "(500, 500)\n",
      "self.psfimage =  wise-w3-psf-wpro-09x09-05x05.fits\n",
      "sersic n, fitsersicn =  2 1\n",
      "BA, fitBA =  1 1\n",
      "run the following:  galfit VFID0934-NGC5907-unwise-w3-galfit.input.1Comp\n",
      "1_XC  : 250.5223 +/- 0.0077\n",
      "1_YC  : 249.2673 +/- 0.0164\n",
      "1_MAG : 3.3352 +/- 0.0005\n",
      "1_RE  : 38.9251 +/- 0.0257\n",
      "1_N   : 0.6351 +/- 0.0008\n",
      "1_AR  : *0.0986* +/- *0.0001*\n",
      "1_PA  : -25.0770 +/- 0.0047\n",
      "2_SKY : 27.3452 +/- 0.8633\n",
      "who's zoomin' who?\n",
      "VFID0974-NGC5866\n",
      "(500, 500)\n",
      "self.psfimage =  wise-w3-psf-wpro-09x09-05x05.fits\n",
      "sersic n, fitsersicn =  2 1\n",
      "BA, fitBA =  1 1\n",
      "run the following:  galfit VFID0974-NGC5866-unwise-w3-galfit.input.1Comp\n",
      "1_XC  : 250.5835 +/- 0.0093\n",
      "1_YC  : 250.7100 +/- 0.0065\n",
      "1_MAG : 5.4504 +/- 0.0016\n",
      "1_RE  : 8.6273 +/- 0.0189\n",
      "1_N   : 0.8172 +/- 0.0032\n",
      "1_AR  : 0.3279 +/- 0.0006\n",
      "1_PA  : -54.4937 +/- 0.0520\n",
      "2_SKY : 20.5036 +/- 0.8118\n",
      "who's zoomin' who?\n",
      "VFID0983-NGC3079\n",
      "(500, 500)\n",
      "self.psfimage =  wise-w3-psf-wpro-09x09-05x05.fits\n",
      "sersic n, fitsersicn =  2 1\n",
      "BA, fitBA =  1 1\n",
      "run the following:  galfit VFID0983-NGC3079-unwise-w3-galfit.input.1Comp\n",
      "1_XC  : 251.5682 +/- 0.0030\n",
      "1_YC  : 251.4452 +/- 0.0122\n",
      "1_MAG : 3.2197 +/- 0.0010\n",
      "1_RE  : 18.3097 +/- 0.0272\n",
      "1_N   : 1.1108 +/- 0.0037\n",
      "1_AR  : 0.2052 +/- 0.0002\n",
      "1_PA  : -12.0124 +/- 0.0169\n",
      "2_SKY : 33.5833 +/- 1.7095\n",
      "who's zoomin' who?\n",
      "VFID1169-MESSIER109\n",
      "(500, 500)\n",
      "self.psfimage =  wise-w3-psf-wpro-09x09-05x05.fits\n",
      "sersic n, fitsersicn =  2 1\n",
      "BA, fitBA =  1 1\n",
      "run the following:  galfit VFID1169-MESSIER109-unwise-w3-galfit.input.1Comp\n",
      "1_XC  : 252.3331 +/- 0.0928\n",
      "1_YC  : 251.1453 +/- 0.0517\n",
      "1_MAG : 4.3820 +/- 0.0031\n",
      "1_RE  : 40.2371 +/- 0.0895\n",
      "1_N   : 0.1583 +/- 0.0018\n",
      "1_AR  : 0.5538 +/- 0.0015\n",
      "1_PA  : 67.5551 +/- 0.1589\n",
      "2_SKY : 0.3899 +/- 1.0165\n",
      "who's zoomin' who?\n",
      "VFID1215-NGC3953\n",
      "(500, 500)\n",
      "self.psfimage =  wise-w3-psf-wpro-09x09-05x05.fits\n",
      "sersic n, fitsersicn =  2 1\n",
      "BA, fitBA =  1 1\n",
      "run the following:  galfit VFID1215-NGC3953-unwise-w3-galfit.input.1Comp\n",
      "1_XC  : 251.3978 +/- 0.0189\n",
      "1_YC  : 249.4340 +/- 0.0416\n",
      "1_MAG : 3.7368 +/- 0.0012\n",
      "1_RE  : 33.3548 +/- 0.0443\n",
      "1_N   : 0.3456 +/- 0.0012\n",
      "1_AR  : 0.4583 +/- 0.0006\n",
      "1_PA  : 12.8502 +/- 0.0628\n",
      "2_SKY : 6.1444 +/- 0.9977\n",
      "who's zoomin' who?\n",
      "VFID1278-NGC2841\n",
      "(500, 500)\n",
      "self.psfimage =  wise-w3-psf-wpro-09x09-05x05.fits\n",
      "sersic n, fitsersicn =  2 1\n",
      "BA, fitBA =  1 1\n",
      "run the following:  galfit VFID1278-NGC2841-unwise-w3-galfit.input.1Comp\n",
      "1_XC  : 250.7922 +/- 0.0342\n",
      "1_YC  : 251.3651 +/- 0.0590\n",
      "1_MAG : 3.8232 +/- 0.0016\n",
      "1_RE  : 38.4601 +/- 0.0714\n",
      "1_N   : 0.3666 +/- 0.0018\n",
      "1_AR  : 0.3600 +/- 0.0007\n",
      "1_PA  : -29.8291 +/- 0.0640\n",
      "2_SKY : 4.9566 +/- 1.2434\n",
      "who's zoomin' who?\n",
      "VFID1308-NGC4088\n",
      "(500, 500)\n",
      "self.psfimage =  wise-w3-psf-wpro-09x09-05x05.fits\n",
      "sersic n, fitsersicn =  2 1\n",
      "BA, fitBA =  1 1\n",
      "run the following:  galfit VFID1308-NGC4088-unwise-w3-galfit.input.1Comp\n",
      "1_XC  : 248.3766 +/- 0.0237\n",
      "1_YC  : 253.3050 +/- 0.0168\n",
      "1_MAG : 3.2428 +/- 0.0013\n",
      "1_RE  : 20.0847 +/- 0.0320\n",
      "1_N   : 0.4274 +/- 0.0020\n",
      "1_AR  : 0.4721 +/- 0.0007\n",
      "1_PA  : 54.8718 +/- 0.0800\n",
      "2_SKY : 57.7806 +/- 2.6603\n",
      "who's zoomin' who?\n",
      "VFID1312-NGC4157\n",
      "(500, 500)\n",
      "self.psfimage =  wise-w3-psf-wpro-09x09-05x05.fits\n",
      "sersic n, fitsersicn =  2 1\n",
      "BA, fitBA =  1 1\n",
      "run the following:  galfit VFID1312-NGC4157-unwise-w3-galfit.input.1Comp\n",
      "1_XC  : 250.5231 +/- 0.0123\n",
      "1_YC  : 250.5030 +/- 0.0062\n",
      "1_MAG : 3.4469 +/- 0.0006\n",
      "1_RE  : 22.6973 +/- 0.0167\n",
      "1_N   : 0.5678 +/- 0.0010\n",
      "1_AR  : 0.1711 +/- 0.0001\n",
      "1_PA  : 62.9434 +/- 0.0097\n",
      "2_SKY : 31.5078 +/- 1.1587\n",
      "who's zoomin' who?\n",
      "VFID1535-NGC3877\n",
      "(500, 500)\n",
      "self.psfimage =  wise-w3-psf-wpro-09x09-05x05.fits\n",
      "sersic n, fitsersicn =  2 1\n",
      "BA, fitBA =  1 1\n",
      "run the following:  galfit VFID1535-NGC3877-unwise-w3-galfit.input.1Comp\n",
      "1_XC  : 250.0462 +/- 0.0134\n",
      "1_YC  : 251.5785 +/- 0.0202\n",
      "1_MAG : 4.2725 +/- 0.0010\n",
      "1_RE  : 22.8884 +/- 0.0253\n",
      "1_N   : 0.3339 +/- 0.0011\n",
      "1_AR  : 0.2189 +/- 0.0003\n",
      "1_PA  : 33.7713 +/- 0.0217\n",
      "2_SKY : 14.8373 +/- 1.1702\n",
      "who's zoomin' who?\n",
      "VFID1536-NGC4096\n",
      "(500, 500)\n",
      "self.psfimage =  wise-w3-psf-wpro-09x09-05x05.fits\n",
      "sersic n, fitsersicn =  2 1\n",
      "BA, fitBA =  1 1\n",
      "run the following:  galfit VFID1536-NGC4096-unwise-w3-galfit.input.1Comp\n",
      "1_XC  : 250.5930 +/- 0.0060\n",
      "1_YC  : 251.2135 +/- 0.0197\n",
      "1_MAG : 4.0012 +/- 0.0022\n",
      "1_RE  : 26.2554 +/- 0.0814\n",
      "1_N   : 1.2675 +/- 0.0035\n",
      "1_AR  : 0.2833 +/- 0.0004\n",
      "1_PA  : 17.4735 +/- 0.0472\n",
      "2_SKY : 0.8911 +/- 1.2561\n",
      "who's zoomin' who?\n",
      "VFID1556-NGC4217\n",
      "(500, 500)\n",
      "self.psfimage =  wise-w3-psf-wpro-09x09-05x05.fits\n",
      "sersic n, fitsersicn =  2 1\n",
      "BA, fitBA =  1 1\n",
      "run the following:  galfit VFID1556-NGC4217-unwise-w3-galfit.input.1Comp\n",
      "1_XC  : 251.6418 +/- 0.0159\n",
      "1_YC  : 248.9612 +/- 0.0137\n",
      "1_MAG : 3.8221 +/- 0.0010\n",
      "1_RE  : 21.9030 +/- 0.0280\n",
      "1_N   : 0.6546 +/- 0.0019\n",
      "1_AR  : 0.1196 +/- 0.0001\n",
      "1_PA  : 49.4544 +/- 0.0112\n",
      "2_SKY : 45.9187 +/- 1.5695\n",
      "who's zoomin' who?\n",
      "VFID1562-NGC3726\n",
      "(500, 500)\n",
      "self.psfimage =  wise-w3-psf-wpro-09x09-05x05.fits\n",
      "sersic n, fitsersicn =  2 1\n",
      "BA, fitBA =  1 1\n",
      "run the following:  galfit VFID1562-NGC3726-unwise-w3-galfit.input.1Comp\n",
      "1_XC  : 251.6327 +/- 0.0334\n",
      "1_YC  : 249.8336 +/- 0.0630\n",
      "1_MAG : 4.2425 +/- 0.0018\n",
      "1_RE  : 29.8171 +/- 0.0697\n",
      "1_N   : 0.4064 +/- 0.0023\n",
      "1_AR  : 0.5292 +/- 0.0012\n",
      "1_PA  : 3.1992 +/- 0.1383\n",
      "2_SKY : 4.3014 +/- 1.0885\n",
      "who's zoomin' who?\n",
      "VFID1682-NGC3198\n",
      "(500, 500)\n",
      "self.psfimage =  wise-w3-psf-wpro-09x09-05x05.fits\n",
      "sersic n, fitsersicn =  2 1\n",
      "BA, fitBA =  1 1\n",
      "run the following:  galfit VFID1682-NGC3198-unwise-w3-galfit.input.1Comp\n",
      "1_XC  : 250.2733 +/- 0.0086\n",
      "1_YC  : 250.6904 +/- 0.0080\n",
      "1_MAG : 3.6447 +/- 0.0090\n",
      "1_RE  : 64.7370 +/- 0.8463\n",
      "1_N   : 3.8661 +/- 0.0228\n",
      "1_AR  : 0.4487 +/- 0.0013\n",
      "1_PA  : 41.2744 +/- 0.1303\n",
      "2_SKY : -45.9909 +/- 1.3876\n",
      "who's zoomin' who?\n",
      "VFID1754-NGC4051\n",
      "(500, 500)\n",
      "self.psfimage =  wise-w3-psf-wpro-09x09-05x05.fits\n",
      "sersic n, fitsersicn =  2 1\n",
      "BA, fitBA =  1 1\n",
      "run the following:  galfit VFID1754-NGC4051-unwise-w3-galfit.input.1Comp\n",
      "1_XC  : 251.1696 +/- 0.0085\n",
      "1_YC  : 250.5807 +/- 0.0072\n",
      "1_MAG : 2.5741 +/- 0.0232\n",
      "1_RE  : 125.5977 +/- 5.6462\n",
      "1_N   : 7.8250 +/- 0.1248\n",
      "1_AR  : 0.6907 +/- 0.0022\n",
      "1_PA  : -50.8748 +/- 0.2723\n",
      "2_SKY : -93.4526 +/- 1.9182\n",
      "who's zoomin' who?\n",
      "VFID1774-NGC3938\n",
      "(500, 500)\n",
      "self.psfimage =  wise-w3-psf-wpro-09x09-05x05.fits\n",
      "sersic n, fitsersicn =  2 1\n",
      "BA, fitBA =  1 1\n",
      "run the following:  galfit VFID1774-NGC3938-unwise-w3-galfit.input.1Comp\n",
      "1_XC  : 251.8051 +/- 0.0197\n",
      "1_YC  : 251.2751 +/- 0.0186\n",
      "1_MAG : 3.9206 +/- 0.0013\n",
      "1_RE  : 20.0146 +/- 0.0387\n",
      "1_N   : 0.6132 +/- 0.0019\n",
      "1_AR  : 0.9548 +/- 0.0014\n",
      "1_PA  : 51.1171 +/- 1.4775\n",
      "2_SKY : 6.3274 +/- 1.0597\n",
      "who's zoomin' who?\n"
     ]
    },
    {
     "name": "stdout",
     "output_type": "stream",
     "text": [
      "VFID1805-NGC3675\n",
      "(500, 500)\n",
      "self.psfimage =  wise-w3-psf-wpro-09x09-05x05.fits\n",
      "sersic n, fitsersicn =  2 1\n",
      "BA, fitBA =  1 1\n",
      "run the following:  galfit VFID1805-NGC3675-unwise-w3-galfit.input.1Comp\n",
      "1_XC  : 249.1931 +/- 0.0037\n",
      "1_YC  : 249.7793 +/- 0.0101\n",
      "1_MAG : 3.5501 +/- 0.0011\n",
      "1_RE  : 21.3563 +/- 0.0319\n",
      "1_N   : 1.1676 +/- 0.0019\n",
      "1_AR  : 0.3585 +/- 0.0003\n",
      "1_PA  : 0.6792 +/- 0.0312\n",
      "2_SKY : 5.1247 +/- 0.9990\n",
      "who's zoomin' who?\n",
      "VFID1932-MESSIER063\n",
      "(500, 500)\n",
      "self.psfimage =  wise-w3-psf-wpro-09x09-05x05.fits\n",
      "sersic n, fitsersicn =  2 1\n",
      "BA, fitBA =  1 1\n",
      "run the following:  galfit VFID1932-MESSIER063-unwise-w3-galfit.input.1Comp\n",
      "1_XC  : 250.8622 +/- 0.0141\n",
      "1_YC  : 250.8131 +/- 0.0071\n",
      "1_MAG : 1.8245 +/- 0.0011\n",
      "1_RE  : 45.6534 +/- 0.0678\n",
      "1_N   : 1.4110 +/- 0.0018\n",
      "1_AR  : 0.4903 +/- 0.0003\n",
      "1_PA  : -82.4979 +/- 0.0431\n",
      "2_SKY : -79.4095 +/- 2.0118\n",
      "who's zoomin' who?\n",
      "VFID1961-NGC4490\n",
      "(500, 500)\n",
      "self.psfimage =  wise-w3-psf-wpro-09x09-05x05.fits\n",
      "sersic n, fitsersicn =  2 1\n",
      "BA, fitBA =  1 1\n",
      "run the following:  galfit VFID1961-NGC4490-unwise-w3-galfit.input.1Comp\n",
      "1_XC  : 258.8971 +/- 0.0232\n",
      "1_YC  : 255.7981 +/- 0.0149\n",
      "1_MAG : 3.2056 +/- 0.0013\n",
      "1_RE  : 27.2129 +/- 0.0515\n",
      "1_N   : 0.8061 +/- 0.0024\n",
      "1_AR  : 0.3587 +/- 0.0004\n",
      "1_PA  : -57.3777 +/- 0.0494\n",
      "2_SKY : 19.4709 +/- 1.7940\n",
      "who's zoomin' who?\n",
      "VFID2368-NGC5033\n",
      "(500, 500)\n",
      "self.psfimage =  wise-w3-psf-wpro-09x09-05x05.fits\n",
      "sersic n, fitsersicn =  2 1\n",
      "BA, fitBA =  1 1\n",
      "run the following:  galfit VFID2368-NGC5033-unwise-w3-galfit.input.1Comp\n",
      "1_XC  : 250.8215 +/- 0.0031\n",
      "1_YC  : 251.0842 +/- 0.0075\n",
      "1_MAG : 3.4911 +/- 0.0009\n",
      "1_RE  : 14.7161 +/- 0.0201\n",
      "1_N   : 1.1411 +/- 0.0021\n",
      "1_AR  : 0.4033 +/- 0.0003\n",
      "1_PA  : -10.7464 +/- 0.0354\n",
      "2_SKY : 47.5232 +/- 1.2318\n",
      "who's zoomin' who?\n",
      "VFID2409-NGC5529\n",
      "(500, 500)\n",
      "self.psfimage =  wise-w3-psf-wpro-09x09-05x05.fits\n",
      "sersic n, fitsersicn =  2 1\n",
      "BA, fitBA =  1 1\n",
      "run the following:  galfit VFID2409-NGC5529-unwise-w3-galfit.input.1Comp\n",
      "1_XC  : 248.7975 +/- 0.0450\n",
      "1_YC  : 250.7130 +/- 0.0211\n",
      "1_MAG : 5.5516 +/- 0.0020\n",
      "1_RE  : 22.9323 +/- 0.0585\n",
      "1_N   : 0.4978 +/- 0.0030\n",
      "1_AR  : 0.1041 +/- 0.0002\n",
      "1_PA  : -65.0065 +/- 0.0211\n",
      "2_SKY : 18.9822 +/- 0.8623\n",
      "who's zoomin' who?\n",
      "VFID2713-NGC4631\n",
      "(500, 500)\n",
      "self.psfimage =  wise-w3-psf-wpro-09x09-05x05.fits\n",
      "sersic n, fitsersicn =  2 1\n",
      "BA, fitBA =  1 1\n",
      "run the following:  galfit VFID2713-NGC4631-unwise-w3-galfit.input.1Comp\n",
      "1_XC  : 251.7489 +/- 0.0183\n",
      "1_YC  : 249.9227 +/- 0.0040\n",
      "1_MAG : 2.2360 +/- 0.0010\n",
      "1_RE  : 29.6441 +/- 0.0476\n",
      "1_N   : 1.2201 +/- 0.0027\n",
      "1_AR  : 0.2059 +/- 0.0002\n",
      "1_PA  : 81.4965 +/- 0.0176\n",
      "2_SKY : 74.7853 +/- 3.0735\n",
      "who's zoomin' who?\n",
      "VFID2741-NGC4656\n",
      "(500, 500)\n",
      "self.psfimage =  wise-w3-psf-wpro-09x09-05x05.fits\n",
      "sersic n, fitsersicn =  2 1\n",
      "BA, fitBA =  1 1\n",
      "run the following:  galfit VFID2741-NGC4656-unwise-w3-galfit.input.1Comp\n",
      "1_XC  : 252.5923 +/- 0.0263\n",
      "1_YC  : 251.0540 +/- 0.0170\n",
      "1_MAG : 7.0413 +/- 0.0047\n",
      "1_RE  : 5.2968 +/- 0.0366\n",
      "1_N   : 0.6013 +/- 0.0082\n",
      "1_AR  : 0.6550 +/- 0.0036\n",
      "1_PA  : -85.0831 +/- 0.5718\n",
      "2_SKY : 4.2782 +/- 0.8836\n",
      "who's zoomin' who?\n",
      "VFID3002-NGC3486\n",
      "(500, 500)\n",
      "self.psfimage =  wise-w3-psf-wpro-09x09-05x05.fits\n",
      "sersic n, fitsersicn =  2 1\n",
      "BA, fitBA =  1 1\n",
      "run the following:  galfit VFID3002-NGC3486-unwise-w3-galfit.input.1Comp\n",
      "1_XC  : 250.9525 +/- 0.0230\n",
      "1_YC  : 251.9376 +/- 0.0173\n",
      "1_MAG : 4.6760 +/- 0.0015\n",
      "1_RE  : 16.2523 +/- 0.0363\n",
      "1_N   : 0.6400 +/- 0.0024\n",
      "1_AR  : 0.7477 +/- 0.0012\n",
      "1_PA  : 75.8264 +/- 0.2645\n",
      "2_SKY : 6.3755 +/- 0.8229\n",
      "who's zoomin' who?\n",
      "VFID3113-NGC4559\n",
      "(500, 500)\n",
      "self.psfimage =  wise-w3-psf-wpro-09x09-05x05.fits\n",
      "sersic n, fitsersicn =  2 1\n",
      "BA, fitBA =  1 1\n",
      "run the following:  galfit VFID3113-NGC4559-unwise-w3-galfit.input.1Comp\n",
      "1_XC  : 250.5947 +/- 0.0229\n",
      "1_YC  : 251.1094 +/- 0.0277\n",
      "1_MAG : 4.0144 +/- 0.0024\n",
      "1_RE  : 29.6466 +/- 0.0970\n",
      "1_N   : 0.9970 +/- 0.0035\n",
      "1_AR  : 0.4602 +/- 0.0008\n",
      "1_PA  : -39.6557 +/- 0.1084\n",
      "2_SKY : -5.1905 +/- 1.0994\n",
      "who's zoomin' who?\n",
      "VFID3253-NGC4565\n",
      "(500, 500)\n",
      "self.psfimage =  wise-w3-psf-wpro-09x09-05x05.fits\n",
      "sersic n, fitsersicn =  2 1\n",
      "BA, fitBA =  1 1\n",
      "run the following:  galfit VFID3253-NGC4565-unwise-w3-galfit.input.1Comp\n",
      "1_XC  : 252.2385 +/- 0.0332\n",
      "1_YC  : 252.3309 +/- 0.0336\n",
      "1_MAG : 3.3372 +/- 0.0007\n",
      "1_RE  : 59.9422 +/- 0.0589\n",
      "1_N   : 0.5032 +/- 0.0011\n",
      "1_AR  : *0.0728* +/- *0.0001*\n",
      "1_PA  : -44.7678 +/- 0.0054\n",
      "2_SKY : 19.3370 +/- 1.1726\n",
      "who's zoomin' who?\n",
      "VFID3307-NGC4725\n",
      "(500, 500)\n",
      "self.psfimage =  wise-w3-psf-wpro-09x09-05x05.fits\n",
      "sersic n, fitsersicn =  2 1\n",
      "BA, fitBA =  1 1\n",
      "run the following:  galfit VFID3307-NGC4725-unwise-w3-galfit.input.1Comp\n",
      "1_XC  : 250.6887 +/- 0.0111\n",
      "1_YC  : 250.7648 +/- 0.0121\n",
      "1_MAG : 0.8263 +/- 0.0901\n",
      "1_RE  : 2766.4780 +/- 324.5468\n",
      "1_N   : 7.0889 +/- 0.1433\n",
      "1_AR  : 0.5361 +/- 0.0028\n",
      "1_PA  : 39.4522 +/- 0.2555\n",
      "2_SKY : -184.9010 +/- 3.1765\n",
      "who's zoomin' who?\n",
      "VFID3365-NGC3344\n",
      "(500, 500)\n",
      "self.psfimage =  wise-w3-psf-wpro-09x09-05x05.fits\n",
      "sersic n, fitsersicn =  2 1\n",
      "BA, fitBA =  1 1\n",
      "run the following:  galfit VFID3365-NGC3344-unwise-w3-galfit.input.1Comp\n",
      "1_XC  : 249.5398 +/- 0.0363\n",
      "1_YC  : 250.0934 +/- 0.0338\n",
      "1_MAG : 3.7639 +/- 0.0020\n",
      "1_RE  : 26.2940 +/- 0.0742\n",
      "1_N   : 0.7306 +/- 0.0032\n",
      "1_AR  : 0.9416 +/- 0.0018\n",
      "1_PA  : -56.9806 +/- 1.5522\n",
      "2_SKY : -8.5338 +/- 1.2549\n",
      "who's zoomin' who?\n",
      "VFID3605-NGC2903\n",
      "(500, 500)\n",
      "self.psfimage =  wise-w3-psf-wpro-09x09-05x05.fits\n",
      "sersic n, fitsersicn =  2 1\n",
      "BA, fitBA =  1 1\n",
      "run the following:  galfit VFID3605-NGC2903-unwise-w3-galfit.input.1Comp\n",
      "1_XC  : 250.6406 +/- 0.0167\n",
      "1_YC  : 250.4338 +/- 0.0363\n",
      "1_MAG : 2.3573 +/- 0.0010\n",
      "1_RE  : 30.9614 +/- 0.0421\n",
      "1_N   : 0.4543 +/- 0.0017\n",
      "1_AR  : 0.4626 +/- 0.0006\n",
      "1_PA  : 11.9558 +/- 0.0635\n",
      "2_SKY : 31.6097 +/- 3.1858\n",
      "who's zoomin' who?\n",
      "VFID3855-NGC4293\n",
      "(500, 500)\n",
      "self.psfimage =  wise-w3-psf-wpro-09x09-05x05.fits\n",
      "sersic n, fitsersicn =  2 1\n",
      "BA, fitBA =  1 1\n",
      "run the following:  galfit VFID3855-NGC4293-unwise-w3-galfit.input.1Comp\n",
      "1_XC  : 251.2571 +/- 0.0056\n",
      "1_YC  : 250.2318 +/- 0.0038\n",
      "1_MAG : 5.5343 +/- 0.0034\n",
      "1_RE  : 4.5498 +/- 0.0272\n",
      "1_N   : 2.2126 +/- 0.0130\n",
      "1_AR  : 0.7951 +/- 0.0025\n",
      "1_PA  : 67.9386 +/- 0.5053\n",
      "2_SKY : 12.8179 +/- 1.0174\n",
      "who's zoomin' who?\n",
      "VFID3886-MESSIER085\n",
      "(500, 500)\n",
      "self.psfimage =  wise-w3-psf-wpro-09x09-05x05.fits\n",
      "sersic n, fitsersicn =  2 1\n",
      "BA, fitBA =  1 1\n",
      "run the following:  galfit VFID3886-MESSIER085-unwise-w3-galfit.input.1Comp\n",
      "1_XC  : 250.2325 +/- 0.0116\n",
      "1_YC  : 251.7752 +/- 0.0151\n",
      "1_MAG : 5.3119 +/- 0.0126\n",
      "1_RE  : 20.7700 +/- 0.3721\n",
      "1_N   : 2.6142 +/- 0.0253\n",
      "1_AR  : 0.8238 +/- 0.0057\n",
      "1_PA  : 22.4812 +/- 1.2456\n",
      "2_SKY : 16.6403 +/- 1.1101\n",
      "who's zoomin' who?\n",
      "VFID4147-MESSIER100\n",
      "(500, 500)\n",
      "self.psfimage =  wise-w3-psf-wpro-09x09-05x05.fits\n",
      "sersic n, fitsersicn =  2 1\n",
      "BA, fitBA =  1 1\n",
      "run the following:  galfit VFID4147-MESSIER100-unwise-w3-galfit.input.1Comp\n",
      "1_XC  : 250.3973 +/- 0.0049\n",
      "1_YC  : 250.6550 +/- 0.0048\n",
      "1_MAG : 1.9556 +/- 0.0083\n",
      "1_RE  : 91.6885 +/- 1.0380\n",
      "1_N   : 4.1303 +/- 0.0167\n",
      "1_AR  : 0.7377 +/- 0.0018\n",
      "1_PA  : -60.1991 +/- 0.2670\n",
      "2_SKY : -211.5286 +/- 3.6207\n",
      "who's zoomin' who?\n",
      "VFID4278-NGC4302\n",
      "(500, 500)\n",
      "self.psfimage =  wise-w3-psf-wpro-09x09-05x05.fits\n",
      "sersic n, fitsersicn =  2 1\n",
      "BA, fitBA =  1 1\n",
      "run the following:  galfit VFID4278-NGC4302-unwise-w3-galfit.input.1Comp\n",
      "1_XC  : 250.7628 +/- 0.0057\n",
      "1_YC  : 249.1693 +/- 0.0557\n",
      "1_MAG : 4.6959 +/- 0.0025\n",
      "1_RE  : 26.3494 +/- 0.0907\n",
      "1_N   : 0.7007 +/- 0.0043\n",
      "1_AR  : 0.1016 +/- 0.0003\n",
      "1_PA  : -0.6343 +/- 0.0243\n",
      "2_SKY : 49.8473 +/- 1.7911\n",
      "who's zoomin' who?\n",
      "VFID4304-MESSIER088\n",
      "(500, 500)\n",
      "self.psfimage =  wise-w3-psf-wpro-09x09-05x05.fits\n",
      "sersic n, fitsersicn =  2 1\n",
      "BA, fitBA =  1 1\n",
      "run the following:  galfit VFID4304-MESSIER088-unwise-w3-galfit.input.1Comp\n",
      "1_XC  : 251.8463 +/- 0.0141\n",
      "1_YC  : 250.6306 +/- 0.0187\n",
      "1_MAG : 3.0888 +/- 0.0007\n",
      "1_RE  : 25.9345 +/- 0.0266\n",
      "1_N   : 0.4339 +/- 0.0011\n",
      "1_AR  : 0.4688 +/- 0.0005\n",
      "1_PA  : -37.4144 +/- 0.0488\n",
      "2_SKY : 5.6561 +/- 1.5203\n",
      "who's zoomin' who?\n",
      "VFID4305-MESSIER099\n",
      "(500, 500)\n",
      "self.psfimage =  wise-w3-psf-wpro-09x09-05x05.fits\n",
      "sersic n, fitsersicn =  2 1\n",
      "BA, fitBA =  1 1\n",
      "run the following:  galfit VFID4305-MESSIER099-unwise-w3-galfit.input.1Comp\n",
      "1_XC  : 249.2619 +/- 0.0133\n",
      "1_YC  : 250.3903 +/- 0.0103\n",
      "1_MAG : 2.3700 +/- 0.0013\n",
      "1_RE  : 23.1583 +/- 0.0404\n",
      "1_N   : 1.0561 +/- 0.0020\n",
      "1_AR  : 0.7814 +/- 0.0008\n",
      "1_PA  : 63.6521 +/- 0.1918\n",
      "2_SKY : 2.4577 +/- 2.4332\n",
      "who's zoomin' who?\n"
     ]
    },
    {
     "name": "stdout",
     "output_type": "stream",
     "text": [
      "VFID4433-NGC3628\n",
      "(500, 500)\n",
      "self.psfimage =  wise-w3-psf-wpro-09x09-05x05.fits\n",
      "sersic n, fitsersicn =  2 1\n",
      "BA, fitBA =  1 1\n",
      "run the following:  galfit VFID4433-NGC3628-unwise-w3-galfit.input.1Comp\n",
      "1_XC  : 250.3983 +/- 0.0185\n",
      "1_YC  : 249.5644 +/- 0.0048\n",
      "1_MAG : 2.6384 +/- 0.0010\n",
      "1_RE  : 41.0944 +/- 0.0686\n",
      "1_N   : 1.2748 +/- 0.0027\n",
      "1_AR  : 0.1277 +/- 0.0001\n",
      "1_PA  : -76.0239 +/- 0.0102\n",
      "2_SKY : 17.3640 +/- 1.9038\n",
      "who's zoomin' who?\n",
      "VFID4531-MESSIER065\n",
      "(500, 500)\n",
      "self.psfimage =  wise-w3-psf-wpro-09x09-05x05.fits\n",
      "sersic n, fitsersicn =  2 1\n",
      "BA, fitBA =  1 1\n",
      "run the following:  galfit VFID4531-MESSIER065-unwise-w3-galfit.input.1Comp\n",
      "1_XC  : 250.0273 +/- 0.0194\n",
      "1_YC  : 249.5458 +/- 0.0610\n",
      "1_MAG : 4.3399 +/- 0.0023\n",
      "1_RE  : 34.5077 +/- 0.0536\n",
      "1_N   : 0.1765 +/- 0.0014\n",
      "1_AR  : 0.2979 +/- 0.0006\n",
      "1_PA  : -8.7018 +/- 0.0491\n",
      "2_SKY : 1.1472 +/- 1.2546\n",
      "who's zoomin' who?\n",
      "VFID4559-MESSIER066\n",
      "(500, 500)\n",
      "self.psfimage =  wise-w3-psf-wpro-09x09-05x05.fits\n",
      "sersic n, fitsersicn =  2 1\n",
      "BA, fitBA =  1 1\n",
      "run the following:  galfit VFID4559-MESSIER066-unwise-w3-galfit.input.1Comp\n",
      "1_XC  : 249.5149 +/- 0.0262\n",
      "1_YC  : 250.2914 +/- 0.0395\n",
      "1_MAG : 2.2941 +/- 0.0015\n",
      "1_RE  : 27.9318 +/- 0.0418\n",
      "1_N   : 0.3615 +/- 0.0016\n",
      "1_AR  : 0.6046 +/- 0.0009\n",
      "1_PA  : -8.8152 +/- 0.1281\n",
      "2_SKY : 41.1491 +/- 4.5117\n",
      "who's zoomin' who?\n",
      "VFID4651-NGC4388\n",
      "(500, 500)\n",
      "self.psfimage =  wise-w3-psf-wpro-09x09-05x05.fits\n",
      "sersic n, fitsersicn =  2 1\n",
      "BA, fitBA =  1 1\n",
      "run the following:  galfit VFID4651-NGC4388-unwise-w3-galfit.input.1Comp\n",
      "1_XC  : 250.4171 +/- 0.0080\n",
      "1_YC  : 250.4070 +/- 0.0046\n",
      "1_MAG : 4.2607 +/- 0.0018\n",
      "1_RE  : 9.3371 +/- 0.0278\n",
      "1_N   : 1.5466 +/- 0.0082\n",
      "1_AR  : 0.3644 +/- 0.0006\n",
      "1_PA  : -86.5646 +/- 0.0531\n",
      "2_SKY : 6.5082 +/- 1.3690\n",
      "who's zoomin' who?\n",
      "VFID4753-MESSIER087\n",
      "(500, 500)\n",
      "self.psfimage =  wise-w3-psf-wpro-09x09-05x05.fits\n",
      "sersic n, fitsersicn =  2 1\n",
      "BA, fitBA =  1 1\n",
      "run the following:  galfit VFID4753-MESSIER087-unwise-w3-galfit.input.1Comp\n",
      "1_XC  : 251.7069 +/- 0.0100\n",
      "1_YC  : 251.6815 +/- 0.0075\n",
      "1_MAG : 5.1251 +/- 0.0052\n",
      "1_RE  : 12.0494 +/- 0.0864\n",
      "1_N   : 1.7020 +/- 0.0095\n",
      "1_AR  : 0.7413 +/- 0.0026\n",
      "1_PA  : -64.0290 +/- 0.4665\n",
      "2_SKY : 6.1891 +/- 1.1584\n",
      "who's zoomin' who?\n",
      "VFID4908-MESSIER096\n",
      "(500, 500)\n",
      "self.psfimage =  wise-w3-psf-wpro-09x09-05x05.fits\n",
      "sersic n, fitsersicn =  2 1\n",
      "BA, fitBA =  1 1\n",
      "run the following:  galfit VFID4908-MESSIER096-unwise-w3-galfit.input.1Comp\n",
      "1_XC  : 250.5711 +/- 0.0042\n",
      "1_YC  : 250.5933 +/- 0.0047\n",
      "1_MAG : 3.6126 +/- 0.0059\n",
      "1_RE  : 33.8141 +/- 0.3090\n",
      "1_N   : 3.3660 +/- 0.0154\n",
      "1_AR  : 0.7624 +/- 0.0021\n",
      "1_PA  : -50.0725 +/- 0.3456\n",
      "2_SKY : -25.6633 +/- 1.4844\n",
      "who's zoomin' who?\n",
      "VFID4909-MESSIER058\n",
      "(500, 500)\n",
      "self.psfimage =  wise-w3-psf-wpro-09x09-05x05.fits\n",
      "sersic n, fitsersicn =  2 1\n",
      "BA, fitBA =  1 1\n",
      "run the following:  galfit VFID4909-MESSIER058-unwise-w3-galfit.input.1Comp\n",
      "1_XC  : 250.5079 +/- 0.0045\n",
      "1_YC  : 250.7194 +/- 0.0070\n",
      "1_MAG : 2.9120 +/- 0.0238\n",
      "1_RE  : 147.4566 +/- 5.4780\n",
      "1_N   : 5.8062 +/- 0.0636\n",
      "1_AR  : 0.7256 +/- 0.0031\n",
      "1_PA  : 77.0358 +/- 0.4176\n",
      "2_SKY : -90.6622 +/- 1.7336\n",
      "who's zoomin' who?\n",
      "VFID4932-MESSIER095\n",
      "(500, 500)\n",
      "self.psfimage =  wise-w3-psf-wpro-09x09-05x05.fits\n",
      "sersic n, fitsersicn =  2 1\n",
      "BA, fitBA =  1 1\n",
      "run the following:  galfit VFID4932-MESSIER095-unwise-w3-galfit.input.1Comp\n",
      "1_XC  : 250.2946 +/- 0.0040\n",
      "1_YC  : 250.5578 +/- 0.0055\n",
      "1_MAG : 4.6005 +/- 0.0015\n",
      "1_RE  : 3.8032 +/- 0.0069\n",
      "1_N   : 0.8383 +/- 0.0031\n",
      "1_AR  : 0.8154 +/- 0.0012\n",
      "1_PA  : 5.0024 +/- 0.3106\n",
      "2_SKY : 80.6051 +/- 1.5509\n",
      "who's zoomin' who?\n",
      "VFID4957-MESSIER060\n",
      "(500, 500)\n",
      "self.psfimage =  wise-w3-psf-wpro-09x09-05x05.fits\n",
      "sersic n, fitsersicn =  2 1\n",
      "BA, fitBA =  1 1\n",
      "run the following:  galfit VFID4957-MESSIER060-unwise-w3-galfit.input.1Comp\n",
      "1_XC  : 276.3116 +/- 0.0740\n",
      "1_YC  : 275.6678 +/- 0.0703\n",
      "1_MAG : 4.1919 +/- 0.0025\n",
      "1_RE  : 35.3452 +/- 0.1204\n",
      "1_N   : 0.4611 +/- 0.0037\n",
      "1_AR  : 0.2199 +/- 0.0007\n",
      "1_PA  : -46.5482 +/- 0.0621\n",
      "2_SKY : 12.6106 +/- 1.9289\n",
      "who's zoomin' who?\n",
      "VFID5423-NGC4535\n",
      "(500, 500)\n",
      "self.psfimage =  wise-w3-psf-wpro-09x09-05x05.fits\n",
      "sersic n, fitsersicn =  2 1\n",
      "BA, fitBA =  1 1\n",
      "run the following:  galfit VFID5423-NGC4535-unwise-w3-galfit.input.1Comp\n",
      "1_XC  : 250.4263 +/- 0.0614\n",
      "1_YC  : 248.5481 +/- 0.0686\n",
      "1_MAG : 3.6847 +/- 0.0024\n",
      "1_RE  : 31.5350 +/- 0.0699\n",
      "1_N   : 0.3401 +/- 0.0022\n",
      "1_AR  : 0.7615 +/- 0.0018\n",
      "1_PA  : 2.2819 +/- 0.3870\n",
      "2_SKY : 8.1981 +/- 1.6649\n",
      "who's zoomin' who?\n",
      "VFID5460-MESSIER049\n",
      "(500, 500)\n",
      "self.psfimage =  wise-w3-psf-wpro-09x09-05x05.fits\n",
      "sersic n, fitsersicn =  2 1\n",
      "BA, fitBA =  1 1\n",
      "run the following:  galfit VFID5460-MESSIER049-unwise-w3-galfit.input.1Comp\n",
      "1_XC  : 249.9934 +/- 0.0131\n",
      "1_YC  : 251.5324 +/- 0.0114\n",
      "1_MAG : 4.9031 +/- 0.0077\n",
      "1_RE  : 17.6158 +/- 0.1856\n",
      "1_N   : 2.0512 +/- 0.0134\n",
      "1_AR  : 0.8797 +/- 0.0039\n",
      "1_PA  : -20.3600 +/- 1.3606\n",
      "2_SKY : 11.0191 +/- 1.2377\n",
      "who's zoomin' who?\n",
      "VFID5565-NGC4365\n",
      "(500, 500)\n",
      "self.psfimage =  wise-w3-psf-wpro-09x09-05x05.fits\n",
      "sersic n, fitsersicn =  2 1\n",
      "BA, fitBA =  1 1\n",
      "run the following:  galfit VFID5565-NGC4365-unwise-w3-galfit.input.1Comp\n",
      "1_XC  : 249.4185 +/- 0.0139\n",
      "1_YC  : 252.0969 +/- 0.0246\n",
      "1_MAG : 6.1268 +/- 0.0156\n",
      "1_RE  : 12.7644 +/- 0.2770\n",
      "1_N   : 1.9773 +/- 0.0262\n",
      "1_AR  : 0.7879 +/- 0.0069\n",
      "1_PA  : 40.6690 +/- 1.5566\n",
      "2_SKY : 2.8167 +/- 1.1959\n",
      "who's zoomin' who?\n",
      "VFID6014-MESSIER061\n",
      "(500, 500)\n",
      "self.psfimage =  wise-w3-psf-wpro-09x09-05x05.fits\n",
      "sersic n, fitsersicn =  2 1\n",
      "BA, fitBA =  1 1\n",
      "run the following:  galfit VFID6014-MESSIER061-unwise-w3-galfit.input.1Comp\n",
      "1_XC  : 247.8344 +/- 0.0178\n",
      "1_YC  : 251.6413 +/- 0.0210\n",
      "1_MAG : 2.8084 +/- 0.0012\n",
      "1_RE  : 21.4119 +/- 0.0206\n",
      "1_N   : 0.2776 +/- 0.0009\n",
      "1_AR  : 0.7836 +/- 0.0008\n",
      "1_PA  : 26.0941 +/- 0.1981\n",
      "2_SKY : 54.8355 +/- 2.7366\n",
      "who's zoomin' who?\n",
      "VFID6088-NGC5566\n",
      "(500, 500)\n",
      "self.psfimage =  wise-w3-psf-wpro-09x09-05x05.fits\n",
      "sersic n, fitsersicn =  2 1\n",
      "BA, fitBA =  1 1\n",
      "run the following:  galfit VFID6088-NGC5566-unwise-w3-galfit.input.1Comp\n",
      "1_XC  : 250.2794 +/- 0.0165\n",
      "1_YC  : 250.7370 +/- 0.0217\n",
      "1_MAG : 5.2418 +/- 0.0089\n",
      "1_RE  : 15.4211 +/- 0.1885\n",
      "1_N   : 1.7924 +/- 0.0153\n",
      "1_AR  : 0.7634 +/- 0.0044\n",
      "1_PA  : 11.8037 +/- 0.8322\n",
      "2_SKY : -15.2539 +/- 1.3885\n",
      "who's zoomin' who?\n",
      "VFID6276-NGC4527\n",
      "(500, 500)\n",
      "self.psfimage =  wise-w3-psf-wpro-09x09-05x05.fits\n",
      "sersic n, fitsersicn =  2 1\n",
      "BA, fitBA =  1 1\n",
      "run the following:  galfit VFID6276-NGC4527-unwise-w3-galfit.input.1Comp\n",
      "1_XC  : 250.6304 +/- 0.0205\n",
      "1_YC  : 250.8081 +/- 0.0078\n",
      "1_MAG : 3.1129 +/- 0.0013\n",
      "1_RE  : 26.2403 +/- 0.0526\n",
      "1_N   : 1.0152 +/- 0.0040\n",
      "1_AR  : 0.2616 +/- 0.0004\n",
      "1_PA  : 69.7985 +/- 0.0314\n",
      "2_SKY : 2.2032 +/- 2.0964\n",
      "who's zoomin' who?\n",
      "VFID6346-NGC4536\n",
      "(500, 500)\n",
      "self.psfimage =  wise-w3-psf-wpro-09x09-05x05.fits\n",
      "sersic n, fitsersicn =  2 1\n",
      "BA, fitBA =  1 1\n",
      "run the following:  galfit VFID6346-NGC4536-unwise-w3-galfit.input.1Comp\n",
      "1_XC  : 250.7040 +/- 0.0038\n",
      "1_YC  : 251.3025 +/- 0.0034\n",
      "1_MAG : 3.6296 +/- 0.0017\n",
      "1_RE  : 6.7308 +/- 0.0326\n",
      "1_N   : 3.9702 +/- 0.0160\n",
      "1_AR  : 0.8300 +/- 0.0015\n",
      "1_PA  : -67.9584 +/- 0.3175\n",
      "2_SKY : 13.7976 +/- 1.3442\n",
      "who's zoomin' who?\n",
      "VFID6403-NGC5746\n",
      "(500, 500)\n",
      "self.psfimage =  wise-w3-psf-wpro-09x09-05x05.fits\n",
      "sersic n, fitsersicn =  2 1\n",
      "BA, fitBA =  1 1\n",
      "run the following:  galfit VFID6403-NGC5746-unwise-w3-galfit.input.1Comp\n",
      "1_XC  : 250.3362 +/- 0.0115\n",
      "1_YC  : 251.9120 +/- 0.0644\n",
      "1_MAG : 4.7222 +/- 0.0015\n",
      "1_RE  : 35.0994 +/- 0.0733\n",
      "1_N   : 0.4274 +/- 0.0022\n",
      "1_AR  : 0.1147 +/- 0.0002\n",
      "1_PA  : -10.1681 +/- 0.0192\n",
      "2_SKY : 15.3991 +/- 1.0583\n",
      "who's zoomin' who?\n",
      "VFID6497-NGC4845\n",
      "(500, 500)\n",
      "self.psfimage =  wise-w3-psf-wpro-09x09-05x05.fits\n",
      "sersic n, fitsersicn =  2 1\n",
      "BA, fitBA =  1 1\n",
      "run the following:  galfit VFID6497-NGC4845-unwise-w3-galfit.input.1Comp\n",
      "1_XC  : 250.5337 +/- 0.0052\n",
      "1_YC  : 250.2823 +/- 0.0034\n",
      "1_MAG : 5.1256 +/- 0.0019\n",
      "1_RE  : 3.6192 +/- 0.0098\n",
      "1_N   : 1.3412 +/- 0.0062\n",
      "1_AR  : 0.7317 +/- 0.0016\n",
      "1_PA  : 76.6230 +/- 0.2575\n",
      "2_SKY : 11.1090 +/- 1.2123\n",
      "who's zoomin' who?\n",
      "VFID6692-NGC4517\n",
      "(500, 500)\n",
      "self.psfimage =  wise-w3-psf-wpro-09x09-05x05.fits\n",
      "sersic n, fitsersicn =  2 1\n",
      "BA, fitBA =  1 1\n",
      "run the following:  galfit VFID6692-NGC4517-unwise-w3-galfit.input.1Comp\n",
      "1_XC  : 248.6176 +/- 0.0652\n",
      "1_YC  : 252.0680 +/- 0.0080\n",
      "1_MAG : 4.0580 +/- 0.0013\n",
      "1_RE  : 44.4969 +/- 0.0778\n",
      "1_N   : 0.4773 +/- 0.0019\n",
      "1_AR  : 0.1067 +/- 0.0002\n",
      "1_PA  : 83.0265 +/- 0.0148\n",
      "2_SKY : 13.8988 +/- 1.2654\n",
      "who's zoomin' who?\n"
     ]
    },
    {
     "name": "stdout",
     "output_type": "stream",
     "text": [
      "VFID6719-NGC3521\n",
      "(500, 500)\n",
      "self.psfimage =  wise-w3-psf-wpro-09x09-05x05.fits\n",
      "sersic n, fitsersicn =  2 1\n",
      "BA, fitBA =  1 1\n",
      "run the following:  galfit VFID6719-NGC3521-unwise-w3-galfit.input.1Comp\n",
      "1_XC  : 251.4045 +/- 0.0054\n",
      "1_YC  : 249.3185 +/- 0.0133\n",
      "1_MAG : 2.1183 +/- 0.0005\n",
      "1_RE  : 27.4916 +/- 0.0179\n",
      "1_N   : 0.5631 +/- 0.0008\n",
      "1_AR  : 0.4084 +/- 0.0002\n",
      "1_PA  : -17.5151 +/- 0.0239\n",
      "2_SKY : 48.7407 +/- 1.9473\n",
      "who's zoomin' who?\n",
      "VFID6848-NGC4753\n",
      "(500, 500)\n",
      "self.psfimage =  wise-w3-psf-wpro-09x09-05x05.fits\n",
      "sersic n, fitsersicn =  2 1\n",
      "BA, fitBA =  1 1\n",
      "run the following:  galfit VFID6848-NGC4753-unwise-w3-galfit.input.1Comp\n",
      "1_XC  : 250.1022 +/- 0.0098\n",
      "1_YC  : 250.6138 +/- 0.0049\n",
      "1_MAG : 5.2279 +/- 0.0030\n",
      "1_RE  : 7.4788 +/- 0.0319\n",
      "1_N   : 1.3383 +/- 0.0061\n",
      "1_AR  : 0.5544 +/- 0.0012\n",
      "1_PA  : -87.4598 +/- 0.1643\n",
      "2_SKY : 16.6412 +/- 1.2101\n",
      "who's zoomin' who?\n"
     ]
    }
   ],
   "source": [
    "#100px (to which the run_galfit.py program is currently tuned)\n",
    "\n",
    "os.chdir(homedir+'/github/unwise_corrected_100px')\n",
    "%run ~/github/research/run_galfit.py\n",
    "\n",
    "vf = vfmain\n",
    "\n",
    "run_galfit_no_psf(vf,'unwise_corrected_100px','no_psf')"
   ]
  },
  {
   "cell_type": "markdown",
   "metadata": {},
   "source": [
    "-------"
   ]
  },
  {
   "cell_type": "markdown",
   "metadata": {},
   "source": [
    "## Generating histogram distributions of galfit output parameters to find differences between galaxy fits images corrected 100px and uncorrected for oversubtraction haloes. There appeared to be a few mismatches between corresponding parameters (potentially due to the variable background present in the corrected images), so this visualization will allow a proper glimpse at how significant are the mismatches on larger scale."
   ]
  },
  {
   "cell_type": "code",
   "execution_count": 45,
   "metadata": {},
   "outputs": [],
   "source": [
    "uncorrected_59_100 = ascii.read(homedir+'/github/WISE_test/testest2.txt')\n",
    "corrected_59_100 = ascii.read(homedir+'/github/unwise_corrected_100px/no_psf_cornerplots.txt')"
   ]
  },
  {
   "cell_type": "code",
   "execution_count": 46,
   "metadata": {},
   "outputs": [],
   "source": [
    "flag= (np.where(uncorrected_59_100['mag'] != -999)[0])\n",
    "corrected_59_100[flag]\n",
    "#print(corrected_59[24]['prefix'],corrected_59[30]['prefix'])\n",
    "uncorrected_57_100 = uncorrected_59_100[flag]\n",
    "corrected_57_100 = corrected_59_100[flag]\n",
    "#indices with problematic galaxies: 24,30"
   ]
  },
  {
   "cell_type": "code",
   "execution_count": 47,
   "metadata": {},
   "outputs": [
    {
     "data": {
      "text/plain": [
       "Text(3, 34, 'Median:0.09')"
      ]
     },
     "execution_count": 47,
     "metadata": {},
     "output_type": "execute_result"
    },
    {
     "data": {
      "image/png": "[encoded data removed]",
      "text/plain": [
       "<Figure size 720x576 with 1 Axes>"
      ]
     },
     "metadata": {
      "needs_background": "light"
     },
     "output_type": "display_data"
    }
   ],
   "source": [
    "re_ratio = (corrected_57_100['re']-uncorrected_57_100['re'])/uncorrected_57_100['re']\n",
    "plt.figure(figsize=(10,8))\n",
    "plt.hist(re_ratio,label='57/59 Galaxy Subsample')\n",
    "plt.xlabel(r'$\\Delta R_e /R_e$',fontsize=20)\n",
    "plt.ylabel('# Galaxies',fontsize=20)\n",
    "\n",
    "plt.legend(loc='upper right',fontsize=20)\n",
    "plt.title('Distribution of R_e (100px)',fontsize=25)\n",
    "plt.text(3,37,'Mean: ' + str('%0.2f')%np.mean(re_ratio),fontsize=20)\n",
    "plt.text(3,34,'Median:' +str('%0.2f')%np.median(re_ratio),fontsize=20)"
   ]
  },
  {
   "cell_type": "code",
   "execution_count": 48,
   "metadata": {
    "scrolled": false
   },
   "outputs": [
    {
     "data": {
      "text/plain": [
       "Text(-2.5, 22, 'Median:-0.17')"
      ]
     },
     "execution_count": 48,
     "metadata": {},
     "output_type": "execute_result"
    },
    {
     "data": {
      "image/png": "[encoded data removed]",
      "text/plain": [
       "<Figure size 720x576 with 1 Axes>"
      ]
     },
     "metadata": {
      "needs_background": "light"
     },
     "output_type": "display_data"
    }
   ],
   "source": [
    "deltamag = corrected_57_100['mag']-uncorrected_57_100['mag']\n",
    "plt.figure(figsize=(10,8))\n",
    "plt.hist(deltamag,label='59 Galaxy Subsample')\n",
    "plt.xlabel(r'$\\Delta mag$'+' (corr - uncorr)',fontsize=20)\n",
    "plt.ylabel('# Galaxies',fontsize=20)\n",
    "\n",
    "plt.legend(loc='upper left',fontsize=20)\n",
    "plt.title('Distribution of Magnitude (100px)',fontsize=25)\n",
    "plt.text(-2.5,24,'Mean: ' + str('%0.2f')%np.mean(deltamag),fontsize=20)\n",
    "plt.text(-2.5,22,'Median:' +str('%0.2f')%np.median(deltamag),fontsize=20)"
   ]
  },
  {
   "cell_type": "code",
   "execution_count": null,
   "metadata": {},
   "outputs": [],
   "source": []
  },
  {
   "cell_type": "code",
   "execution_count": null,
   "metadata": {},
   "outputs": [],
   "source": []
  },
  {
   "cell_type": "code",
   "execution_count": null,
   "metadata": {},
   "outputs": [],
   "source": []
  },
  {
   "cell_type": "code",
   "execution_count": null,
   "metadata": {},
   "outputs": [],
   "source": []
  },
  {
   "cell_type": "code",
   "execution_count": null,
   "metadata": {},
   "outputs": [],
   "source": []
  },
  {
   "cell_type": "code",
   "execution_count": null,
   "metadata": {},
   "outputs": [],
   "source": []
  },
  {
   "cell_type": "code",
   "execution_count": null,
   "metadata": {},
   "outputs": [],
   "source": []
  },
  {
   "cell_type": "markdown",
   "metadata": {},
   "source": [
    "---------"
   ]
  },
  {
   "cell_type": "markdown",
   "metadata": {},
   "source": [
    "## Generating histogram distributions of galfit output parameters to find differences between galaxy fits images corrected 50px and uncorrected for oversubtraction haloes. There appeared to be a few mismatches between corresponding parameters (potentially due to the variable background present in the corrected images), so this visualization will allow a proper glimpse at how significant are the mismatches on larger scale."
   ]
  },
  {
   "cell_type": "code",
   "execution_count": 49,
   "metadata": {},
   "outputs": [],
   "source": [
    "uncorrected_59_500 = ascii.read(homedir+'/github/WISE_test/testest2.txt')\n",
    "corrected_59_500 = ascii.read(homedir+'/github/unwise_corrected_500px/test_no_psf_cornerplots.txt')"
   ]
  },
  {
   "cell_type": "code",
   "execution_count": 50,
   "metadata": {},
   "outputs": [
    {
     "name": "stdout",
     "output_type": "stream",
     "text": [
      "VFID2713-NGC4631 VFID3365-NGC3344\n"
     ]
    }
   ],
   "source": [
    "flag= np.where(uncorrected_59_500['mag'] != -999)\n",
    "prob_flag = [24,30]\n",
    "print(corrected_59_500[24]['prefix'],corrected_59_500[30]['prefix'])\n",
    "uncorrected_57_500 = uncorrected_59_500[flag[0]]\n",
    "corrected_57_500 = corrected_59_500[flag[0]]\n",
    "#indices with problematic galaxies: 24,30"
   ]
  },
  {
   "cell_type": "markdown",
   "metadata": {},
   "source": [
    "------------\n"
   ]
  },
  {
   "cell_type": "markdown",
   "metadata": {},
   "source": [
    "## Effective Radius ($R_e$) Histogram"
   ]
  },
  {
   "cell_type": "code",
   "execution_count": 108,
   "metadata": {},
   "outputs": [
    {
     "data": {
      "text/plain": [
       "Text(4, 35, 'Median:0.09')"
      ]
     },
     "execution_count": 108,
     "metadata": {},
     "output_type": "execute_result"
    },
    {
     "data": {
      "image/png": "[encoded data removed]",
      "text/plain": [
       "<Figure size 720x576 with 1 Axes>"
      ]
     },
     "metadata": {
      "needs_background": "light"
     },
     "output_type": "display_data"
    }
   ],
   "source": [
    "re_ratio = (corrected_57_500['re']-uncorrected_57_500['re'])/uncorrected_57_500['re']\n",
    "plt.figure(figsize=(10,8))\n",
    "plt.hist(re_ratio,label='57/59 Galaxy Subsample')\n",
    "plt.xlabel(r'$\\Delta R_e /R_e$',fontsize=20)\n",
    "plt.ylabel('# Galaxies',fontsize=20)\n",
    "\n",
    "plt.legend(loc='upper right',fontsize=20)\n",
    "plt.title('Distribution of R_e (50px)',fontsize=25)\n",
    "plt.text(4,38,'Mean: ' + str('%0.2f')%np.mean(re_ratio),fontsize=20)\n",
    "plt.text(4,35,'Median:' +str('%0.2f')%np.median(re_ratio),fontsize=20)"
   ]
  },
  {
   "cell_type": "code",
   "execution_count": 52,
   "metadata": {},
   "outputs": [],
   "source": [
    "# \"outlier\" galaxy indices:"
   ]
  },
  {
   "cell_type": "code",
   "execution_count": 204,
   "metadata": {},
   "outputs": [
    {
     "data": {
      "text/plain": [
       "(array([28, 42]),)"
      ]
     },
     "execution_count": 204,
     "metadata": {},
     "output_type": "execute_result"
    }
   ],
   "source": [
    "np.where(re_ratio>3)"
   ]
  },
  {
   "cell_type": "code",
   "execution_count": null,
   "metadata": {},
   "outputs": [],
   "source": []
  },
  {
   "cell_type": "code",
   "execution_count": null,
   "metadata": {},
   "outputs": [],
   "source": []
  },
  {
   "cell_type": "code",
   "execution_count": null,
   "metadata": {},
   "outputs": [],
   "source": []
  },
  {
   "cell_type": "markdown",
   "metadata": {},
   "source": [
    "------------"
   ]
  },
  {
   "cell_type": "markdown",
   "metadata": {},
   "source": [
    "## Magnitude (mag) Histogram"
   ]
  },
  {
   "cell_type": "code",
   "execution_count": 107,
   "metadata": {},
   "outputs": [
    {
     "data": {
      "text/plain": [
       "Text(-2.5, 31, 'Median:-0.19')"
      ]
     },
     "execution_count": 107,
     "metadata": {},
     "output_type": "execute_result"
    },
    {
     "data": {
      "image/png": "[encoded data removed]",
      "text/plain": [
       "<Figure size 720x576 with 1 Axes>"
      ]
     },
     "metadata": {
      "needs_background": "light"
     },
     "output_type": "display_data"
    }
   ],
   "source": [
    "deltamag = corrected_57_500['mag']-uncorrected_57_500['mag']\n",
    "plt.figure(figsize=(10,8))\n",
    "plt.hist(deltamag,label='59 Galaxy Subsample')\n",
    "plt.xlabel(r'$\\Delta mag$'+' (corr - uncorr)',fontsize=20)\n",
    "plt.ylabel('# Galaxies',fontsize=20)\n",
    "\n",
    "plt.legend(loc='upper left',fontsize=20)\n",
    "plt.title('Distribution of Magnitude (50px)',fontsize=25)\n",
    "plt.text(-2.5,33,'Mean: ' + str('%0.2f')%np.mean(deltamag),fontsize=20)\n",
    "plt.text(-2.5,31,'Median:' +str('%0.2f')%np.median(deltamag),fontsize=20)"
   ]
  },
  {
   "cell_type": "code",
   "execution_count": 189,
   "metadata": {},
   "outputs": [],
   "source": [
    "# \"outlier\" galaxy indices:"
   ]
  },
  {
   "cell_type": "code",
   "execution_count": 205,
   "metadata": {},
   "outputs": [
    {
     "data": {
      "text/plain": [
       "(array([28, 42]),)"
      ]
     },
     "execution_count": 205,
     "metadata": {},
     "output_type": "execute_result"
    }
   ],
   "source": [
    "np.where(deltamag<-1.0)"
   ]
  },
  {
   "cell_type": "code",
   "execution_count": null,
   "metadata": {},
   "outputs": [],
   "source": []
  },
  {
   "cell_type": "code",
   "execution_count": null,
   "metadata": {},
   "outputs": [],
   "source": []
  },
  {
   "cell_type": "code",
   "execution_count": null,
   "metadata": {},
   "outputs": [],
   "source": []
  },
  {
   "cell_type": "code",
   "execution_count": null,
   "metadata": {},
   "outputs": [],
   "source": []
  },
  {
   "cell_type": "code",
   "execution_count": null,
   "metadata": {},
   "outputs": [],
   "source": []
  },
  {
   "cell_type": "code",
   "execution_count": null,
   "metadata": {},
   "outputs": [],
   "source": []
  },
  {
   "cell_type": "code",
   "execution_count": null,
   "metadata": {},
   "outputs": [],
   "source": []
  },
  {
   "cell_type": "markdown",
   "metadata": {},
   "source": [
    "---------"
   ]
  },
  {
   "cell_type": "markdown",
   "metadata": {},
   "source": [
    "------"
   ]
  },
  {
   "cell_type": "markdown",
   "metadata": {},
   "source": [
    "Outliers: 7, 16, 17, 28, 37, 44, 42, 45."
   ]
  },
  {
   "cell_type": "code",
   "execution_count": 214,
   "metadata": {},
   "outputs": [
    {
     "data": {
      "text/html": [
       "&lt;Column name=&apos;prefix&apos; dtype=&apos;str19&apos; length=8&gt;\n",
       "<table>\n",
       "<tr><td>VFID1169-MESSIER109</td></tr>\n",
       "<tr><td>VFID1682-NGC3198</td></tr>\n",
       "<tr><td>VFID1754-NGC4051</td></tr>\n",
       "<tr><td>VFID3307-NGC4725</td></tr>\n",
       "<tr><td>VFID4531-MESSIER065</td></tr>\n",
       "<tr><td>VFID4909-MESSIER058</td></tr>\n",
       "<tr><td>VFID4957-MESSIER060</td></tr>\n",
       "<tr><td>VFID5423-NGC4535</td></tr>\n",
       "</table>"
      ],
      "text/plain": [
       "<Column name='prefix' dtype='str19' length=8>\n",
       "VFID1169-MESSIER109\n",
       "   VFID1682-NGC3198\n",
       "   VFID1754-NGC4051\n",
       "   VFID3307-NGC4725\n",
       "VFID4531-MESSIER065\n",
       "VFID4909-MESSIER058\n",
       "VFID4957-MESSIER060\n",
       "   VFID5423-NGC4535"
      ]
     },
     "execution_count": 214,
     "metadata": {},
     "output_type": "execute_result"
    }
   ],
   "source": [
    "outlier_flag = [7,16,17,28,37,42,44,45]\n",
    "gal_outliers = corrected_59[outlier_flag]\n",
    "gal_outliers['prefix']"
   ]
  },
  {
   "cell_type": "markdown",
   "metadata": {},
   "source": [
    "--------"
   ]
  },
  {
   "cell_type": "code",
   "execution_count": 11,
   "metadata": {},
   "outputs": [],
   "source": [
    "#a few terminal commands in a notebook!"
   ]
  },
  {
   "cell_type": "code",
   "execution_count": 219,
   "metadata": {},
   "outputs": [
    {
     "name": "stdout",
     "output_type": "stream",
     "text": [
      "/Users/k215c316/github/unwise_59_fixed\r\n"
     ]
    }
   ],
   "source": [
    "!pwd"
   ]
  },
  {
   "cell_type": "code",
   "execution_count": 220,
   "metadata": {},
   "outputs": [
    {
     "name": "stdout",
     "output_type": "stream",
     "text": [
      "\n",
      "GALFIT Version 3.0.5 -- Apr. 23, 2013\n",
      "\n",
      "Enter template file name: ^C\n"
     ]
    }
   ],
   "source": [
    "!galfit"
   ]
  },
  {
   "cell_type": "code",
   "execution_count": 221,
   "metadata": {},
   "outputs": [],
   "source": [
    "# !galfit filename (1Comp of two-object fit --> MESSIER060)"
   ]
  },
  {
   "cell_type": "markdown",
   "metadata": {},
   "source": [
    "--------------"
   ]
  },
  {
   "cell_type": "markdown",
   "metadata": {},
   "source": [
    "------------"
   ]
  },
  {
   "cell_type": "markdown",
   "metadata": {},
   "source": [
    "$\\frac{R_{e,100px} - R_{e,50px}}{R_{e,50px}}$"
   ]
  },
  {
   "cell_type": "code",
   "execution_count": 105,
   "metadata": {},
   "outputs": [
    {
     "data": {
      "text/plain": [
       "Text(-5, 42, 'Median:-0.01')"
      ]
     },
     "execution_count": 105,
     "metadata": {},
     "output_type": "execute_result"
    },
    {
     "data": {
      "image/png": "[encoded data removed]",
      "text/plain": [
       "<Figure size 720x576 with 1 Axes>"
      ]
     },
     "metadata": {
      "needs_background": "light"
     },
     "output_type": "display_data"
    }
   ],
   "source": [
    "#comparing 50px and 100px\n",
    "\n",
    "re_ratio = (corrected_57_100['re']-corrected_57_500['re'])/uncorrected_57_500['re']\n",
    "plt.figure(figsize=(10,8))\n",
    "plt.hist(re_ratio1,label='57/59 Galaxy Subsample')\n",
    "plt.xlabel(r'$\\Delta R_e /R_e$',fontsize=20)\n",
    "plt.ylabel('# Galaxies',fontsize=20)\n",
    "\n",
    "plt.legend(loc='upper left',fontsize=20)\n",
    "plt.title('Distribution of R_e (100px vs. 50px)',fontsize=25)\n",
    "plt.text(-5,45,'Mean: ' + str('%0.2f')%np.mean(re_ratio),fontsize=20)\n",
    "plt.text(-5,42,'Median:' +str('%0.2f')%np.median(re_ratio),fontsize=20)"
   ]
  },
  {
   "cell_type": "code",
   "execution_count": 88,
   "metadata": {},
   "outputs": [],
   "source": [
    "flag = np.where(re_ratio < -0.5)"
   ]
  },
  {
   "cell_type": "code",
   "execution_count": 89,
   "metadata": {},
   "outputs": [
    {
     "data": {
      "text/html": [
       "<i>Table length=3</i>\n",
       "<table id=\"table140688566103536\" class=\"table-striped table-bordered table-condensed\">\n",
       "<thead><tr><th>VFID</th><th>RA</th><th>DEC</th><th>vr</th><th>radius</th><th>radius_flag</th><th>objname</th><th>NSAID</th><th>NSAIDV0</th><th>AGC</th><th>NEDname</th><th>HLflag</th><th>NSAflag</th><th>NSAV0flag</th><th>A100flag</th><th>prefix</th><th>COflag</th><th>Z0MGSflag</th><th>Steerflag</th><th>unwiseflag</th></tr></thead>\n",
       "<thead><tr><th></th><th></th><th></th><th></th><th>arcsec</th><th></th><th></th><th></th><th></th><th></th><th></th><th></th><th></th><th></th><th></th><th></th><th></th><th></th><th></th><th></th></tr></thead>\n",
       "<thead><tr><th>bytes8</th><th>float32</th><th>float32</th><th>float32</th><th>float32</th><th>bool</th><th>bytes28</th><th>int32</th><th>int32</th><th>int64</th><th>bytes30</th><th>bool</th><th>bool</th><th>bool</th><th>bool</th><th>bytes38</th><th>bool</th><th>bool</th><th>bool</th><th>bool</th></tr></thead>\n",
       "<tr><td>VFID4651</td><td>186.44482</td><td>12.6621</td><td>2514.7</td><td>161.48094</td><td>True</td><td>NGC4388</td><td>326132</td><td>66736</td><td>7520</td><td>NGC 4388</td><td>True</td><td>True</td><td>True</td><td>True</td><td>VFID4651-NGC4388</td><td>False</td><td>True</td><td>True</td><td>True</td></tr>\n",
       "<tr><td>VFID4753</td><td>187.70636</td><td>12.390519</td><td>1283.1</td><td>213.36406</td><td>True</td><td>NGC4486</td><td>0</td><td>141541</td><td>0</td><td>MESSIER 087</td><td>True</td><td>False</td><td>True</td><td>False</td><td>VFID4753-MESSIER087</td><td>False</td><td>True</td><td>True</td><td>False</td></tr>\n",
       "<tr><td>VFID4957</td><td>190.9165</td><td>11.552707</td><td>1107.3</td><td>203.29245</td><td>True</td><td>NGC4649</td><td>0</td><td>142078</td><td>0</td><td>MESSIER 060</td><td>True</td><td>False</td><td>True</td><td>False</td><td>VFID4957-MESSIER060</td><td>False</td><td>True</td><td>True</td><td>False</td></tr>\n",
       "</table>"
      ],
      "text/plain": [
       "<Table length=3>\n",
       "  VFID       RA       DEC       vr   ... COflag Z0MGSflag Steerflag unwiseflag\n",
       "                                     ...                                      \n",
       " bytes8   float32   float32  float32 ...  bool     bool      bool      bool   \n",
       "-------- --------- --------- ------- ... ------ --------- --------- ----------\n",
       "VFID4651 186.44482   12.6621  2514.7 ...  False      True      True       True\n",
       "VFID4753 187.70636 12.390519  1283.1 ...  False      True      True      False\n",
       "VFID4957  190.9165 11.552707  1107.3 ...  False      True      True      False"
      ]
     },
     "execution_count": 89,
     "metadata": {},
     "output_type": "execute_result"
    }
   ],
   "source": [
    "vfmain[flag]"
   ]
  },
  {
   "cell_type": "code",
   "execution_count": 91,
   "metadata": {},
   "outputs": [
    {
     "data": {
      "text/html": [
       "&lt;Column name=&apos;re&apos; dtype=&apos;float64&apos; length=3&gt;\n",
       "<table>\n",
       "<tr><td>-0.5111648123161315</td></tr>\n",
       "<tr><td>-4.992637341891637</td></tr>\n",
       "<tr><td>-0.9288083647134675</td></tr>\n",
       "</table>"
      ],
      "text/plain": [
       "<Column name='re' dtype='float64' length=3>\n",
       "-0.5111648123161315\n",
       " -4.992637341891637\n",
       "-0.9288083647134675"
      ]
     },
     "execution_count": 91,
     "metadata": {},
     "output_type": "execute_result"
    }
   ],
   "source": [
    "re_ratio[flag]"
   ]
  },
  {
   "cell_type": "code",
   "execution_count": 106,
   "metadata": {},
   "outputs": [
    {
     "data": {
      "text/plain": [
       "Text(-2.5, 22, 'Median:-0.17')"
      ]
     },
     "execution_count": 106,
     "metadata": {},
     "output_type": "execute_result"
    },
    {
     "data": {
      "image/png": "[encoded data removed]",
      "text/plain": [
       "<Figure size 720x576 with 1 Axes>"
      ]
     },
     "metadata": {
      "needs_background": "light"
     },
     "output_type": "display_data"
    }
   ],
   "source": [
    "#comparing 50px and 100px\n",
    "\n",
    "deltamag = corrected_57_100['mag']-uncorrected_57_500['mag']\n",
    "plt.figure(figsize=(10,8))\n",
    "plt.hist(deltamag,label='57/59 Galaxy Subsample')\n",
    "plt.xlabel(r'$\\Delta mag$'+' (100px - 50px)',fontsize=20)\n",
    "plt.ylabel('# Galaxies',fontsize=20)\n",
    "\n",
    "plt.legend(loc='upper left',fontsize=20)\n",
    "plt.title('Distribution of Magnitude (100px vs. 50px)',fontsize=25)\n",
    "plt.text(-2.5,24,'Mean: ' + str('%0.2f')%np.mean(deltamag),fontsize=20)\n",
    "plt.text(-2.5,22,'Median:' +str('%0.2f')%np.median(deltamag),fontsize=20)"
   ]
  },
  {
   "cell_type": "code",
   "execution_count": 101,
   "metadata": {},
   "outputs": [],
   "source": [
    "flag = np.where(deltamag < -0.8)"
   ]
  },
  {
   "cell_type": "code",
   "execution_count": 102,
   "metadata": {},
   "outputs": [
    {
     "data": {
      "text/html": [
       "<i>Table length=2</i>\n",
       "<table id=\"table140688747609440\" class=\"table-striped table-bordered table-condensed\">\n",
       "<thead><tr><th>VFID</th><th>RA</th><th>DEC</th><th>vr</th><th>radius</th><th>radius_flag</th><th>objname</th><th>NSAID</th><th>NSAIDV0</th><th>AGC</th><th>NEDname</th><th>HLflag</th><th>NSAflag</th><th>NSAV0flag</th><th>A100flag</th><th>prefix</th><th>COflag</th><th>Z0MGSflag</th><th>Steerflag</th><th>unwiseflag</th></tr></thead>\n",
       "<thead><tr><th></th><th></th><th></th><th></th><th>arcsec</th><th></th><th></th><th></th><th></th><th></th><th></th><th></th><th></th><th></th><th></th><th></th><th></th><th></th><th></th><th></th></tr></thead>\n",
       "<thead><tr><th>bytes8</th><th>float32</th><th>float32</th><th>float32</th><th>float32</th><th>bool</th><th>bytes28</th><th>int32</th><th>int32</th><th>int64</th><th>bytes30</th><th>bool</th><th>bool</th><th>bool</th><th>bool</th><th>bytes38</th><th>bool</th><th>bool</th><th>bool</th><th>bool</th></tr></thead>\n",
       "<tr><td>VFID3253</td><td>189.0866</td><td>25.987522</td><td>1226.2</td><td>502.48285</td><td>True</td><td>NGC4565</td><td>0</td><td>141702</td><td>7772</td><td>NGC 4565</td><td>True</td><td>False</td><td>True</td><td>True</td><td>VFID3253-NGC4565</td><td>False</td><td>True</td><td>True</td><td>True</td></tr>\n",
       "<tr><td>VFID3855</td><td>185.30397</td><td>18.383</td><td>898.7</td><td>187.12045</td><td>True</td><td>NGC4293</td><td>538308</td><td>117777</td><td>7405</td><td>NGC 4293</td><td>True</td><td>True</td><td>True</td><td>True</td><td>VFID3855-NGC4293</td><td>False</td><td>True</td><td>True</td><td>True</td></tr>\n",
       "</table>"
      ],
      "text/plain": [
       "<Table length=2>\n",
       "  VFID       RA       DEC       vr   ... COflag Z0MGSflag Steerflag unwiseflag\n",
       "                                     ...                                      \n",
       " bytes8   float32   float32  float32 ...  bool     bool      bool      bool   \n",
       "-------- --------- --------- ------- ... ------ --------- --------- ----------\n",
       "VFID3253  189.0866 25.987522  1226.2 ...  False      True      True       True\n",
       "VFID3855 185.30397    18.383   898.7 ...  False      True      True       True"
      ]
     },
     "execution_count": 102,
     "metadata": {},
     "output_type": "execute_result"
    }
   ],
   "source": [
    "vfmain[flag]"
   ]
  },
  {
   "cell_type": "code",
   "execution_count": 103,
   "metadata": {},
   "outputs": [
    {
     "data": {
      "text/html": [
       "&lt;Column name=&apos;mag&apos; dtype=&apos;float64&apos; length=2&gt;\n",
       "<table>\n",
       "<tr><td>-2.4314999999999998</td></tr>\n",
       "<tr><td>-0.9224999999999999</td></tr>\n",
       "</table>"
      ],
      "text/plain": [
       "<Column name='mag' dtype='float64' length=2>\n",
       "-2.4314999999999998\n",
       "-0.9224999999999999"
      ]
     },
     "execution_count": 103,
     "metadata": {},
     "output_type": "execute_result"
    }
   ],
   "source": [
    "deltamag[flag]"
   ]
  },
  {
   "cell_type": "code",
   "execution_count": null,
   "metadata": {},
   "outputs": [],
   "source": []
  }
 ],
 "metadata": {
  "kernelspec": {
   "display_name": "Python 3",
   "language": "python",
   "name": "python3"
  },
  "language_info": {
   "codemirror_mode": {
    "name": "ipython",
    "version": 3
   },
   "file_extension": ".py",
   "mimetype": "text/x-python",
   "name": "python",
   "nbconvert_exporter": "python",
   "pygments_lexer": "ipython3",
   "version": "3.8.3"
  }
 },
 "nbformat": 4,
 "nbformat_minor": 4
}
