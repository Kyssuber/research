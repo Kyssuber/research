{
 "cells": [
  {
   "cell_type": "code",
   "execution_count": 36,
   "metadata": {},
   "outputs": [],
   "source": [
    "import numpy as np\n",
    "from matplotlib import pyplot as plt\n",
    "import os\n",
    "from astropy.table import Table\n",
    "from astropy.wcs import WCS\n",
    "\n",
    "from astropy.io import fits\n",
    "from astropy.table import Table\n",
    "from astropy.io import ascii"
   ]
  },
  {
   "cell_type": "code",
   "execution_count": 37,
   "metadata": {},
   "outputs": [],
   "source": [
    "homedir = os.getenv(\"HOME\")\n",
    "\n",
    "vfmain = Table.read(homedir+'/sample_main.fits')\n",
    "vfz0mgs = Table.read(homedir+'/sample_mgs.fits')"
   ]
  },
  {
   "cell_type": "code",
   "execution_count": 38,
   "metadata": {},
   "outputs": [],
   "source": [
    "def readfile(filename):                                      #function that converts that wonky string\n",
    "                                                             #output txt file to a usable set of lists\n",
    "                                                             #that I can manipulate with indices\n",
    "    \n",
    "    fileobj=open(filename,'r')                               #opens the file, of course\n",
    "    words=fileobj.read().splitlines()                        #splits the header and data into two lists\n",
    "    \n",
    "    header = words[0].split()                                #splits header, data arrays into elements\n",
    "    data = words[1].split()\n",
    "    \n",
    "    fileobj.close()\n",
    "    return header,data\n",
    "\n",
    "\n",
    "\n",
    "\n",
    "def readfile2(filename):                                     #alternative function, if galfit fails...\n",
    "                                                             #since galfit failing results in no data file,\n",
    "                                                             #it would be rather nonsensical to define\n",
    "                                                             #a data list.\n",
    "    fileobj=open(filename,'r')\n",
    "    words=fileobj.read().splitlines()\n",
    "    header = words[0].split()\n",
    "    fileobj.close()\n",
    "    return header\n",
    "    \n",
    "    \n",
    "#Here, I effectively create a function that loops through each galaxy element in the input sample.\n",
    "#Once galfit executes, the code then generates a text file consisting of a header and the data outputs\n",
    "#representing the modeling parameters. There are also two additional columns: the galaxy prefix, and a\n",
    "#sucess_flag, which marks whether galfit ran successfully per galaxy.\n",
    "    \n",
    "def run_galfit_all(galaxy_sample):\n",
    "    \n",
    "    os.chdir(homedir+'/github/WISE_test')\n",
    "    %run ~/github/virgowise/wisesize.py\n",
    "    \n",
    "    \n",
    "    \n",
    "    for n in range(0,len(galaxy_sample)):\n",
    "        \n",
    "        try:\n",
    "            g = galaxy(galaxy_sample['RA'][n], galaxy_sample['DEC'][n],\n",
    "                      galaxy_sample['radius'][n], name = galaxy_sample['prefix'][n], band='3')\n",
    "            print(galaxy_sample['prefix'][n])\n",
    "            g.run_simple(convflag=False)\n",
    "            \n",
    "            t = homedir+'/github/WISE_test/'+galaxy_sample[n]['prefix']+'-unwise-w3-log.txt'\n",
    "            header,data = readfile(t)\n",
    "            header.pop(0)                                    #removes the pound_sign from the array\n",
    "            header.append('prefix')\n",
    "            header.append('success_flag')\n",
    "            \n",
    "            for i in range(0,len(data)):\n",
    "                data[i] = float(data[i])\n",
    "            data.append(galaxy_sample[n]['prefix'])\n",
    "            data.append(1)                                   #success_flag value of one\n",
    "            \n",
    "            if n == 0:                                       #if the galaxy is the first entry, then\n",
    "                file_test = [header,data]                    #append to the list both the header & data lists\n",
    "                file_plots = [header,data]                   #append to list for corner plots\n",
    "                \n",
    "            else:\n",
    "                file_test2 = [header,data]                   #otherwise, only include the data list\n",
    "                file_test.append(file_test2[1])\n",
    "                file_plots.append(file_test2[1])\n",
    "                    \n",
    "        except:\n",
    "            \n",
    "            t = homedir+'/github/WISE_test/'+galaxy_sample[n]['prefix']+'-unwise-w3-log.txt'\n",
    "            header = readfile2(t)\n",
    "            header.pop(0)                                    #removes the pound_sign from the array\n",
    "            header.append('prefix')\n",
    "            header.append('success_flag')\n",
    "            \n",
    "            data = []\n",
    "            for num in range(0,len(header)-2):\n",
    "                data.append(-999)\n",
    "            data.append(galaxy_sample[n]['prefix'])\n",
    "            data.append(0)                                   #success_flag value of zero\n",
    "               \n",
    "            file_test2 = [header,data]\n",
    "            file_test.append(file_test2[1])\n",
    "\n",
    "            \n",
    "            print(galaxy_sample['prefix'][n], ' ' , 'was unsuccessful.')\n",
    "            continue\n",
    "        \n",
    "    data_array = np.array(file_test)\n",
    "    data_array_plots = np.array(file_plots)\n",
    "    np.savetxt(\"testest2.txt\",data_array,fmt=\"%s\")\n",
    "    np.savetxt(\"testest2_plots.txt\",data_array_plots,fmt=\"%s\")"
   ]
  },
  {
   "cell_type": "markdown",
   "metadata": {},
   "source": []
  },
  {
   "cell_type": "code",
   "execution_count": 40,
   "metadata": {
    "scrolled": true
   },
   "outputs": [
    {
     "data": {
      "text/html": [
       "<i>Table length=59</i>\n",
       "<table id=\"table140660769135536\" class=\"table-striped table-bordered table-condensed\">\n",
       "<thead><tr><th>xc</th><th>xc_err</th><th>yc</th><th>yc_err</th><th>mag</th><th>mag_err</th><th>re</th><th>re_err</th><th>nsersic</th><th>nsrsic_err</th><th>BA</th><th>BA_err</th><th>PA</th><th>PA_err</th><th>sky</th><th>sky_err</th><th>error</th><th>chi2nu</th><th>prefix</th><th>success_flag</th></tr></thead>\n",
       "<thead><tr><th>float64</th><th>float64</th><th>float64</th><th>float64</th><th>float64</th><th>float64</th><th>float64</th><th>float64</th><th>float64</th><th>float64</th><th>float64</th><th>float64</th><th>float64</th><th>float64</th><th>float64</th><th>float64</th><th>float64</th><th>float64</th><th>str19</th><th>int64</th></tr></thead>\n",
       "<tr><td>175.3109</td><td>0.0111</td><td>174.8707</td><td>0.0189</td><td>4.8494</td><td>0.0011</td><td>17.237</td><td>0.0234</td><td>0.3845</td><td>0.0013</td><td>0.4705</td><td>0.0006</td><td>30.7007</td><td>0.0672</td><td>-5.0654</td><td>0.9446</td><td>0.0</td><td>3.4527</td><td>VFID0388-NGC6015</td><td>1</td></tr>\n",
       "<tr><td>180.2237</td><td>0.0114</td><td>179.2617</td><td>0.0093</td><td>6.4258</td><td>0.0152</td><td>11.0092</td><td>0.2344</td><td>2.458</td><td>0.0328</td><td>0.9349</td><td>0.0071</td><td>-13.1859</td><td>4.4584</td><td>-62.2269</td><td>1.141</td><td>0.0</td><td>1.0938</td><td>VFID0484-NGC3945</td><td>1</td></tr>\n",
       "<tr><td>168.6167</td><td>0.0087</td><td>169.1971</td><td>0.0075</td><td>6.6111</td><td>0.0087</td><td>7.4944</td><td>0.0924</td><td>1.9954</td><td>0.0186</td><td>0.8314</td><td>0.0047</td><td>87.1794</td><td>1.112</td><td>-11.8236</td><td>0.9699</td><td>0.0</td><td>1.2262</td><td>VFID0525-NGC5322</td><td>1</td></tr>\n",
       "<tr><td>170.5771</td><td>0.0154</td><td>170.4544</td><td>0.012</td><td>6.5457</td><td>0.0134</td><td>9.9726</td><td>0.1871</td><td>2.016</td><td>0.0268</td><td>0.7574</td><td>0.0062</td><td>-87.4048</td><td>1.0849</td><td>-17.2861</td><td>1.2849</td><td>0.0</td><td>1.4051</td><td>VFID0547-NGC2768</td><td>1</td></tr>\n",
       "<tr><td>338.7939</td><td>0.0066</td><td>337.7264</td><td>0.0143</td><td>3.394</td><td>0.0004</td><td>38.0683</td><td>0.0214</td><td>0.6033</td><td>0.0007</td><td>0.0965</td><td>0.0</td><td>-24.7751</td><td>0.004</td><td>11.9695</td><td>0.5393</td><td>1.0</td><td>2.0628</td><td>VFID0934-NGC5907</td><td>1</td></tr>\n",
       "<tr><td>189.5989</td><td>0.0079</td><td>190.6553</td><td>0.0055</td><td>5.4851</td><td>0.0013</td><td>8.4349</td><td>0.0154</td><td>0.777</td><td>0.0028</td><td>0.3261</td><td>0.0005</td><td>-54.4628</td><td>0.0439</td><td>3.7732</td><td>0.918</td><td>0.0</td><td>1.7804</td><td>VFID0974-NGC5866</td><td>1</td></tr>\n",
       "<tr><td>263.8745</td><td>0.0028</td><td>262.3273</td><td>0.0116</td><td>3.3039</td><td>0.0009</td><td>17.7386</td><td>0.0227</td><td>0.9567</td><td>0.003</td><td>0.2024</td><td>0.0002</td><td>-11.9891</td><td>0.0154</td><td>12.082</td><td>1.6175</td><td>0.0</td><td>4.9164</td><td>VFID0983-NGC3079</td><td>1</td></tr>\n",
       "<tr><td>213.6396</td><td>0.1069</td><td>213.3482</td><td>0.059</td><td>4.943</td><td>0.0045</td><td>38.0128</td><td>0.1017</td><td>0.0915</td><td>0.002</td><td>0.5439</td><td>0.0018</td><td>68.6517</td><td>0.1861</td><td>21.7311</td><td>1.2065</td><td>0.0</td><td>1.8424</td><td>VFID1169-MESSIER109</td><td>1</td></tr>\n",
       "<tr><td>197.6238</td><td>0.0193</td><td>193.3163</td><td>0.0457</td><td>4.0849</td><td>0.0016</td><td>31.1593</td><td>0.0444</td><td>0.2512</td><td>0.0011</td><td>0.4238</td><td>0.0007</td><td>12.7613</td><td>0.0632</td><td>25.1176</td><td>1.3942</td><td>0.0</td><td>2.0217</td><td>VFID1215-NGC3953</td><td>1</td></tr>\n",
       "<tr><td>208.4896</td><td>0.0405</td><td>208.7499</td><td>0.0706</td><td>4.1295</td><td>0.0023</td><td>36.7371</td><td>0.0796</td><td>0.2976</td><td>0.0018</td><td>0.3329</td><td>0.0008</td><td>-29.869</td><td>0.0702</td><td>-35.7639</td><td>1.5876</td><td>0.0</td><td>2.5652</td><td>VFID1278-NGC2841</td><td>1</td></tr>\n",
       "<tr><td>...</td><td>...</td><td>...</td><td>...</td><td>...</td><td>...</td><td>...</td><td>...</td><td>...</td><td>...</td><td>...</td><td>...</td><td>...</td><td>...</td><td>...</td><td>...</td><td>...</td><td>...</td><td>...</td><td>...</td></tr>\n",
       "<tr><td>152.6431</td><td>0.0148</td><td>155.6052</td><td>0.0135</td><td>6.5125</td><td>0.0116</td><td>8.5183</td><td>0.1355</td><td>1.538</td><td>0.0178</td><td>0.8005</td><td>0.0055</td><td>42.5886</td><td>1.4886</td><td>-20.2423</td><td>1.7193</td><td>0.0</td><td>1.3168</td><td>VFID5565-NGC4365</td><td>1</td></tr>\n",
       "<tr><td>203.9591</td><td>0.0204</td><td>208.354</td><td>0.0275</td><td>3.0065</td><td>0.0017</td><td>20.5746</td><td>0.0271</td><td>0.204</td><td>0.0011</td><td>0.747</td><td>0.0012</td><td>26.0443</td><td>0.1981</td><td>1.1516</td><td>3.8441</td><td>0.0</td><td>10.3306</td><td>VFID6014-MESSIER061</td><td>1</td></tr>\n",
       "<tr><td>168.8438</td><td>0.0207</td><td>170.3902</td><td>0.0254</td><td>5.5072</td><td>0.0093</td><td>11.9532</td><td>0.1513</td><td>1.5223</td><td>0.0149</td><td>0.773</td><td>0.0049</td><td>9.6492</td><td>1.0278</td><td>-4.1128</td><td>2.5301</td><td>0.0</td><td>6.3902</td><td>VFID6088-NGC5566</td><td>1</td></tr>\n",
       "<tr><td>189.3449</td><td>0.0267</td><td>188.9452</td><td>0.0101</td><td>3.2177</td><td>0.0016</td><td>24.9456</td><td>0.0615</td><td>0.923</td><td>0.0047</td><td>0.2544</td><td>0.0004</td><td>69.8172</td><td>0.0392</td><td>-56.3527</td><td>3.5897</td><td>0.0</td><td>8.3965</td><td>VFID6276-NGC4527</td><td>1</td></tr>\n",
       "<tr><td>223.6934</td><td>0.0033</td><td>225.1446</td><td>0.0038</td><td>3.8083</td><td>0.0012</td><td>4.2023</td><td>0.0095</td><td>2.4861</td><td>0.0081</td><td>0.8742</td><td>0.0011</td><td>-63.9414</td><td>0.383</td><td>-22.7315</td><td>1.5027</td><td>0.0</td><td>1.9456</td><td>VFID6346-NGC4536</td><td>1</td></tr>\n",
       "<tr><td>217.5454</td><td>0.0125</td><td>219.4071</td><td>0.0696</td><td>4.795</td><td>0.0016</td><td>34.2961</td><td>0.0766</td><td>0.4025</td><td>0.0023</td><td>0.1124</td><td>0.0002</td><td>-10.1859</td><td>0.0205</td><td>9.463</td><td>1.303</td><td>0.0</td><td>2.9955</td><td>VFID6403-NGC5746</td><td>1</td></tr>\n",
       "<tr><td>173.514</td><td>0.0036</td><td>173.4016</td><td>0.0029</td><td>5.1605</td><td>0.0015</td><td>3.5215</td><td>0.0074</td><td>1.2186</td><td>0.0041</td><td>0.7355</td><td>0.0013</td><td>76.6141</td><td>0.2129</td><td>33.8942</td><td>1.5474</td><td>0.0</td><td>1.2064</td><td>VFID6497-NGC4845</td><td>1</td></tr>\n",
       "<tr><td>281.7037</td><td>0.0592</td><td>287.0419</td><td>0.0073</td><td>4.16</td><td>0.0012</td><td>43.3106</td><td>0.0678</td><td>0.4427</td><td>0.0016</td><td>0.1035</td><td>0.0002</td><td>83.0236</td><td>0.0132</td><td>-24.3574</td><td>1.0473</td><td>0.0</td><td>1.4788</td><td>VFID6692-NGC4517</td><td>1</td></tr>\n",
       "<tr><td>251.1052</td><td>0.0055</td><td>248.7454</td><td>0.0129</td><td>2.2684</td><td>0.0005</td><td>25.6316</td><td>0.0159</td><td>0.4766</td><td>0.0007</td><td>0.4036</td><td>0.0002</td><td>-17.7391</td><td>0.0238</td><td>37.9014</td><td>1.8374</td><td>0.0</td><td>4.1706</td><td>VFID6719-NGC3521</td><td>1</td></tr>\n",
       "<tr><td>194.0944</td><td>0.0096</td><td>194.7365</td><td>0.0049</td><td>5.2983</td><td>0.0027</td><td>6.9646</td><td>0.0267</td><td>1.2348</td><td>0.0057</td><td>0.5562</td><td>0.0011</td><td>-87.4328</td><td>0.1568</td><td>31.2488</td><td>1.4713</td><td>0.0</td><td>1.5851</td><td>VFID6848-NGC4753</td><td>1</td></tr>\n",
       "</table>"
      ],
      "text/plain": [
       "<Table length=59>\n",
       "   xc     xc_err    yc     yc_err ...  chi2nu        prefix       success_flag\n",
       "float64  float64 float64  float64 ... float64        str19           int64    \n",
       "-------- ------- -------- ------- ... ------- ------------------- ------------\n",
       "175.3109  0.0111 174.8707  0.0189 ...  3.4527    VFID0388-NGC6015            1\n",
       "180.2237  0.0114 179.2617  0.0093 ...  1.0938    VFID0484-NGC3945            1\n",
       "168.6167  0.0087 169.1971  0.0075 ...  1.2262    VFID0525-NGC5322            1\n",
       "170.5771  0.0154 170.4544   0.012 ...  1.4051    VFID0547-NGC2768            1\n",
       "338.7939  0.0066 337.7264  0.0143 ...  2.0628    VFID0934-NGC5907            1\n",
       "189.5989  0.0079 190.6553  0.0055 ...  1.7804    VFID0974-NGC5866            1\n",
       "263.8745  0.0028 262.3273  0.0116 ...  4.9164    VFID0983-NGC3079            1\n",
       "213.6396  0.1069 213.3482   0.059 ...  1.8424 VFID1169-MESSIER109            1\n",
       "197.6238  0.0193 193.3163  0.0457 ...  2.0217    VFID1215-NGC3953            1\n",
       "208.4896  0.0405 208.7499  0.0706 ...  2.5652    VFID1278-NGC2841            1\n",
       "     ...     ...      ...     ... ...     ...                 ...          ...\n",
       "152.6431  0.0148 155.6052  0.0135 ...  1.3168    VFID5565-NGC4365            1\n",
       "203.9591  0.0204  208.354  0.0275 ... 10.3306 VFID6014-MESSIER061            1\n",
       "168.8438  0.0207 170.3902  0.0254 ...  6.3902    VFID6088-NGC5566            1\n",
       "189.3449  0.0267 188.9452  0.0101 ...  8.3965    VFID6276-NGC4527            1\n",
       "223.6934  0.0033 225.1446  0.0038 ...  1.9456    VFID6346-NGC4536            1\n",
       "217.5454  0.0125 219.4071  0.0696 ...  2.9955    VFID6403-NGC5746            1\n",
       " 173.514  0.0036 173.4016  0.0029 ...  1.2064    VFID6497-NGC4845            1\n",
       "281.7037  0.0592 287.0419  0.0073 ...  1.4788    VFID6692-NGC4517            1\n",
       "251.1052  0.0055 248.7454  0.0129 ...  4.1706    VFID6719-NGC3521            1\n",
       "194.0944  0.0096 194.7365  0.0049 ...  1.5851    VFID6848-NGC4753            1"
      ]
     },
     "execution_count": 40,
     "metadata": {},
     "output_type": "execute_result"
    }
   ],
   "source": [
    "tab = ascii.read(\"testest2.txt\")\n",
    "tab"
   ]
  },
  {
   "cell_type": "code",
   "execution_count": 41,
   "metadata": {},
   "outputs": [
    {
     "data": {
      "text/html": [
       "<i>Row index=24</i>\n",
       "<table id=\"table140660769135536\">\n",
       "<thead><tr><th>xc</th><th>xc_err</th><th>yc</th><th>yc_err</th><th>mag</th><th>mag_err</th><th>re</th><th>re_err</th><th>nsersic</th><th>nsrsic_err</th><th>BA</th><th>BA_err</th><th>PA</th><th>PA_err</th><th>sky</th><th>sky_err</th><th>error</th><th>chi2nu</th><th>prefix</th><th>success_flag</th></tr></thead>\n",
       "<thead><tr><th>float64</th><th>float64</th><th>float64</th><th>float64</th><th>float64</th><th>float64</th><th>float64</th><th>float64</th><th>float64</th><th>float64</th><th>float64</th><th>float64</th><th>float64</th><th>float64</th><th>float64</th><th>float64</th><th>float64</th><th>float64</th><th>str19</th><th>int64</th></tr></thead>\n",
       "<tr><td>-999.0</td><td>-999.0</td><td>-999.0</td><td>-999.0</td><td>-999.0</td><td>-999.0</td><td>-999.0</td><td>-999.0</td><td>-999.0</td><td>-999.0</td><td>-999.0</td><td>-999.0</td><td>-999.0</td><td>-999.0</td><td>-999.0</td><td>-999.0</td><td>-999.0</td><td>-999.0</td><td>VFID2713-NGC4631</td><td>0</td></tr>\n",
       "</table>"
      ],
      "text/plain": [
       "<Row index=24>\n",
       "   xc    xc_err    yc    yc_err   mag   mag_err    re    re_err nsersic nsrsic_err    BA    BA_err    PA    PA_err   sky   sky_err  error   chi2nu      prefix      success_flag\n",
       "float64 float64 float64 float64 float64 float64 float64 float64 float64  float64   float64 float64 float64 float64 float64 float64 float64 float64      str19          int64    \n",
       "------- ------- ------- ------- ------- ------- ------- ------- ------- ---------- ------- ------- ------- ------- ------- ------- ------- ------- ---------------- ------------\n",
       " -999.0  -999.0  -999.0  -999.0  -999.0  -999.0  -999.0  -999.0  -999.0     -999.0  -999.0  -999.0  -999.0  -999.0  -999.0  -999.0  -999.0  -999.0 VFID2713-NGC4631            0"
      ]
     },
     "execution_count": 41,
     "metadata": {},
     "output_type": "execute_result"
    }
   ],
   "source": [
    "tab[24]"
   ]
  },
  {
   "cell_type": "code",
   "execution_count": 42,
   "metadata": {},
   "outputs": [
    {
     "name": "stdout",
     "output_type": "stream",
     "text": [
      "24\n"
     ]
    }
   ],
   "source": [
    "#galaxy index for which the output text file data is nonexistent.\n",
    "\n",
    "for i in range(0,len(vfmain)):\n",
    "    if vfmain[i]['prefix'] == 'VFID2713-NGC4631':\n",
    "        print(i)"
   ]
  },
  {
   "cell_type": "markdown",
   "metadata": {},
   "source": [
    "THE CULPRIT: VFID2713-NGC4631.\n",
    "\n",
    "VFMAIN[24]"
   ]
  },
  {
   "cell_type": "code",
   "execution_count": 43,
   "metadata": {},
   "outputs": [],
   "source": [
    "#second table for plotting purposes (see \"secsic_profile_exercises\" notebook)\n",
    "tab2 = ascii.read(\"testest2_plots.txt\")"
   ]
  },
  {
   "cell_type": "code",
   "execution_count": 44,
   "metadata": {
    "scrolled": true
   },
   "outputs": [
    {
     "data": {
      "text/html": [
       "<i>Table length=57</i>\n",
       "<table id=\"table140661115021824\" class=\"table-striped table-bordered table-condensed\">\n",
       "<thead><tr><th>xc</th><th>xc_err</th><th>yc</th><th>yc_err</th><th>mag</th><th>mag_err</th><th>re</th><th>re_err</th><th>nsersic</th><th>nsrsic_err</th><th>BA</th><th>BA_err</th><th>PA</th><th>PA_err</th><th>sky</th><th>sky_err</th><th>error</th><th>chi2nu</th><th>prefix</th><th>success_flag</th></tr></thead>\n",
       "<thead><tr><th>float64</th><th>float64</th><th>float64</th><th>float64</th><th>float64</th><th>float64</th><th>float64</th><th>float64</th><th>float64</th><th>float64</th><th>float64</th><th>float64</th><th>float64</th><th>float64</th><th>float64</th><th>float64</th><th>float64</th><th>float64</th><th>str19</th><th>int64</th></tr></thead>\n",
       "<tr><td>175.3109</td><td>0.0111</td><td>174.8707</td><td>0.0189</td><td>4.8494</td><td>0.0011</td><td>17.237</td><td>0.0234</td><td>0.3845</td><td>0.0013</td><td>0.4705</td><td>0.0006</td><td>30.7007</td><td>0.0672</td><td>-5.0654</td><td>0.9446</td><td>0.0</td><td>3.4527</td><td>VFID0388-NGC6015</td><td>1</td></tr>\n",
       "<tr><td>180.2237</td><td>0.0114</td><td>179.2617</td><td>0.0093</td><td>6.4258</td><td>0.0152</td><td>11.0092</td><td>0.2344</td><td>2.458</td><td>0.0328</td><td>0.9349</td><td>0.0071</td><td>-13.1859</td><td>4.4584</td><td>-62.2269</td><td>1.141</td><td>0.0</td><td>1.0938</td><td>VFID0484-NGC3945</td><td>1</td></tr>\n",
       "<tr><td>168.6167</td><td>0.0087</td><td>169.1971</td><td>0.0075</td><td>6.6111</td><td>0.0087</td><td>7.4944</td><td>0.0924</td><td>1.9954</td><td>0.0186</td><td>0.8314</td><td>0.0047</td><td>87.1794</td><td>1.112</td><td>-11.8236</td><td>0.9699</td><td>0.0</td><td>1.2262</td><td>VFID0525-NGC5322</td><td>1</td></tr>\n",
       "<tr><td>170.5771</td><td>0.0154</td><td>170.4544</td><td>0.012</td><td>6.5457</td><td>0.0134</td><td>9.9726</td><td>0.1871</td><td>2.016</td><td>0.0268</td><td>0.7574</td><td>0.0062</td><td>-87.4048</td><td>1.0849</td><td>-17.2861</td><td>1.2849</td><td>0.0</td><td>1.4051</td><td>VFID0547-NGC2768</td><td>1</td></tr>\n",
       "<tr><td>338.7939</td><td>0.0066</td><td>337.7264</td><td>0.0143</td><td>3.394</td><td>0.0004</td><td>38.0683</td><td>0.0214</td><td>0.6033</td><td>0.0007</td><td>0.0965</td><td>0.0</td><td>-24.7751</td><td>0.004</td><td>11.9695</td><td>0.5393</td><td>1.0</td><td>2.0628</td><td>VFID0934-NGC5907</td><td>1</td></tr>\n",
       "<tr><td>189.5989</td><td>0.0079</td><td>190.6553</td><td>0.0055</td><td>5.4851</td><td>0.0013</td><td>8.4349</td><td>0.0154</td><td>0.777</td><td>0.0028</td><td>0.3261</td><td>0.0005</td><td>-54.4628</td><td>0.0439</td><td>3.7732</td><td>0.918</td><td>0.0</td><td>1.7804</td><td>VFID0974-NGC5866</td><td>1</td></tr>\n",
       "<tr><td>263.8745</td><td>0.0028</td><td>262.3273</td><td>0.0116</td><td>3.3039</td><td>0.0009</td><td>17.7386</td><td>0.0227</td><td>0.9567</td><td>0.003</td><td>0.2024</td><td>0.0002</td><td>-11.9891</td><td>0.0154</td><td>12.082</td><td>1.6175</td><td>0.0</td><td>4.9164</td><td>VFID0983-NGC3079</td><td>1</td></tr>\n",
       "<tr><td>213.6396</td><td>0.1069</td><td>213.3482</td><td>0.059</td><td>4.943</td><td>0.0045</td><td>38.0128</td><td>0.1017</td><td>0.0915</td><td>0.002</td><td>0.5439</td><td>0.0018</td><td>68.6517</td><td>0.1861</td><td>21.7311</td><td>1.2065</td><td>0.0</td><td>1.8424</td><td>VFID1169-MESSIER109</td><td>1</td></tr>\n",
       "<tr><td>197.6238</td><td>0.0193</td><td>193.3163</td><td>0.0457</td><td>4.0849</td><td>0.0016</td><td>31.1593</td><td>0.0444</td><td>0.2512</td><td>0.0011</td><td>0.4238</td><td>0.0007</td><td>12.7613</td><td>0.0632</td><td>25.1176</td><td>1.3942</td><td>0.0</td><td>2.0217</td><td>VFID1215-NGC3953</td><td>1</td></tr>\n",
       "<tr><td>208.4896</td><td>0.0405</td><td>208.7499</td><td>0.0706</td><td>4.1295</td><td>0.0023</td><td>36.7371</td><td>0.0796</td><td>0.2976</td><td>0.0018</td><td>0.3329</td><td>0.0008</td><td>-29.869</td><td>0.0702</td><td>-35.7639</td><td>1.5876</td><td>0.0</td><td>2.5652</td><td>VFID1278-NGC2841</td><td>1</td></tr>\n",
       "<tr><td>...</td><td>...</td><td>...</td><td>...</td><td>...</td><td>...</td><td>...</td><td>...</td><td>...</td><td>...</td><td>...</td><td>...</td><td>...</td><td>...</td><td>...</td><td>...</td><td>...</td><td>...</td><td>...</td><td>...</td></tr>\n",
       "<tr><td>152.6431</td><td>0.0148</td><td>155.6052</td><td>0.0135</td><td>6.5125</td><td>0.0116</td><td>8.5183</td><td>0.1355</td><td>1.538</td><td>0.0178</td><td>0.8005</td><td>0.0055</td><td>42.5886</td><td>1.4886</td><td>-20.2423</td><td>1.7193</td><td>0.0</td><td>1.3168</td><td>VFID5565-NGC4365</td><td>1</td></tr>\n",
       "<tr><td>203.9591</td><td>0.0204</td><td>208.354</td><td>0.0275</td><td>3.0065</td><td>0.0017</td><td>20.5746</td><td>0.0271</td><td>0.204</td><td>0.0011</td><td>0.747</td><td>0.0012</td><td>26.0443</td><td>0.1981</td><td>1.1516</td><td>3.8441</td><td>0.0</td><td>10.3306</td><td>VFID6014-MESSIER061</td><td>1</td></tr>\n",
       "<tr><td>168.8438</td><td>0.0207</td><td>170.3902</td><td>0.0254</td><td>5.5072</td><td>0.0093</td><td>11.9532</td><td>0.1513</td><td>1.5223</td><td>0.0149</td><td>0.773</td><td>0.0049</td><td>9.6492</td><td>1.0278</td><td>-4.1128</td><td>2.5301</td><td>0.0</td><td>6.3902</td><td>VFID6088-NGC5566</td><td>1</td></tr>\n",
       "<tr><td>189.3449</td><td>0.0267</td><td>188.9452</td><td>0.0101</td><td>3.2177</td><td>0.0016</td><td>24.9456</td><td>0.0615</td><td>0.923</td><td>0.0047</td><td>0.2544</td><td>0.0004</td><td>69.8172</td><td>0.0392</td><td>-56.3527</td><td>3.5897</td><td>0.0</td><td>8.3965</td><td>VFID6276-NGC4527</td><td>1</td></tr>\n",
       "<tr><td>223.6934</td><td>0.0033</td><td>225.1446</td><td>0.0038</td><td>3.8083</td><td>0.0012</td><td>4.2023</td><td>0.0095</td><td>2.4861</td><td>0.0081</td><td>0.8742</td><td>0.0011</td><td>-63.9414</td><td>0.383</td><td>-22.7315</td><td>1.5027</td><td>0.0</td><td>1.9456</td><td>VFID6346-NGC4536</td><td>1</td></tr>\n",
       "<tr><td>217.5454</td><td>0.0125</td><td>219.4071</td><td>0.0696</td><td>4.795</td><td>0.0016</td><td>34.2961</td><td>0.0766</td><td>0.4025</td><td>0.0023</td><td>0.1124</td><td>0.0002</td><td>-10.1859</td><td>0.0205</td><td>9.463</td><td>1.303</td><td>0.0</td><td>2.9955</td><td>VFID6403-NGC5746</td><td>1</td></tr>\n",
       "<tr><td>173.514</td><td>0.0036</td><td>173.4016</td><td>0.0029</td><td>5.1605</td><td>0.0015</td><td>3.5215</td><td>0.0074</td><td>1.2186</td><td>0.0041</td><td>0.7355</td><td>0.0013</td><td>76.6141</td><td>0.2129</td><td>33.8942</td><td>1.5474</td><td>0.0</td><td>1.2064</td><td>VFID6497-NGC4845</td><td>1</td></tr>\n",
       "<tr><td>281.7037</td><td>0.0592</td><td>287.0419</td><td>0.0073</td><td>4.16</td><td>0.0012</td><td>43.3106</td><td>0.0678</td><td>0.4427</td><td>0.0016</td><td>0.1035</td><td>0.0002</td><td>83.0236</td><td>0.0132</td><td>-24.3574</td><td>1.0473</td><td>0.0</td><td>1.4788</td><td>VFID6692-NGC4517</td><td>1</td></tr>\n",
       "<tr><td>251.1052</td><td>0.0055</td><td>248.7454</td><td>0.0129</td><td>2.2684</td><td>0.0005</td><td>25.6316</td><td>0.0159</td><td>0.4766</td><td>0.0007</td><td>0.4036</td><td>0.0002</td><td>-17.7391</td><td>0.0238</td><td>37.9014</td><td>1.8374</td><td>0.0</td><td>4.1706</td><td>VFID6719-NGC3521</td><td>1</td></tr>\n",
       "<tr><td>194.0944</td><td>0.0096</td><td>194.7365</td><td>0.0049</td><td>5.2983</td><td>0.0027</td><td>6.9646</td><td>0.0267</td><td>1.2348</td><td>0.0057</td><td>0.5562</td><td>0.0011</td><td>-87.4328</td><td>0.1568</td><td>31.2488</td><td>1.4713</td><td>0.0</td><td>1.5851</td><td>VFID6848-NGC4753</td><td>1</td></tr>\n",
       "</table>"
      ],
      "text/plain": [
       "<Table length=57>\n",
       "   xc     xc_err    yc     yc_err ...  chi2nu        prefix       success_flag\n",
       "float64  float64 float64  float64 ... float64        str19           int64    \n",
       "-------- ------- -------- ------- ... ------- ------------------- ------------\n",
       "175.3109  0.0111 174.8707  0.0189 ...  3.4527    VFID0388-NGC6015            1\n",
       "180.2237  0.0114 179.2617  0.0093 ...  1.0938    VFID0484-NGC3945            1\n",
       "168.6167  0.0087 169.1971  0.0075 ...  1.2262    VFID0525-NGC5322            1\n",
       "170.5771  0.0154 170.4544   0.012 ...  1.4051    VFID0547-NGC2768            1\n",
       "338.7939  0.0066 337.7264  0.0143 ...  2.0628    VFID0934-NGC5907            1\n",
       "189.5989  0.0079 190.6553  0.0055 ...  1.7804    VFID0974-NGC5866            1\n",
       "263.8745  0.0028 262.3273  0.0116 ...  4.9164    VFID0983-NGC3079            1\n",
       "213.6396  0.1069 213.3482   0.059 ...  1.8424 VFID1169-MESSIER109            1\n",
       "197.6238  0.0193 193.3163  0.0457 ...  2.0217    VFID1215-NGC3953            1\n",
       "208.4896  0.0405 208.7499  0.0706 ...  2.5652    VFID1278-NGC2841            1\n",
       "     ...     ...      ...     ... ...     ...                 ...          ...\n",
       "152.6431  0.0148 155.6052  0.0135 ...  1.3168    VFID5565-NGC4365            1\n",
       "203.9591  0.0204  208.354  0.0275 ... 10.3306 VFID6014-MESSIER061            1\n",
       "168.8438  0.0207 170.3902  0.0254 ...  6.3902    VFID6088-NGC5566            1\n",
       "189.3449  0.0267 188.9452  0.0101 ...  8.3965    VFID6276-NGC4527            1\n",
       "223.6934  0.0033 225.1446  0.0038 ...  1.9456    VFID6346-NGC4536            1\n",
       "217.5454  0.0125 219.4071  0.0696 ...  2.9955    VFID6403-NGC5746            1\n",
       " 173.514  0.0036 173.4016  0.0029 ...  1.2064    VFID6497-NGC4845            1\n",
       "281.7037  0.0592 287.0419  0.0073 ...  1.4788    VFID6692-NGC4517            1\n",
       "251.1052  0.0055 248.7454  0.0129 ...  4.1706    VFID6719-NGC3521            1\n",
       "194.0944  0.0096 194.7365  0.0049 ...  1.5851    VFID6848-NGC4753            1"
      ]
     },
     "execution_count": 44,
     "metadata": {},
     "output_type": "execute_result"
    }
   ],
   "source": [
    "tab2"
   ]
  },
  {
   "cell_type": "code",
   "execution_count": null,
   "metadata": {},
   "outputs": [],
   "source": []
  }
 ],
 "metadata": {
  "kernelspec": {
   "display_name": "Python 3",
   "language": "python",
   "name": "python3"
  },
  "language_info": {
   "codemirror_mode": {
    "name": "ipython",
    "version": 3
   },
   "file_extension": ".py",
   "mimetype": "text/x-python",
   "name": "python",
   "nbconvert_exporter": "python",
   "pygments_lexer": "ipython3",
   "version": "3.8.3"
  }
 },
 "nbformat": 4,
 "nbformat_minor": 4
}
