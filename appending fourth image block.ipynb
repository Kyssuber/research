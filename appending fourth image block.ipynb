{
 "cells": [
  {
   "cell_type": "code",
   "execution_count": 2,
   "id": "f44cbb44",
   "metadata": {},
   "outputs": [],
   "source": [
    "#appending fourth image block to galfit output mosaic (contains residual with same flux stretch as that of\n",
    "#the WISE signal -- data -- image)\n",
    "import os\n",
    "import numpy as np\n",
    "from astropy.io import fits\n",
    "from astropy.visualization import simple_norm\n",
    "from astropy.wcs import WCS\n",
    "from astropy.table import Table\n",
    "from astropy.io import ascii\n",
    "from matplotlib import pyplot as plt\n",
    "%matplotlib inline\n",
    "from scipy.stats import scoreatpercentile\n",
    "import glob\n",
    "\n",
    "homedir = os.getenv(\"HOME\")"
   ]
  },
  {
   "cell_type": "code",
   "execution_count": 19,
   "id": "94b8f79b",
   "metadata": {},
   "outputs": [],
   "source": [
    "#vfcut.fits for SNR>10 subsample, sga_cut.fits for PA,BA fixed\n",
    "\n",
    "vf = Table.read(homedir+'/vfcut.fits',format='ascii')\n",
    "dummycat = Table.read(homedir+'/dummycat.fits',format='ascii')"
   ]
  },
  {
   "cell_type": "code",
   "execution_count": 11,
   "id": "ab9875a4",
   "metadata": {},
   "outputs": [],
   "source": [
    "def four_panel_mosaic(index,sample=vf,dummycat=dummycat):\n",
    "    \n",
    "    galname = sample['VFID'][index]\n",
    "    objname = sample['prefix'][index]\n",
    "    #output_fits for vf, output_fits_fixed for sga\n",
    "    filename = glob.glob(homedir+'/output_fits/'+galname+'*.fits')[0]\n",
    "    \n",
    "    print(index)\n",
    "    ind = np.where(sample['VFID'] == galname)[0]\n",
    "    ind = int(ind)\n",
    "    \n",
    "    if vf['VFID'][ind] in dummycat['central galaxy']:\n",
    "        ncomp = len(np.where(dummycat['central galaxy'] == galname)[0])\n",
    "        pngname = objname+'-unwise-w3-{}Comp-galfit-out-conv.png'.format(ncomp+1)\n",
    "    else:\n",
    "        pngname = objname+'-unwise-w3-1Comp-galfit-out-conv.png'\n",
    "    \n",
    "    \n",
    "    image,h = fits.getdata(filename,1,header=True)\n",
    "    model = fits.getdata(filename,2)\n",
    "    residual = fits.getdata(filename,3)\n",
    "\n",
    "    wcs = WCS(h)\n",
    "\n",
    "    images = [image,model,residual,residual]\n",
    "    titles = ['image','model','residual (img stretch)','residual (res stretch)']\n",
    "\n",
    "    percentile1=.5\n",
    "    percentile2=99.5\n",
    "    p1residual=5\n",
    "    p2residual=99\n",
    "\n",
    "    v1 = [scoreatpercentile(image,percentile1),\n",
    "        scoreatpercentile(image,percentile1),\n",
    "        scoreatpercentile(image,percentile1),\n",
    "        scoreatpercentile(residual,p1residual)]\n",
    "\n",
    "    v2 = [scoreatpercentile(image,percentile2),\n",
    "        scoreatpercentile(image,percentile2),        \n",
    "        scoreatpercentile(image,percentile2),\n",
    "        scoreatpercentile(residual,p2residual)]\n",
    "\n",
    "    norms = [simple_norm(image,'asinh',max_percent=percentile2),\n",
    "            simple_norm(image,'asinh',max_percent=percentile2),\n",
    "            simple_norm(image,'asinh',max_percent=percentile2),\n",
    "            simple_norm(residual,'linear',max_percent=p2residual)]\n",
    "\n",
    "    plt.figure(figsize=(14,6))\n",
    "    plt.subplots_adjust(wspace=.0)\n",
    "    for i,im in enumerate(images):\n",
    "        plt.subplot(1,4,i+1,projection=wcs)\n",
    "        plt.imshow(im,origin='lower',vmin=v1[i],vmax=v2[i],norm=norms[i])\n",
    "        plt.xlabel('RA')\n",
    "        if i == 0:\n",
    "            plt.ylabel('DEC')\n",
    "        else:\n",
    "            plt.ylabel(' ')\n",
    "            ax = plt.gca()\n",
    "            ax.set_yticks([])     \n",
    "        plt.title(titles[i],fontsize=16)\n",
    "    \n",
    "    \n",
    "    plt.savefig(pngname)\n",
    "    plt.close()"
   ]
  },
  {
   "cell_type": "code",
   "execution_count": null,
   "id": "892610af",
   "metadata": {
    "scrolled": true
   },
   "outputs": [],
   "source": [
    "#output_mosaics for vf, output_mosaics_fixed for sga\n",
    "os.chdir(homedir+'/output_mosaics')\n",
    "\n",
    "for index in range(470,len(vf)):\n",
    "    four_panel_mosaic(index)"
   ]
  },
  {
   "cell_type": "code",
   "execution_count": 8,
   "id": "39d2339c",
   "metadata": {},
   "outputs": [
    {
     "data": {
      "text/plain": [
       "(array([412]),)"
      ]
     },
     "execution_count": 8,
     "metadata": {},
     "output_type": "execute_result"
    }
   ],
   "source": [
    "np.where(vf['VFID']=='VFID2171')"
   ]
  },
  {
   "cell_type": "code",
   "execution_count": null,
   "id": "2cbbb1e0",
   "metadata": {},
   "outputs": [],
   "source": [
    "#PA,BA fixed failure indices: 412,464\n",
    "#PA,BA free failure indices: 238,321,456,469\n",
    "\n",
    "#719"
   ]
  }
 ],
 "metadata": {
  "kernelspec": {
   "display_name": "Python 3",
   "language": "python",
   "name": "python3"
  },
  "language_info": {
   "codemirror_mode": {
    "name": "ipython",
    "version": 3
   },
   "file_extension": ".py",
   "mimetype": "text/x-python",
   "name": "python",
   "nbconvert_exporter": "python",
   "pygments_lexer": "ipython3",
   "version": "3.8.3"
  }
 },
 "nbformat": 4,
 "nbformat_minor": 5
}
