{
 "cells": [
  {
   "cell_type": "code",
   "execution_count": 2,
   "id": "ab3d0b68",
   "metadata": {},
   "outputs": [],
   "source": [
    "import numpy as np\n",
    "from matplotlib import pyplot as plt\n",
    "%matplotlib inline\n",
    "from astropy.table import Table\n",
    "from astropy.io import fits\n",
    "\n",
    "import os\n",
    "homedir=os.getenv(\"HOME\")"
   ]
  },
  {
   "cell_type": "code",
   "execution_count": 84,
   "id": "52fadd68",
   "metadata": {},
   "outputs": [],
   "source": [
    "#load current catalog\n",
    "lhs_cat = Table.read(homedir+'/Desktop/LHS_VirgoCatalog.fits')"
   ]
  },
  {
   "cell_type": "markdown",
   "id": "9768a43a",
   "metadata": {},
   "source": [
    "log(Mstar)\\\n",
    "log(SFR)\\\n",
    "MHI_to_Mstar\\\n",
    "The filament names for the things in filaments\\\n",
    "Distance from filament spine"
   ]
  },
  {
   "cell_type": "code",
   "execution_count": 56,
   "id": "8620cc5f",
   "metadata": {},
   "outputs": [],
   "source": [
    "#read a few catalogs containing relevant data\n",
    "path_to_v2 = homedir+'/Desktop/v2-20220820/'\n",
    "vfcat = Table.read(path_to_v2+'vf_v2_main.fits')\n",
    "legacyphot = Table.read(path_to_v2+'virgofilaments-v2-legacyphot.fits',hdu=2)\n",
    "magphys = Table.read(path_to_v2+'vf_v2_magphys_07-Jul-2022.fits')\n",
    "envcat = Table.read(path_to_v2+'vf_v2_environment.fits')\n",
    "a100 = Table.read(path_to_v2+'vf_v2_a100.fits')"
   ]
  },
  {
   "cell_type": "code",
   "execution_count": 85,
   "id": "d2fd9581",
   "metadata": {},
   "outputs": [],
   "source": [
    "radius = vfcat['radius']\n",
    "\n",
    "logsfr = magphys['logSFR']\n",
    "logmstar = magphys['logMstar']\n",
    "\n",
    "fil_dist2D = envcat['nearest_filament_dist_2D']\n",
    "fil_dist3D = envcat['nearest_filament_dist_3D']\n",
    "nearest_fil = envcat['filament']\n",
    "\n",
    "logMH = a100['logMH']\n",
    "MHI_to_Mstar = np.array((10**logMH)/(10**logmstar))"
   ]
  },
  {
   "cell_type": "code",
   "execution_count": 86,
   "id": "19b09058",
   "metadata": {},
   "outputs": [],
   "source": [
    "'''\n",
    "The reason for the non-zero values being close to zero is that the table gives log(MHI) = 0, for \n",
    "non-detections which then becomes 10^0 = 1; then, when we calculate 1/10^(Mstar), the result is a \n",
    "very small number. We encountered this as well when looking at smaller galaxies with CO and HI detections. \n",
    "In the cases where the ratio = 1, it happens to be that the galaxy also does not have a logMstar value \n",
    "(that is, 10^(logMHI) / 10^(logMstar) = 1/1 = 1. The remaining values seem to be relatively fine, or at least \n",
    "only a factor of 10 outside that range you mentioned earlier.\n",
    "very large ratios --> log(Mstar)~0. \n",
    "'''\n",
    "\n",
    "for n in range(len(MHI_to_Mstar)):\n",
    "        MHI_to_Mstar[n] = MHI_to_Mstar[n] if ((MHI[n]>0)&(MHI_to_Mstar[n]<10)&(MHI_to_Mstar[n]!=1)) else -999"
   ]
  },
  {
   "cell_type": "code",
   "execution_count": 87,
   "id": "a5740b4d",
   "metadata": {},
   "outputs": [
    {
     "data": {
      "text/plain": [
       "1816"
      ]
     },
     "execution_count": 87,
     "metadata": {},
     "output_type": "execute_result"
    }
   ],
   "source": [
    "len(MHI_to_Mstar[MHI_to_Mstar!=-999])"
   ]
  },
  {
   "cell_type": "code",
   "execution_count": 98,
   "id": "fc07cb46",
   "metadata": {},
   "outputs": [],
   "source": [
    "#lhs_cat.add_columns([logsfr,logmstar,fil_dist2D,fil_dist3D,nearest_fil,MHI_to_Mstar],\n",
    "#                    names=['logSFR','logMstar','nearest_fil_dist2D','nearest_fil_dist3D','nearest_filament',\n",
    "#                             'MHI_to_Mstar'])\n",
    "#lhs_cat.replace_column('MHI_to_Mstar',MHI_to_Mstar)"
   ]
  },
  {
   "cell_type": "code",
   "execution_count": 94,
   "id": "d8712a39",
   "metadata": {},
   "outputs": [],
   "source": [
    "lhs_cat.write(homedir+'/Desktop/LHS_VirgoCatalog.fits',overwrite=True)"
   ]
  },
  {
   "cell_type": "code",
   "execution_count": 95,
   "id": "a20fb4a6",
   "metadata": {},
   "outputs": [],
   "source": [
    "radius_flag = (radius>20) & (radius<87)\n",
    "lhs_cat_cut = lhs_cat[radius_flag]"
   ]
  },
  {
   "cell_type": "code",
   "execution_count": 97,
   "id": "d1118b4f",
   "metadata": {},
   "outputs": [
    {
     "data": {
      "text/html": [
       "<div><i>Table length=3172</i>\n",
       "<table id=\"table140599678788464\" class=\"table-striped table-bordered table-condensed\">\n",
       "<thead><tr><th>VFID</th><th>RA</th><th>DEC</th><th>SGX</th><th>SGY</th><th>SGZ</th><th>Vcosmic</th><th>pure_field</th><th>poor_group_memb</th><th>rich_group_memb</th><th>filament_memb</th><th>cluster_memb</th><th>logSFR</th><th>logMstar</th><th>nearest_fil_dist2D</th><th>nearest_fil_dist3D</th><th>nearest_filament</th><th>MHI_to_Mstar</th></tr></thead>\n",
       "<thead><tr><th>bytes8</th><th>float64</th><th>float64</th><th>float64</th><th>float64</th><th>float64</th><th>float64</th><th>bool</th><th>bool</th><th>bool</th><th>bool</th><th>bool</th><th>float64</th><th>float64</th><th>float64</th><th>float64</th><th>bytes40</th><th>float64</th></tr></thead>\n",
       "<tr><td>VFID0000</td><td>185.86877249999998</td><td>74.9522485</td><td>13.145689815736862</td><td>11.738032079989287</td><td>4.111198355924238</td><td>1809.6754122333089</td><td>False</td><td>False</td><td>True</td><td>False</td><td>False</td><td>-1.611721136540361</td><td>8.551205943747906</td><td>3.379527299081431</td><td>5.217677443566046</td><td>Bootes</td><td>-999.0</td></tr>\n",
       "<tr><td>VFID0001</td><td>182.208</td><td>74.9042778</td><td>7.90894905971585</td><td>7.017661982903995</td><td>2.284969213716576</td><td>1081.7584723176835</td><td>False</td><td>False</td><td>True</td><td>False</td><td>False</td><td>-0.9706162223147904</td><td>9.79049627696711</td><td>5.171323556709356</td><td>5.232772280613474</td><td>Leo_Minor</td><td>-999.0</td></tr>\n",
       "<tr><td>VFID0002</td><td>145.944663</td><td>74.8595778</td><td>24.57232008873139</td><td>18.236938715608805</td><td>2.303486373551084</td><td>3068.6982545259793</td><td>True</td><td>False</td><td>False</td><td>False</td><td>False</td><td>0.0867156639448825</td><td>10.293362554711445</td><td>14.782650818489234</td><td>14.915240996710157</td><td>Bootes</td><td>-999.0</td></tr>\n",
       "<tr><td>VFID0003</td><td>185.5730835</td><td>74.8383889</td><td>16.04972421363977</td><td>14.3805709158205</td><td>4.987924263296796</td><td>2211.9535611201745</td><td>False</td><td>False</td><td>True</td><td>False</td><td>False</td><td>-2.5415132362017934</td><td>9.581949658373318</td><td>5.840428989011135</td><td>5.990562912055835</td><td>Bootes</td><td>-999.0</td></tr>\n",
       "<tr><td>VFID0004</td><td>182.82775049999998</td><td>74.8082222</td><td>15.062039166171804</td><td>13.42946756799603</td><td>4.409443857800289</td><td>2065.5721196274976</td><td>False</td><td>False</td><td>True</td><td>False</td><td>False</td><td>-2.4046140191908583</td><td>9.254306332331286</td><td>5.008853600511673</td><td>5.504963104498067</td><td>Bootes</td><td>-999.0</td></tr>\n",
       "<tr><td>VFID0005</td><td>173.1341835</td><td>74.6275401</td><td>16.36887945443161</td><td>14.24733084177353</td><td>3.77071849313914</td><td>2202.600664358308</td><td>True</td><td>False</td><td>False</td><td>False</td><td>False</td><td>-0.8285660990569917</td><td>9.673020907128896</td><td>6.45054229250542</td><td>6.615030952002659</td><td>Bootes</td><td>-999.0</td></tr>\n",
       "<tr><td>...</td><td>...</td><td>...</td><td>...</td><td>...</td><td>...</td><td>...</td><td>...</td><td>...</td><td>...</td><td>...</td><td>...</td><td>...</td><td>...</td><td>...</td><td>...</td><td>...</td><td>...</td></tr>\n",
       "<tr><td>VFID6758</td><td>188.0404695</td><td>-1.0951296</td><td>-11.096609648054057</td><td>22.79396474888303</td><td>-2.573534521276666</td><td>2548.1810269029384</td><td>False</td><td>False</td><td>False</td><td>True</td><td>False</td><td>-1.8262311768633501</td><td>8.285107029566811</td><td>1.8286401531552958</td><td>1.8314384032145987</td><td>W-M_Sheet</td><td>-999.0</td></tr>\n",
       "<tr><td>VFID6760</td><td>216.287421</td><td>-1.1134636</td><td>-14.62988864912346</td><td>21.68716409171847</td><td>10.210036188443397</td><td>2808.22286721727</td><td>True</td><td>False</td><td>False</td><td>False</td><td>False</td><td>-2.6811022853725133</td><td>9.298416380061294</td><td>3.782609442770288</td><td>5.778298127375042</td><td>VirgoIII</td><td>-999.0</td></tr>\n",
       "<tr><td>VFID6763</td><td>212.90767350000002</td><td>-1.1578822</td><td>-8.808549810142928</td><td>13.569180188523097</td><td>5.2807587670034355</td><td>1701.7626564878558</td><td>False</td><td>True</td><td>False</td><td>False</td><td>False</td><td>0.0</td><td>0.0</td><td>2.2417094878432495</td><td>2.39880662531263</td><td>VirgoIII</td><td>-999.0</td></tr>\n",
       "<tr><td>VFID6765</td><td>212.180385</td><td>-1.1616482</td><td>-9.294318850284428</td><td>14.437582101966285</td><td>5.374729891608968</td><td>1799.2105525744469</td><td>True</td><td>False</td><td>False</td><td>False</td><td>False</td><td>-3.022413561996149</td><td>9.637289547678174</td><td>2.6701950621425925</td><td>3.080224142261742</td><td>VirgoIII</td><td>-999.0</td></tr>\n",
       "<tr><td>VFID6770</td><td>190.73862749999998</td><td>-1.2293804</td><td>-13.486639599767207</td><td>26.677692322485886</td><td>-1.6897882838801284</td><td>2994.0676341585367</td><td>True</td><td>False</td><td>False</td><td>False</td><td>False</td><td>0.0</td><td>0.0</td><td>2.1917874142168476</td><td>2.4043646538765944</td><td>NGC5353_4</td><td>-999.0</td></tr>\n",
       "<tr><td>VFID6775</td><td>175.9398405</td><td>-1.2766024</td><td>-7.3066119171159345</td><td>17.414428225304132</td><td>-5.949208177138929</td><td>1980.0049647830344</td><td>True</td><td>False</td><td>False</td><td>False</td><td>False</td><td>-2.175028538876307</td><td>7.208441356438567</td><td>4.013104129399967</td><td>4.942139919146674</td><td>W-M_Sheet</td><td>-999.0</td></tr>\n",
       "<tr><td>VFID6779</td><td>180.2962065</td><td>-1.2961195</td><td>-4.664287144328092</td><td>10.46500368374368</td><td>-2.709098239791039</td><td>1177.3321109115814</td><td>False</td><td>False</td><td>True</td><td>False</td><td>False</td><td>-0.638272163982407</td><td>8.820398522703982</td><td>6.164539912386863</td><td>6.335887900339839</td><td>VirgoIII</td><td>-999.0</td></tr>\n",
       "</table></div>"
      ],
      "text/plain": [
       "<Table length=3172>\n",
       "  VFID           RA            DEC     ... nearest_filament MHI_to_Mstar\n",
       " bytes8       float64        float64   ...     bytes40        float64   \n",
       "-------- ------------------ ---------- ... ---------------- ------------\n",
       "VFID0000 185.86877249999998 74.9522485 ...           Bootes       -999.0\n",
       "VFID0001            182.208 74.9042778 ...        Leo_Minor       -999.0\n",
       "VFID0002         145.944663 74.8595778 ...           Bootes       -999.0\n",
       "VFID0003        185.5730835 74.8383889 ...           Bootes       -999.0\n",
       "VFID0004 182.82775049999998 74.8082222 ...           Bootes       -999.0\n",
       "VFID0005        173.1341835 74.6275401 ...           Bootes       -999.0\n",
       "     ...                ...        ... ...              ...          ...\n",
       "VFID6758        188.0404695 -1.0951296 ...        W-M_Sheet       -999.0\n",
       "VFID6760         216.287421 -1.1134636 ...         VirgoIII       -999.0\n",
       "VFID6763 212.90767350000002 -1.1578822 ...         VirgoIII       -999.0\n",
       "VFID6765         212.180385 -1.1616482 ...         VirgoIII       -999.0\n",
       "VFID6770 190.73862749999998 -1.2293804 ...        NGC5353_4       -999.0\n",
       "VFID6775        175.9398405 -1.2766024 ...        W-M_Sheet       -999.0\n",
       "VFID6779        180.2962065 -1.2961195 ...         VirgoIII       -999.0"
      ]
     },
     "execution_count": 97,
     "metadata": {},
     "output_type": "execute_result"
    }
   ],
   "source": [
    "lhs_cat_cut"
   ]
  },
  {
   "cell_type": "code",
   "execution_count": 99,
   "id": "fd8d8402",
   "metadata": {},
   "outputs": [],
   "source": [
    "lhs_cat_cut.write(homedir+'/Desktop/LHS_VirgoCatalog_cut.fits')"
   ]
  },
  {
   "cell_type": "code",
   "execution_count": null,
   "id": "b5214e2e",
   "metadata": {},
   "outputs": [],
   "source": []
  }
 ],
 "metadata": {
  "kernelspec": {
   "display_name": "Python 3 (ipykernel)",
   "language": "python",
   "name": "python3"
  },
  "language_info": {
   "codemirror_mode": {
    "name": "ipython",
    "version": 3
   },
   "file_extension": ".py",
   "mimetype": "text/x-python",
   "name": "python",
   "nbconvert_exporter": "python",
   "pygments_lexer": "ipython3",
   "version": "3.8.13"
  }
 },
 "nbformat": 4,
 "nbformat_minor": 5
}
