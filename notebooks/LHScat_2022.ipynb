{
 "cells": [
  {
   "cell_type": "code",
   "execution_count": 1,
   "id": "ab3d0b68",
   "metadata": {},
   "outputs": [],
   "source": [
    "import numpy as np\n",
    "from matplotlib import pyplot as plt\n",
    "%matplotlib inline\n",
    "from astropy.table import Table\n",
    "from astropy.io import fits\n",
    "\n",
    "import os\n",
    "homedir=os.getenv(\"HOME\")"
   ]
  },
  {
   "cell_type": "code",
   "execution_count": 19,
   "id": "52fadd68",
   "metadata": {},
   "outputs": [],
   "source": [
    "#load current catalog\n",
    "lhs_cat = Table.read(homedir+'/Desktop/LHS_VirgoCatalog.fits')"
   ]
  },
  {
   "cell_type": "markdown",
   "id": "9768a43a",
   "metadata": {},
   "source": [
    "log(Mstar)\\\n",
    "log(SFR)\\\n",
    "MHI_to_Mstar\\\n",
    "The filament names for the things in filaments\\\n",
    "Distance from filament spine"
   ]
  },
  {
   "cell_type": "code",
   "execution_count": 20,
   "id": "8620cc5f",
   "metadata": {},
   "outputs": [],
   "source": [
    "#read a few catalogs containing relevant data\n",
    "path_to_v2 = homedir+'/Desktop/v2-20220820/'\n",
    "vfcat = Table.read(path_to_v2+'vf_v2_main.fits')\n",
    "legacyphot = Table.read(path_to_v2+'virgofilaments-v2-legacyphot.fits',hdu=2)\n",
    "magphys = Table.read(path_to_v2+'vf_v2_magphys_07-Jul-2022.fits')\n",
    "envcat = Table.read(path_to_v2+'vf_v2_environment.fits')\n",
    "a100 = Table.read(path_to_v2+'vf_v2_a100.fits')"
   ]
  },
  {
   "cell_type": "code",
   "execution_count": 21,
   "id": "d2fd9581",
   "metadata": {},
   "outputs": [],
   "source": [
    "radius = vfcat['radius']\n",
    "\n",
    "logsfr = magphys['logSFR']\n",
    "logmstar = magphys['logMstar']\n",
    "\n",
    "fil_dist2D = envcat['nearest_filament_dist_2D']\n",
    "fil_dist3D = envcat['nearest_filament_dist_3D']\n",
    "nearest_fil = envcat['filament']\n",
    "\n",
    "logMH = a100['logMH']\n",
    "MHI_to_Mstar = np.array((10**logMH)/(10**logmstar))"
   ]
  },
  {
   "cell_type": "code",
   "execution_count": 22,
   "id": "19b09058",
   "metadata": {},
   "outputs": [],
   "source": [
    "'''\n",
    "The reason for the non-zero values being close to zero is that the table gives log(MHI) = 0, for \n",
    "non-detections which then becomes 10^0 = 1; then, when we calculate 1/10^(Mstar), the result is a \n",
    "very small number. We encountered this as well when looking at smaller galaxies with CO and HI detections. \n",
    "In the cases where the ratio = 1, it happens to be that the galaxy also does not have a logMstar value \n",
    "(that is, 10^(logMHI) / 10^(logMstar) = 1/1 = 1. The remaining values seem to be relatively fine, or at least \n",
    "only a factor of 10 outside that range you mentioned earlier.\n",
    "very large ratios --> log(Mstar)~0. \n",
    "'''\n",
    "\n",
    "for n in range(len(MHI_to_Mstar)):\n",
    "        MHI_to_Mstar[n] = MHI_to_Mstar[n] if ((logMH[n]>0)&(MHI_to_Mstar[n]<10)&(MHI_to_Mstar[n]!=1)) else -999"
   ]
  },
  {
   "cell_type": "code",
   "execution_count": 23,
   "id": "a5740b4d",
   "metadata": {},
   "outputs": [
    {
     "data": {
      "text/plain": [
       "1825"
      ]
     },
     "execution_count": 23,
     "metadata": {},
     "output_type": "execute_result"
    }
   ],
   "source": [
    "len(MHI_to_Mstar[MHI_to_Mstar!=-999])"
   ]
  },
  {
   "cell_type": "code",
   "execution_count": 24,
   "id": "fc07cb46",
   "metadata": {},
   "outputs": [],
   "source": [
    "#lhs_cat.add_columns([logsfr,logmstar,fil_dist2D,fil_dist3D,nearest_fil,MHI_to_Mstar],\n",
    "#                    names=['logSFR','logMstar','nearest_fil_dist2D','nearest_fil_dist3D','nearest_filament',\n",
    "#                             'MHI_to_Mstar'])\n",
    "#lhs_cat.replace_column('MHI_to_Mstar',MHI_to_Mstar)"
   ]
  },
  {
   "cell_type": "code",
   "execution_count": 25,
   "id": "d8712a39",
   "metadata": {},
   "outputs": [],
   "source": [
    "lhs_cat.write(homedir+'/Desktop/LHS_VirgoCatalog.fits',overwrite=True)"
   ]
  },
  {
   "cell_type": "code",
   "execution_count": null,
   "id": "a20fb4a6",
   "metadata": {},
   "outputs": [],
   "source": [
    "radius_flag = (radius>20) & (radius<87)\n",
    "lhs_cat_cut = lhs_cat[radius_flag]"
   ]
  },
  {
   "cell_type": "code",
   "execution_count": null,
   "id": "d1118b4f",
   "metadata": {
    "tags": []
   },
   "outputs": [],
   "source": [
    "lhs_cat_cut"
   ]
  },
  {
   "cell_type": "code",
   "execution_count": 99,
   "id": "fd8d8402",
   "metadata": {},
   "outputs": [],
   "source": [
    "lhs_cat_cut.write(homedir+'/Desktop/LHS_VirgoCatalog_cut.fits')"
   ]
  },
  {
   "cell_type": "markdown",
   "id": "f76f7aa9-1f44-4a70-8e60-45397b39d271",
   "metadata": {},
   "source": [
    "-----"
   ]
  },
  {
   "cell_type": "code",
   "execution_count": 31,
   "id": "bfc7aafd-a8cf-4dd4-aaba-ee05317b605b",
   "metadata": {},
   "outputs": [],
   "source": [
    "lhs_cat_cut = Table.read(homedir+'/Downloads/LHS_VirgoCatalog_cut.fits')"
   ]
  },
  {
   "cell_type": "code",
   "execution_count": null,
   "id": "100430f7-2deb-4441-b06a-0fa21792c241",
   "metadata": {},
   "outputs": [],
   "source": []
  }
 ],
 "metadata": {
  "kernelspec": {
   "display_name": "Python 3 (ipykernel)",
   "language": "python",
   "name": "python3"
  },
  "language_info": {
   "codemirror_mode": {
    "name": "ipython",
    "version": 3
   },
   "file_extension": ".py",
   "mimetype": "text/x-python",
   "name": "python",
   "nbconvert_exporter": "python",
   "pygments_lexer": "ipython3",
   "version": "3.8.13"
  }
 },
 "nbformat": 4,
 "nbformat_minor": 5
}
