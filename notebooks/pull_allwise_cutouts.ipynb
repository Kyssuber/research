{
 "cells": [
  {
   "cell_type": "code",
   "execution_count": 5,
   "metadata": {},
   "outputs": [],
   "source": [
    "import os\n",
    "import csv\n",
    "\n",
    "import gzip\n",
    "import shutil\n",
    "\n",
    "from astropy.table import Table\n",
    "from matplotlib import pyplot as plt\n",
    "%matplotlib inline\n",
    "import os\n",
    "import numpy as np\n",
    "import glob"
   ]
  },
  {
   "cell_type": "code",
   "execution_count": 3,
   "metadata": {},
   "outputs": [],
   "source": [
    "#working with sample_main.fits as a test\n",
    "homedir = os.getenv(\"HOME\")\n",
    "vf = Table.read(homedir+'/github/research/sample_main.fits')\n",
    "\n",
    "dec = vf['DEC']\n",
    "ra = vf['RA']\n",
    "size = vf['radius']    #arcsec\n",
    "name = vf['prefix']"
   ]
  },
  {
   "cell_type": "code",
   "execution_count": 10,
   "metadata": {},
   "outputs": [],
   "source": [
    "#example\n",
    "\n",
    "\n",
    "dec_ex = dec[0]\n",
    "ra_ex = ra[0]\n",
    "size_ex = size[0]\n",
    "name_ex = name[0]\n",
    "\n",
    "#the following yields a .csv file containing allwise four (w1-w4) data rows for the given coords.\n",
    "irsa_call = '\\\"https://irsa.ipac.caltech.edu/ibe/search/wise/allwise/p3am_cdd?POS=' + str(ra_ex) + ',' + str(dec_ex) + '&ct=csv&mcen\\\"'\n",
    "filename = homedir+'/github' + '/allwise.csv'\n",
    "if os.path.exists(filename):\n",
    "    os.remove(filename)\n",
    "\n",
    "#copies .csv to pathname (i.e., filename)\n",
    "os.system(\"curl -o %s %s\" % (filename, irsa_call))\n",
    "\n",
    "#this .csv information is then extractable to acquire the desired .fits cutouts, like so:\n",
    "outdir = homedir+'/github/allwise_cutouts/'\n",
    "\n",
    "with open(filename) as csvfile:\n",
    "    reader = csv.DictReader(csvfile)\n",
    "    for line in reader:\n",
    "        band = line['band']\n",
    "        if int(band) != 3:\n",
    "            pass\n",
    "        else:\n",
    "            coadd_id = line['coadd_id']\n",
    "            coaddgrp = coadd_id[:2]\n",
    "            coadd_ra = coadd_id[:4]\n",
    "            #int for intensity, unc for uncertainty; only pulls w3 files\n",
    "            filename_int = coadd_id + '-w3'+'-int-3.fits.gz'\n",
    "            filename_unc = coadd_id + '-w3'+'-unc-3.fits.gz'\n",
    "            #url dongxi\n",
    "            irsa_url = \"%s/%s/%s/\" % (coaddgrp, coadd_ra, coadd_id)\n",
    "            irsa_url_int = irsa_url + filename_int\n",
    "            irsa_url_unc = irsa_url + filename_unc\n",
    "            irsa_url_int = '\\\"https://irsa.ipac.caltech.edu/ibe/data/wise/allwise/p3am_cdd/' + irsa_url_int +'?center=' + str(ra_ex) + ',' + str(dec_ex) +'&size=' + str(size_ex*2) + 'arcsec' + '\\\"'\n",
    "            irsa_url_unc = '\\\"https://irsa.ipac.caltech.edu/ibe/data/wise/allwise/p3am_cdd/' + irsa_url_unc +'?center=' + str(ra_ex) + ',' + str(dec_ex) +'&size=' + str(size_ex*2) + 'arcsec' + '\\\"'\n",
    "            filename_int = outdir + filename_int\n",
    "            filename_unc = outdir + filename_unc\n",
    "            #grab int .gz\n",
    "            os.system(\"curl -o %s %s\" % (filename_int, irsa_url_int))\n",
    "            #rename file\n",
    "            name_desired_int = outdir + str(name_ex) + '-int.fits.gz'\n",
    "            os.rename(filename_int, name_desired_int)\n",
    "            #grab unc .gz\n",
    "            os.system(\"curl -o %s %s\" % (filename_unc, irsa_url_unc))\n",
    "            #rename file\n",
    "            name_desired_unc = outdir + str(name_ex) + '-unc.fits.gz'\n",
    "            os.rename(filename_unc, name_desired_unc)"
   ]
  },
  {
   "cell_type": "code",
   "execution_count": 13,
   "metadata": {},
   "outputs": [],
   "source": [
    "#decompress resulting gzip files (from Stackoverflow)\n",
    "\n",
    "#int, name_desired_int, name_desired_int_nogz\n",
    "name_desired_int_nogz = outdir + str(name_ex) + '-int.fits'\n",
    "with gzip.open(name_desired_int,'rb') as f_in:\n",
    "    with open(name_desired_int_nogz,'wb') as f_out:\n",
    "        shutil.copyfileobj(f_in,f_out)\n",
    "        \n",
    "#unc, name_desired_unc, name_desired_unc_nogz\n",
    "name_desired_unc_nogz = outdir + str(name_ex) + '-unc.fits'\n",
    "with gzip.open(name_desired_unc,'rb') as f_in:\n",
    "    with open(name_desired_unc_nogz,'wb') as f_out:\n",
    "        shutil.copyfileobj(f_in,f_out)"
   ]
  },
  {
   "cell_type": "markdown",
   "metadata": {},
   "source": [
    "### Näschste zeit:\n",
    "### 1. learn how to unzip .gz files using a python command $\\checkmark$\n",
    "### 2. create 'loop' function using the above, perhaps incorporate into rungalfit.py script (both local and remote versions) $\\checkmark$"
   ]
  },
  {
   "cell_type": "code",
   "execution_count": 16,
   "metadata": {},
   "outputs": [],
   "source": [
    "#lastly, the function itself. I added the above to my run_galfit.py routine, so the remaining task \n",
    "#entails a good ol' test."
   ]
  },
  {
   "cell_type": "code",
   "execution_count": 17,
   "metadata": {},
   "outputs": [],
   "source": [
    "%run ~/github/research/run_galfit.py"
   ]
  },
  {
   "cell_type": "code",
   "execution_count": 20,
   "metadata": {},
   "outputs": [],
   "source": [
    "galaxy_sample = vf[0:10]\n",
    "for n in range(0,len(galaxy_sample)):\n",
    "    g = galaxy(galaxy_sample['RA'][n], galaxy_sample['DEC'][n],\n",
    "                      galaxy_sample['radius'][n], name = galaxy_sample['prefix'][n], band='3')\n",
    "    g.get_allwise_image()\n",
    "#the one qualm I possess relates to the extraneous .txt files that appear in the galfit/research directory,\n",
    "#which I can simply manually delete if I am only wanting the allwise .fits cutouts. otherwise, I should be sure\n",
    "#that I change directories accordingly so ALL GALFIT output is ushered into the desired spot."
   ]
  },
  {
   "cell_type": "markdown",
   "metadata": {},
   "source": [
    "-------\n",
    "## Scrap."
   ]
  },
  {
   "cell_type": "markdown",
   "metadata": {},
   "source": [
    "Example: Search for ALLWISE images within 10 arcseconds of ra,dec = (19.005875, -5.084472). Return the result as in comma-separated value format.\n",
    "\n",
    "wget -O example1.csv \"https://irsa.ipac.caltech.edu/SIA?COLLECTION=wise_allwise&POS=circle+-164.7+-5.8+0.002777&RESPONSEFORMAT=CSV\"\n",
    "\n",
    "This will get you a CSV file listing the metadata for all the images that match your search criteria.\n",
    "\n",
    "One of the columns will be “access_url”, which will have values like: https://irsa.ipac.caltech.edu/ibe/data/wise/allwise/p3am_cdd/19/1959/1959m061_ac51/1959m061_ac51-w3-cov-3.fits.gz\n",
    "\n",
    "Then, if you want a cutout of that images, append the “center” and “size” parameters, so you have something like this: https://irsa.ipac.caltech.edu/ibe/data/wise/allwise/p3am_cdd/03/0390/0390p605_ac51/0390p605_ac51-w1-int-3.fits?center=39.000655,60.577778&size=200pix\n",
    "\n",
    "Another tip: You can make the search position radius = 0. \n",
    "\n",
    "The resulting CSV list will include coverage, intensity, and uncertainty images for each WISE band. You can either parse the CSV file to get the images you want, or you can set the BAND. In any case, you will have to parse the file to find the URL of the intensity map versus the coverage map."
   ]
  },
  {
   "cell_type": "raw",
   "metadata": {},
   "source": [
    "def get_wise_image(self,makeplots=False):\n",
    "     '''\n",
    "     GOAL: Get the unWISE image from the unWISE catalog\n",
    "\n",
    "     INPUT: nsaid used to grab unwise image information\n",
    "\n",
    "     OUTPUT: Name of file to retrieve from\n",
    "\n",
    "     '''\n",
    "     baseurl = 'http://unwise.me/cutout_fits?version=allwise'\n",
    "     imsize = self.radius*2\n",
    "\n",
    "     imagenames,weightnames,multiframe = cutouts.get_unwise_image(self.ra,self.dec,galid=self.galname,pixscale=1,imsize=self.radius*2,bands=self.band,makeplots=makeplots,subfolder=None)\n",
    "\n",
    "     self.image = imagenames[0]\n",
    "\n",
    "     self.sigma_image = weightnames[0]\n",
    "\n",
    "     # read in image and get image size\n",
    "\n",
    "     temp = fits.getdata(self.image)\n",
    "     print(temp.shape)\n",
    "     self.ximagesize,self.yimagesize = temp.shape"
   ]
  }
 ],
 "metadata": {
  "kernelspec": {
   "display_name": "Python 3",
   "language": "python",
   "name": "python3"
  },
  "language_info": {
   "codemirror_mode": {
    "name": "ipython",
    "version": 3
   },
   "file_extension": ".py",
   "mimetype": "text/x-python",
   "name": "python",
   "nbconvert_exporter": "python",
   "pygments_lexer": "ipython3",
   "version": "3.8.3"
  }
 },
 "nbformat": 4,
 "nbformat_minor": 4
}
