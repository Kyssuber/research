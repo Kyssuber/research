{
 "cells": [
  {
   "cell_type": "code",
   "execution_count": 54,
   "id": "5c73798d-8352-4792-a0c3-7c0595948eae",
   "metadata": {},
   "outputs": [],
   "source": [
    "import numpy as np\n",
    "from matplotlib import pyplot as plt\n",
    "%matplotlib inline\n",
    "from astropy.io import fits\n",
    "from photutils.aperture import aperture_photometry\n",
    "from photutils.aperture import CircularAperture\n",
    "\n",
    "import os\n",
    "homedir=os.getenv('HOME')"
   ]
  },
  {
   "cell_type": "code",
   "execution_count": 50,
   "id": "96d28aaa-42d8-4126-9fe4-7d1dbfb1b86b",
   "metadata": {},
   "outputs": [],
   "source": [
    "#display psf, GALFIT output parameters\n",
    "\n",
    "psf = fits.getdata(homedir+'/psf_test/NGC5719-custom-psf-W3.fits.fz',header=True)\n",
    "psf_im = psf[0]\n",
    "psf_header = psf[1]"
   ]
  },
  {
   "cell_type": "code",
   "execution_count": 93,
   "id": "6e33e7c2-c39e-4fa3-a05e-8b20971ca95d",
   "metadata": {},
   "outputs": [
    {
     "data": {
      "text/plain": [
       "<matplotlib.image.AxesImage at 0x7f9ec0fda130>"
      ]
     },
     "execution_count": 93,
     "metadata": {},
     "output_type": "execute_result"
    },
    {
     "data": {
      "image/png": "[encoded data removed]",
      "text/plain": [
       "<Figure size 432x288 with 1 Axes>"
      ]
     },
     "metadata": {
      "needs_background": "light"
     },
     "output_type": "display_data"
    }
   ],
   "source": [
    "plt.imshow(psf_im[150:175,150:175],origin='lower')\n",
    "#plt.imshow(psf_im,origin='lower')"
   ]
  },
  {
   "cell_type": "code",
   "execution_count": 94,
   "id": "c085087b-805a-477d-9d54-46978da9f5ff",
   "metadata": {},
   "outputs": [
    {
     "data": {
      "text/plain": [
       "XTENSION= 'IMAGE   '           / IMAGE extension                                \n",
       "BITPIX  =                  -32 / Bits per pixel                                 \n",
       "NAXIS   =                    2 / Number of axes                                 \n",
       "NAXIS1  =                  300 / Length of data axis 1                          \n",
       "NAXIS2  =                  300 / Length of data axis 2                          \n",
       "OBJECT  = 'model   '           / Component type                                 \n",
       "COMMENT ========== GALFIT Input Parameters ==========                           \n",
       "INITFILE= 'VFID6056-NGC4289-galfit.input.1Comp' / GALFIT input file             \n",
       "DATAIN  = '/Users/k215c316/psf_test/NGC5719-custom-psf-W3.fits.fz' / Input data \n",
       "SIGMA   = 'none    '           / Input sigma image                              \n",
       "PSF     = '        '           / Convolution PSF and kernel                     \n",
       "CONSTRNT= 'none    '           / Parameter constraint file                      \n",
       "MASK    = 'none    '           / Input mask image                               \n",
       "FITSECT = '[1:300,1:300]'      / Image section fitted                           \n",
       "CONVBOX = '300, 300'           / Convolution box size                           \n",
       "MAGZPT  =                 22.5 / Magnitude zeropoint                            \n",
       "COMMENT ========== GALFIT Final Parameters ==========                           \n",
       "COMP_1  = 'sersic  '           / Component type                                 \n",
       "1_XC    = '163.0000 +/- 0.0024' / X center [pixel]                              \n",
       "1_YC    = '163.0000 +/- 0.0025' / Y center [pixel]                              \n",
       "1_MAG   = '22.7020 +/- 0.0013' / Integrated magnitude [mag]                     \n",
       "1_RE    = '2.2320 +/- 0.0038'  / Effective radius Re [pixels]                   \n",
       "1_N     = '1.3954 +/- 0.0035'  / Sersic index                                   \n",
       "1_AR    = '0.9422 +/- 0.0015'  / Axis ratio (b/a)                               \n",
       "1_PA    = '10.5666 +/- 1.1279' / Position Angle (PA) [degrees: Up=0, Left=90]   \n",
       "COMMENT ------------------------------------------------------------------------\n",
       "COMP_2  = 'sky     '           / Component type                                 \n",
       "2_XC    = '[150.5000]'         / X center [pixel]                               \n",
       "2_YC    = '[150.5000]'         / Y center [pixel]                               \n",
       "2_SKY   = '4.329e-07 +/- 8.304e-10' / Sky background [ADUs]                     \n",
       "2_DSDX  = '[0.000e+00]'        / x sky gradient [ADUs]                          \n",
       "2_DSDY  = '[0.000e+00]'        / y sky gradient [ADUs]                          \n",
       "COMMENT ------------------------------------------------------------------------\n",
       "FLAGS   = 'A-6 H-3 H-4 H-1 A-2 A-4 I-2 A-5 ' / See `galfit -help' for details.  \n",
       "COMMENT ------------------------------------------------------------------------\n",
       "CHISQ   =     1.35060265883633 / Chi^2 of fit                                   \n",
       "NDOF    =                89992 / Degrees of freedom                             \n",
       "NFREE   =                    8 / Number of free parameters                      \n",
       "NFIX    =                    2 / Number of fixed parameters                     \n",
       "CHI2NU  =         1.500803E-05 / Reduced Chi^2                                  \n",
       "LOGFILE = 'galfit.01'          / Output logfile                                 \n",
       "COMMENT =============================================                           \n",
       "COMMENT                                                                         "
      ]
     },
     "execution_count": 94,
     "metadata": {},
     "output_type": "execute_result"
    }
   ],
   "source": [
    "psf_output=fits.open(homedir+'/psf_test/psf-galfit-out.fits')\n",
    "psf_output[2].header"
   ]
  },
  {
   "cell_type": "markdown",
   "id": "90b49aa6-f50b-4713-bf2f-e6c2fd8795e5",
   "metadata": {},
   "source": [
    "-----"
   ]
  },
  {
   "cell_type": "code",
   "execution_count": 97,
   "id": "00995ead-d1dc-4c1a-969c-c24b9418c40f",
   "metadata": {},
   "outputs": [],
   "source": [
    "#aperture photometry\n",
    "enc_flux = np.zeros(1000)\n",
    "radii=np.linspace(1,300,1000)\n",
    "\n",
    "for i in range(1000):\n",
    "    aperture=CircularAperture((psf_im.shape[0]/2,psf_im.shape[1]/2),r=radii[i])\n",
    "    table = aperture_photometry(psf_im,aperture)\n",
    "    enc_flux[i] = table['aperture_sum']"
   ]
  },
  {
   "cell_type": "code",
   "execution_count": 98,
   "id": "7b6b9500-cf1d-43e4-aeab-28bfda89d7bd",
   "metadata": {},
   "outputs": [
    {
     "data": {
      "text/plain": [
       "(0.0, 90.0)"
      ]
     },
     "execution_count": 98,
     "metadata": {},
     "output_type": "execute_result"
    },
    {
     "data": {
      "image/png": "[encoded data removed]",
      "text/plain": [
       "<Figure size 504x360 with 1 Axes>"
      ]
     },
     "metadata": {
      "needs_background": "light"
     },
     "output_type": "display_data"
    }
   ],
   "source": [
    "plt.figure(figsize=(7,5))\n",
    "plt.scatter(radii,enc_flux,color='red',s=15)\n",
    "plt.axhline(1,color='black',alpha=0.3)\n",
    "plt.xlabel('Radius Centered at Image Center (px)',fontsize=15)\n",
    "plt.ylabel('Total Flux Fraction',fontsize=15)\n",
    "plt.title('WISE PSF Aperture Photometry',fontsize=16)\n",
    "\n",
    "plt.xlim(0,90)"
   ]
  },
  {
   "cell_type": "code",
   "execution_count": null,
   "id": "123ca290-1c04-412c-9200-6aeecb47a779",
   "metadata": {},
   "outputs": [],
   "source": []
  }
 ],
 "metadata": {
  "kernelspec": {
   "display_name": "Python 3 (ipykernel)",
   "language": "python",
   "name": "python3"
  },
  "language_info": {
   "codemirror_mode": {
    "name": "ipython",
    "version": 3
   },
   "file_extension": ".py",
   "mimetype": "text/x-python",
   "name": "python",
   "nbconvert_exporter": "python",
   "pygments_lexer": "ipython3",
   "version": "3.8.13"
  }
 },
 "nbformat": 4,
 "nbformat_minor": 5
}
