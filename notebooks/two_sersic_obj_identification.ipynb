{
 "cells": [
  {
   "cell_type": "code",
   "execution_count": 1,
   "id": "459de00e",
   "metadata": {},
   "outputs": [],
   "source": [
    "import numpy as np\n",
    "from astropy.io import ascii\n",
    "from astropy.table import Table\n",
    "from matplotlib import pyplot as plt\n",
    "%matplotlib inline\n",
    "import os"
   ]
  },
  {
   "cell_type": "code",
   "execution_count": 12,
   "id": "8e82e31c",
   "metadata": {},
   "outputs": [],
   "source": [
    "homedir = os.getenv(\"HOME\")\n",
    "t = Table.read(homedir+'/github/vfcut.fits',format='ascii')\n",
    "t_full = Table.read(homedir+'/Desktop/v1-20210308/vf_north_v1_main.fits')"
   ]
  },
  {
   "cell_type": "markdown",
   "id": "ec310bd3",
   "metadata": {},
   "source": [
    "## This notebook aims to automate the identification of cutouts with 2+ sersic objects, with \"proximity\" defined as the galaxies such that their D25$\\times$2.5 apertures intersect. I suppose the first task is to generate an array of each galaxy's D25$\\times$2.5 (in arcseconds)."
   ]
  },
  {
   "cell_type": "code",
   "execution_count": 39,
   "id": "b84d563f",
   "metadata": {},
   "outputs": [],
   "source": [
    "r25 = t['radius']\n",
    "d25 = r25*2\n",
    "d25_times2 = d25*2"
   ]
  },
  {
   "cell_type": "markdown",
   "id": "b25affb3",
   "metadata": {},
   "source": [
    "## Isolate RA and DEC arrays.\n",
    "(When switching to parent sample, replace \"t\" with \"t_full.\" Vice versa for subsample.)"
   ]
  },
  {
   "cell_type": "code",
   "execution_count": 40,
   "id": "6cf9d5dc",
   "metadata": {},
   "outputs": [],
   "source": [
    "ra = t['RA']\n",
    "dec = t['DEC']\n",
    "galname = t['VFID']"
   ]
  },
  {
   "cell_type": "code",
   "execution_count": 16,
   "id": "1fcb3556",
   "metadata": {},
   "outputs": [],
   "source": [
    "#  idea uno\n",
    "#  take first (ra,dec). subtract from every other (ra,dec). If coordinate is within the coords enclosed\n",
    "#  by the 2*D25 aperture, then second sersic object is found. Otherwise, nein. \n",
    "\n",
    "#  idea dos\n",
    "#  find distance between (ra1,dec1) and (ra2,dec2), applying a trigonometric approximation (i.e., distances\n",
    "#  are linear). Convert to arcseconds (or convert 2*D25 to degrees). If distance < 2*D25 of central galaxy, \n",
    "#  dingdingding.\n",
    "\n",
    "# I prefer idea dos."
   ]
  },
  {
   "cell_type": "markdown",
   "id": "2314c310",
   "metadata": {},
   "source": [
    "##  Find distance between (ra1,dec1) and (ra2,dec2), applying a trigonometric approximation (i.e., distances are linear). Convert to arcseconds (or convert 2$\\times$D25 to degrees). If distance < 2$\\times$D25 of central galaxy, dingdingding. Add to dictionary."
   ]
  },
  {
   "cell_type": "code",
   "execution_count": 92,
   "id": "b3d8af6d",
   "metadata": {},
   "outputs": [],
   "source": [
    "group_flag = np.zeros(len(t))\n",
    "counter=0\n",
    "group_counter=0\n",
    "group_dict = {}\n",
    "\n",
    "for i in range(0,len(t)):\n",
    "    \n",
    "    ra1 = ra[i]\n",
    "    dec1 = dec[i]\n",
    "    galname1 = galname[i]\n",
    "    d25_2temp = d25_times2[i]                                    #d25 * 2\n",
    "    #assign empty list to group key\n",
    "    group_dict['group{}'.format(group_counter)] = []\n",
    "    \n",
    "    for n in range(0,len(t)):\n",
    "        \n",
    "        ra2 = ra[n]\n",
    "        dec2 = dec[n]\n",
    "        galname2 = galname[n]\n",
    "        dist = np.sqrt((ra1-ra2)**2 + (dec1-dec2)**2)\n",
    "        dist = dist*3600.                                        #deg to arcsec\n",
    "        \n",
    "        if (int(dist) == 0) | (dist > d25_2temp):\n",
    "            continue\n",
    "        \n",
    "        \n",
    "        if (dist < d25_2temp):    \n",
    "            if group_counter != 0:\n",
    "                prev_counter = int(group_counter)-1\n",
    "            else: \n",
    "                prev_counter = 0\n",
    "            \n",
    "            #tidying the below if statements with variable names\n",
    "            curr_item = group_dict['group{}'.format(group_counter)]\n",
    "            prev_item = group_dict['group{}'.format(prev_counter)]\n",
    "            \n",
    "            #if t[i] is not in the current group, add the galaxy.\n",
    "            if (galname1 not in curr_item) & (galname1 not in prev_item):\n",
    "                group_dict['group{}'.format(group_counter)].append(galname1)\n",
    "            \n",
    "            #if t[n] is not in the current group, add the galaxy.\n",
    "            if (galname2 not in curr_item) & (galname2 not in prev_item):\n",
    "                group_dict['group{}'.format(group_counter)].append(galname2)\n",
    "    \n",
    "    #if the current group consists of an empty list, remove the item (will be reassigned above)\n",
    "    if str(group_dict['group{}'.format(group_counter)]) == '[]':\n",
    "        group_dict.pop('group{}'.format(group_counter), None) \n",
    "    #if galaxies populate the list, then raise the group counter by one to prepare for the next group\n",
    "    else:\n",
    "        group_counter+=1"
   ]
  },
  {
   "cell_type": "code",
   "execution_count": 93,
   "id": "b9a27232",
   "metadata": {
    "scrolled": false
   },
   "outputs": [
    {
     "data": {
      "text/plain": [
       "{'group0': ['VFID0481', 'VFID0483'],\n",
       " 'group1': ['VFID1548', 'VFID1552'],\n",
       " 'group2': ['VFID1791', 'VFID1794'],\n",
       " 'group3': ['VFID1863', 'VFID1864'],\n",
       " 'group4': ['VFID1935', 'VFID1936'],\n",
       " 'group5': ['VFID1961', 'VFID1962'],\n",
       " 'group6': ['VFID2068', 'VFID2075', 'VFID2076'],\n",
       " 'group7': ['VFID2371', 'VFID2372'],\n",
       " 'group8': ['VFID2667', 'VFID2669'],\n",
       " 'group9': ['VFID2672', 'VFID2679'],\n",
       " 'group10': ['VFID2726', 'VFID2729'],\n",
       " 'group11': ['VFID2762', 'VFID2766'],\n",
       " 'group12': ['VFID3554', 'VFID3543', 'VFID3549'],\n",
       " 'group13': ['VFID3708', 'VFID3711'],\n",
       " 'group14': ['VFID3860', 'VFID3854'],\n",
       " 'group15': ['VFID3862', 'VFID3872'],\n",
       " 'group16': ['VFID3953', 'VFID3960'],\n",
       " 'group17': ['VFID4180', 'VFID4182'],\n",
       " 'group18': ['VFID4256', 'VFID4258'],\n",
       " 'group19': ['VFID4302', 'VFID4305'],\n",
       " 'group20': ['VFID4508', 'VFID4468', 'VFID4542'],\n",
       " 'group21': ['VFID4525', 'VFID4547'],\n",
       " 'group22': ['VFID4567', 'VFID4514', 'VFID4584', 'VFID4646', 'VFID4667'],\n",
       " 'group23': ['VFID4660', 'VFID4682', 'VFID4696'],\n",
       " 'group24': ['VFID4737', 'VFID4747'],\n",
       " 'group25': ['VFID4861', 'VFID4869'],\n",
       " 'group26': ['VFID4923', 'VFID4928'],\n",
       " 'group27': ['VFID4977', 'VFID4978'],\n",
       " 'group28': ['VFID4980', 'VFID4969'],\n",
       " 'group29': ['VFID5432', 'VFID5414', 'VFID5467', 'VFID5492'],\n",
       " 'group30': ['VFID5536', 'VFID5525'],\n",
       " 'group31': ['VFID6035', 'VFID6050'],\n",
       " 'group32': ['VFID6098', 'VFID6094'],\n",
       " 'group33': ['VFID6104', 'VFID6112'],\n",
       " 'group34': ['VFID6438', 'VFID6426'],\n",
       " 'group35': ['VFID6581', 'VFID6579']}"
      ]
     },
     "execution_count": 93,
     "metadata": {},
     "output_type": "execute_result"
    }
   ],
   "source": [
    "group_dict"
   ]
  },
  {
   "cell_type": "markdown",
   "id": "dd653c12",
   "metadata": {},
   "source": [
    "### Below is Scrap.\n",
    "-------"
   ]
  },
  {
   "cell_type": "code",
   "execution_count": 84,
   "id": "ef5c6712",
   "metadata": {},
   "outputs": [],
   "source": [
    "#arranging all group items in list, per key, into numerical order...if doing so is desired. I reckon not.\n",
    "for i in range(0,len(group_dict)):\n",
    "    g = group_dict['group{}'.format(i)]\n",
    "    g.sort()"
   ]
  },
  {
   "cell_type": "code",
   "execution_count": 85,
   "id": "4619ec24",
   "metadata": {},
   "outputs": [],
   "source": [
    "#an alternative approach to removing duplicates (which, fortunately, tend to be consecutive)\n",
    "for i in range(0,len(group_dict)):\n",
    "    try:\n",
    "        gal_list_1 = group_dict['group{}'.format(i)]\n",
    "        gal_list_2 = group_dict['group{}'.format(i+1)]\n",
    "        gal = gal_list_1[1]\n",
    "        if (gal_list_1 == gal_list_2) | (gal in group_dict['group{}'.format(i+1)]):\n",
    "            group_dict.pop('group{}'.format(i+1), None)\n",
    "            \n",
    "    except:\n",
    "            continue\n",
    "\n",
    "#and reassign group numbers (because group0, group1, usw. is computationally and aesthetically desirable)...\n",
    "g_new = []\n",
    "g_old = list(group_dict.keys())\n",
    "for i in range(0,len(group_dict)):\n",
    "    g_new.append('group{}'.format(i))\n",
    "    group_dict[g_new[i]] = group_dict.pop(g_old[i])"
   ]
  }
 ],
 "metadata": {
  "kernelspec": {
   "display_name": "Python 3",
   "language": "python",
   "name": "python3"
  },
  "language_info": {
   "codemirror_mode": {
    "name": "ipython",
    "version": 3
   },
   "file_extension": ".py",
   "mimetype": "text/x-python",
   "name": "python",
   "nbconvert_exporter": "python",
   "pygments_lexer": "ipython3",
   "version": "3.8.3"
  }
 },
 "nbformat": 4,
 "nbformat_minor": 5
}
